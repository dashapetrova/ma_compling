{
  "nbformat": 4,
  "nbformat_minor": 0,
  "metadata": {
    "colab": {
      "name": "Embeddings.ipynb",
      "provenance": [],
      "collapsed_sections": []
    },
    "kernelspec": {
      "display_name": "Python 3",
      "language": "python",
      "name": "python3"
    },
    "language_info": {
      "codemirror_mode": {
        "name": "ipython",
        "version": 3
      },
      "file_extension": ".py",
      "mimetype": "text/x-python",
      "name": "python",
      "nbconvert_exporter": "python",
      "pygments_lexer": "ipython3",
      "version": "3.6.5"
    }
  },
  "cells": [
    {
      "cell_type": "markdown",
      "metadata": {
        "id": "43TMo1r-q_m2"
      },
      "source": [
        "Векторные представления"
      ]
    },
    {
      "cell_type": "code",
      "metadata": {
        "colab": {
          "base_uri": "https://localhost:8080/"
        },
        "id": "GUrH5qWfwbdr",
        "outputId": "c312fce3-1992-47ff-b149-82904312d8fb"
      },
      "source": [
        "from google.colab import drive\n",
        "drive.mount('/content/gdrive') #, force_remount=True"
      ],
      "execution_count": 120,
      "outputs": [
        {
          "output_type": "stream",
          "text": [
            "Drive already mounted at /content/gdrive; to attempt to forcibly remount, call drive.mount(\"/content/gdrive\", force_remount=True).\n"
          ],
          "name": "stdout"
        }
      ]
    },
    {
      "cell_type": "code",
      "metadata": {
        "id": "v7xokwzggWQy"
      },
      "source": [
        "import os\n",
        "os.chdir('gdrive/My Drive/Colab Notebooks')"
      ],
      "execution_count": null,
      "outputs": []
    },
    {
      "cell_type": "code",
      "metadata": {
        "id": "w3eSc9PL3fQB"
      },
      "source": [
        "!pip install pymorphy2\n",
        "!pip install pymystem3==0.1.10\n",
        "!pip install rusenttokenize\n",
        "!pip install razdel"
      ],
      "execution_count": null,
      "outputs": []
    },
    {
      "cell_type": "code",
      "metadata": {
        "colab": {
          "base_uri": "https://localhost:8080/"
        },
        "id": "4WtCrQRjxO19",
        "outputId": "4fb59fc8-f766-4560-9c04-530ece6059ec"
      },
      "source": [
        "import nltk\n",
        "nltk.download('punkt')"
      ],
      "execution_count": null,
      "outputs": [
        {
          "output_type": "stream",
          "text": [
            "[nltk_data] Downloading package punkt to /root/nltk_data...\n",
            "[nltk_data]   Package punkt is already up-to-date!\n"
          ],
          "name": "stdout"
        },
        {
          "output_type": "execute_result",
          "data": {
            "text/plain": [
              "True"
            ]
          },
          "metadata": {
            "tags": []
          },
          "execution_count": 1
        }
      ]
    },
    {
      "cell_type": "code",
      "metadata": {
        "colab": {
          "base_uri": "https://localhost:8080/"
        },
        "id": "mofWLJ5YxUC3",
        "outputId": "3daaca69-f706-41c5-a792-cb4e0978dfd8"
      },
      "source": [
        "import nltk\n",
        "nltk.download('stopwords')"
      ],
      "execution_count": null,
      "outputs": [
        {
          "output_type": "stream",
          "text": [
            "[nltk_data] Downloading package stopwords to /root/nltk_data...\n",
            "[nltk_data]   Package stopwords is already up-to-date!\n"
          ],
          "name": "stdout"
        },
        {
          "output_type": "execute_result",
          "data": {
            "text/plain": [
              "True"
            ]
          },
          "metadata": {
            "tags": []
          },
          "execution_count": 2
        }
      ]
    },
    {
      "cell_type": "code",
      "metadata": {
        "id": "YrgRRlmHq_nN"
      },
      "source": [
        "import pandas as pd\n",
        "from lxml import html\n",
        "import numpy as np\n",
        "from tqdm import tqdm\n",
        "from matplotlib import pyplot as plt\n",
        "from sklearn.decomposition import TruncatedSVD, NMF, PCA\n",
        "from sklearn.manifold import TSNE\n",
        "from sklearn.feature_extraction.text import TfidfVectorizer, CountVectorizer\n",
        "from sklearn.metrics.pairwise import cosine_distances\n",
        "from sklearn.ensemble import RandomForestClassifier\n",
        "import gensim\n",
        "import numpy as np\n",
        "from sklearn.cluster import MiniBatchKMeans\n",
        "from sklearn.linear_model import LogisticRegression\n",
        "from sklearn.model_selection import train_test_split\n",
        "from sklearn.metrics import classification_report\n",
        "from collections import Counter,defaultdict\n",
        "from string import punctuation\n",
        "from razdel import tokenize as razdel_tokenize\n",
        "import os\n",
        "from nltk.corpus import stopwords\n",
        "from pymorphy2 import MorphAnalyzer\n",
        "%matplotlib inline\n",
        "\n",
        "morph = MorphAnalyzer()\n",
        "punct = punctuation+'«»—…“”*№–'\n",
        "stops = set(stopwords.words('russian'))\n",
        "\n",
        "def normalize(text):\n",
        "    \n",
        "    words = [word.strip(punct) for word in text.lower().split()]\n",
        "    words = [morph.parse(word)[0].normal_form for word in words if word and word not in stops]\n",
        "\n",
        "    return ' '.join(words)\n",
        "\n",
        "def tokenize(text):\n",
        "    \n",
        "    tokens = [token.text for token in list(razdel_tokenize(text))]\n",
        "    tokens = [token for token in tokens if token.isalnum()]\n",
        "\n",
        "    return ' '.join(tokens)"
      ],
      "execution_count": null,
      "outputs": []
    },
    {
      "cell_type": "markdown",
      "metadata": {
        "id": "lMD5DAzhwNIF"
      },
      "source": [
        "## Задача 1"
      ]
    },
    {
      "cell_type": "markdown",
      "metadata": {
        "id": "SKE_ANQf3SMl"
      },
      "source": [
        "Векторизуйте тексты с помощью Word2vec модели, обученной самостоятельно, и с помощью модели, взятой с rusvectores (например вот этой - http://vectors.nlpl.eu/repository/20/180.zip). Обучите 2 модели по определению перефразирования на получившихся векторах и проверьте, что работает лучше. \n",
        "Word2Vec нужно обучить на отдельном корпусе (не на парафразах). Можно взять данные из семинара или любые другие. \n",
        "!!!! ВАЖНО: Оценивать модели нужно с помощью кросс-валидации (в семинаре не кросс-валидация)! Метрика - f1."
      ]
    },
    {
      "cell_type": "markdown",
      "metadata": {
        "id": "bjjRcG16q_nQ"
      },
      "source": [
        "Загрузим датасет для обучения векторной модели"
      ]
    },
    {
      "cell_type": "code",
      "metadata": {
        "id": "TIXIs_8Eq_nR"
      },
      "source": [
        "data = open('wiki_data.txt').read().splitlines()#[:10000]\n",
        "\n",
        "data_norm = [normalize(tokenize(text)) for text in data]"
      ],
      "execution_count": null,
      "outputs": []
    },
    {
      "cell_type": "code",
      "metadata": {
        "id": "S7vEB4Vbq_nS"
      },
      "source": [
        "data_norm = [text for text in data_norm if text]"
      ],
      "execution_count": null,
      "outputs": []
    },
    {
      "cell_type": "code",
      "metadata": {
        "colab": {
          "base_uri": "https://localhost:8080/"
        },
        "id": "VFefrvJWq_nT",
        "outputId": "34fd6129-b22a-4450-9ee9-621e1b6f4292"
      },
      "source": [
        "data_norm[:5]"
      ],
      "execution_count": null,
      "outputs": [
        {
          "output_type": "execute_result",
          "data": {
            "text/plain": [
              "['новостройка нижегородский область сельский посёлок дивеевский район нижегородский область входить состав сатисский сельсовет посёлок расположить км юг село дивеево 1 км запад город саров право берег река вичкинза правый приток река сатис окружить смешанный лес соединить асфальтовый дорога посёлок цыгановка км грунтовый просёлочный дорога посёлок сатис км название новостройка являться сугубо официальный местный население использовать исключительно альтернативный название хитрый употребляться языковой оборот хитрый ранее использовать название песчаный известковый основать год переселенец соседний село аламасовый нарышкино расположить соответственно 8 14 км запад вознесенский район традиционно посёлок жить рабочий совхоз вперёд центр посёлок сатис возле посёлок расположить карьер активно добывать доломитовый мука бутовый камень настоящий время официально закрытый данные 1978 год посёлок новостройка характеризоваться неперспективный насчитываться 24 хозяйство 43 житель водоснабжение осуществляться колодец родниковый учреждение соцкультбыт отсутствовать 1992 год посёлок насчитываться 7 хозяйство 16 житель который 7 трудоспособный возраст 1 январь 1995 год посёлок иметься 6 хозяйство 12 житель настоящий время посёлок оставаться жилой получить развитие благодаря свой близость святой источник полкилометра расположить казанский родник км источник святой серафим саровский посёлок расположить скит дивеевский монастырь 2012 год освятить домовой храм честь серафим саровский',\n",
              " 'эсмеральда фильм 1905 эсмеральда немой короткометражный драматический фильм режиссёр алиса викторить жасс фильм снятой роман виктор гюго премьера состояться франция 1905 год фильм считаться самый первый фильм снятой роман собор парижский богоматерь фильм рассказывать жизнь цыганский красавица эсмеральда горбун квазимодо звонарь собор парижский богоматерь',\n",
              " 'список остров архипелаг норденшёльд это рабочий список координация создание стать остров архипелаг норденшёльд жирный выделить относительно крупный остров пометка весь остров обозначить указанный карта лишь частично 4 безымянный остров южный побережье остров русский безымянный остров юг остров ермолов',\n",
              " 'минкин фамилия получить распространение российский империя',\n",
              " 'пероральный приём лекарственный средство приём лекарственный средство приём лекарство рот путём проглатывание лекарство преимущественно приём лекарственный средство данные способ назначать лекарство который всасываться слизистый оболочка желудок кишечник лечение заболевание орган пищеварение некоторый случай напротив применяться плохо всасываться лекарственный препарат позволять достигнуть высокий концентрация тракт получить хороший местный эффект побочный реакция основный лекарственный форма пероральный применение являться раствор порошок таблетка капсула пилюля также существовать лекарственный форма например таблетка многослойный оболочка приём который действовать препарат высвобождаться долгий обычный сравнение обычный лекарственный форма позволять продлить терапевтический эффект большинство лекарственный препарат пероральный применение следовать запивать больший количество жидкость приём некоторый лекарство лежачий положение мочь задерживаться пищевод вызывать изъязвление поэтому необходимо запивать таблетка капсула вода']"
            ]
          },
          "metadata": {
            "tags": []
          },
          "execution_count": 12
        }
      ]
    },
    {
      "cell_type": "code",
      "metadata": {
        "colab": {
          "base_uri": "https://localhost:8080/"
        },
        "id": "I-8Er3X_q_nV",
        "outputId": "a6d67522-e5fd-4849-dfa2-3a9aead18a2e"
      },
      "source": [
        "len(data_norm)"
      ],
      "execution_count": null,
      "outputs": [
        {
          "output_type": "execute_result",
          "data": {
            "text/plain": [
              "19987"
            ]
          },
          "metadata": {
            "tags": []
          },
          "execution_count": 13
        }
      ]
    },
    {
      "cell_type": "markdown",
      "metadata": {
        "id": "-q3BrM2Aud7E"
      },
      "source": [
        "Обучим на этих текстах модель Word2Vec"
      ]
    },
    {
      "cell_type": "code",
      "metadata": {
        "id": "elkirqDAtSFd"
      },
      "source": [
        "w2v = gensim.models.Word2Vec([text.split() for text in data_norm], size=50, sg=1)"
      ],
      "execution_count": null,
      "outputs": []
    },
    {
      "cell_type": "code",
      "metadata": {
        "colab": {
          "base_uri": "https://localhost:8080/"
        },
        "id": "9z3zKe39u67c",
        "outputId": "b4e5cec1-db7b-4a64-901d-131c9563393e"
      },
      "source": [
        "w2v.most_similar('февраль')"
      ],
      "execution_count": null,
      "outputs": [
        {
          "output_type": "stream",
          "text": [
            "/usr/local/lib/python3.7/dist-packages/ipykernel_launcher.py:1: DeprecationWarning: Call to deprecated `most_similar` (Method will be removed in 4.0.0, use self.wv.most_similar() instead).\n",
            "  \"\"\"Entry point for launching an IPython kernel.\n"
          ],
          "name": "stderr"
        },
        {
          "output_type": "execute_result",
          "data": {
            "text/plain": [
              "[('март', 0.9755054116249084),\n",
              " ('май', 0.9746302962303162),\n",
              " ('апрель', 0.9742509126663208),\n",
              " ('сентябрь', 0.9684893488883972),\n",
              " ('ноябрь', 0.9670076966285706),\n",
              " ('июль', 0.9617149233818054),\n",
              " ('июнь', 0.9601282477378845),\n",
              " ('декабрь', 0.9578750729560852),\n",
              " ('октябрь', 0.9513184428215027),\n",
              " ('август', 0.9496786594390869)]"
            ]
          },
          "metadata": {
            "tags": []
          },
          "execution_count": 15
        }
      ]
    },
    {
      "cell_type": "markdown",
      "metadata": {
        "id": "u-OixAzKi93D"
      },
      "source": [
        "Загрузим предобученную модель"
      ]
    },
    {
      "cell_type": "code",
      "metadata": {
        "id": "02wU-QM_q_oo"
      },
      "source": [
        "import gensim\n",
        "model = gensim.models.KeyedVectors.load_word2vec_format('180/model.bin', binary=True)"
      ],
      "execution_count": null,
      "outputs": []
    },
    {
      "cell_type": "code",
      "metadata": {
        "colab": {
          "base_uri": "https://localhost:8080/"
        },
        "id": "WqyCFSSqq_oo",
        "outputId": "6ef05a48-1507-48cf-9e86-702fb4813182"
      },
      "source": [
        "model.most_similar('февраль_NOUN')"
      ],
      "execution_count": null,
      "outputs": [
        {
          "output_type": "execute_result",
          "data": {
            "text/plain": [
              "[('март_NOUN', 0.9567033052444458),\n",
              " ('ноябрь_NOUN', 0.9523458480834961),\n",
              " ('декабрь_NOUN', 0.9509049654006958),\n",
              " ('апрель_NOUN', 0.949961245059967),\n",
              " ('январь_NOUN', 0.9472224712371826),\n",
              " ('октябрь_NOUN', 0.937659740447998),\n",
              " ('май_NOUN', 0.911928117275238),\n",
              " ('июнь_NOUN', 0.9011650681495667),\n",
              " ('сентябрь_NOUN', 0.899361252784729),\n",
              " ('июль_NOUN', 0.8842827677726746)]"
            ]
          },
          "metadata": {
            "tags": []
          },
          "execution_count": 86
        }
      ]
    },
    {
      "cell_type": "code",
      "metadata": {
        "id": "Zl4Rpfznq_or"
      },
      "source": [
        "mapping = {}\n",
        "\n",
        "for line in open('ru-rnc.map.txt'):\n",
        "    ms, ud = line.strip('\\n').split()\n",
        "    mapping[ms] = ud"
      ],
      "execution_count": null,
      "outputs": []
    },
    {
      "cell_type": "code",
      "metadata": {
        "id": "okB5zXN8q_os"
      },
      "source": [
        "from pymystem3 import Mystem\n",
        "m = Mystem()"
      ],
      "execution_count": null,
      "outputs": []
    },
    {
      "cell_type": "code",
      "metadata": {
        "id": "8X__4nJoq_os"
      },
      "source": [
        "def normalize_mystem(text):\n",
        "    tokens = []\n",
        "    norm_words = m.analyze(text)\n",
        "    for norm_word in norm_words:\n",
        "        if 'analysis' not in norm_word:\n",
        "            continue\n",
        "        if not len(norm_word['analysis']):\n",
        "            lemma = norm_word['text']\n",
        "            pos = 'UNKN'\n",
        "        else:\n",
        "            lemma = norm_word[\"analysis\"][0][\"lex\"].lower().strip()\n",
        "            pos = norm_word[\"analysis\"][0][\"gr\"].split(',')[0]\n",
        "            pos = pos.split('=')[0].strip()\n",
        "        pos = mapping[pos]\n",
        "        tokens.append(lemma+'_'+pos)\n",
        "\n",
        "    return tokens"
      ],
      "execution_count": null,
      "outputs": []
    },
    {
      "cell_type": "code",
      "metadata": {
        "colab": {
          "base_uri": "https://localhost:8080/"
        },
        "id": "smWO308fq_ot",
        "outputId": "b6903ad0-aa8c-43d8-9105-0ed0fb64f39b"
      },
      "source": [
        "normalize_mystem('Обучить классификатор парафразов на предобученной модели вам нужно будет дома')"
      ],
      "execution_count": null,
      "outputs": [
        {
          "output_type": "execute_result",
          "data": {
            "text/plain": [
              "['обучать_VERB',\n",
              " 'классификатор_NOUN',\n",
              " 'парафраз_NOUN',\n",
              " 'на_ADP',\n",
              " 'предобученный_ADJ',\n",
              " 'модель_NOUN',\n",
              " 'вы_PRON',\n",
              " 'нужно_ADV',\n",
              " 'быть_VERB',\n",
              " 'дома_ADV']"
            ]
          },
          "metadata": {
            "tags": []
          },
          "execution_count": 90
        }
      ]
    },
    {
      "cell_type": "code",
      "metadata": {
        "colab": {
          "base_uri": "https://localhost:8080/"
        },
        "id": "RqnqK_Ylpuka",
        "outputId": "706066d8-8d60-4e74-f5d2-0641734282ee"
      },
      "source": [
        "model['обучать_VERB'].shape"
      ],
      "execution_count": null,
      "outputs": [
        {
          "output_type": "execute_result",
          "data": {
            "text/plain": [
              "(300,)"
            ]
          },
          "metadata": {
            "tags": []
          },
          "execution_count": 100
        }
      ]
    },
    {
      "cell_type": "markdown",
      "metadata": {
        "id": "yk2NLSt3uE9k"
      },
      "source": [
        "### Загрузим датасет с парафразами"
      ]
    },
    {
      "cell_type": "markdown",
      "metadata": {
        "id": "DXWAJqm1q_oQ"
      },
      "source": [
        "Коллекция состоит из пар предложения (заголовков статей) и метки класса (-1,0,1). -1 не парафраз, 1 - парафраз, 0 - что-то непонятное."
      ]
    },
    {
      "cell_type": "code",
      "metadata": {
        "id": "K8Ct0CVuq_oR"
      },
      "source": [
        "corpus_xml = html.fromstring(open('paraphrases.xml', 'rb').read())\n",
        "texts_1 = []\n",
        "texts_2 = []\n",
        "classes = []\n",
        "\n",
        "for p in corpus_xml.xpath('//paraphrase'):\n",
        "    texts_1.append(p.xpath('./value[@name=\"text_1\"]/text()')[0])\n",
        "    texts_2.append(p.xpath('./value[@name=\"text_2\"]/text()')[0])\n",
        "    classes.append(p.xpath('./value[@name=\"class\"]/text()')[0])\n",
        "    \n",
        "data = pd.DataFrame({'text_1':texts_1, 'text_2':texts_2, 'label':classes})"
      ],
      "execution_count": null,
      "outputs": []
    },
    {
      "cell_type": "code",
      "metadata": {
        "id": "8G6lp4LNq_oS"
      },
      "source": [
        "data['text_1_norm'] = data['text_1'].apply(normalize)\n",
        "data['text_2_norm'] = data['text_2'].apply(normalize)"
      ],
      "execution_count": null,
      "outputs": []
    },
    {
      "cell_type": "code",
      "metadata": {
        "id": "hfv8sOcMsIMD"
      },
      "source": [
        "data['text_1_norm_2'] = data['text_1'].apply(normalize_mystem).apply(' '.join)\n",
        "data['text_2_norm_2'] = data['text_2'].apply(normalize_mystem).apply(' '.join)"
      ],
      "execution_count": null,
      "outputs": []
    },
    {
      "cell_type": "code",
      "metadata": {
        "colab": {
          "base_uri": "https://localhost:8080/",
          "height": 179
        },
        "id": "xrMBwRGGq_oS",
        "outputId": "8aaa66d3-30f1-4bd3-849d-9b1f3dcad7d3"
      },
      "source": [
        "data.head(2)"
      ],
      "execution_count": null,
      "outputs": [
        {
          "output_type": "execute_result",
          "data": {
            "text/html": [
              "<div>\n",
              "<style scoped>\n",
              "    .dataframe tbody tr th:only-of-type {\n",
              "        vertical-align: middle;\n",
              "    }\n",
              "\n",
              "    .dataframe tbody tr th {\n",
              "        vertical-align: top;\n",
              "    }\n",
              "\n",
              "    .dataframe thead th {\n",
              "        text-align: right;\n",
              "    }\n",
              "</style>\n",
              "<table border=\"1\" class=\"dataframe\">\n",
              "  <thead>\n",
              "    <tr style=\"text-align: right;\">\n",
              "      <th></th>\n",
              "      <th>text_1</th>\n",
              "      <th>text_2</th>\n",
              "      <th>label</th>\n",
              "      <th>text_1_norm</th>\n",
              "      <th>text_2_norm</th>\n",
              "      <th>text_1_norm_2</th>\n",
              "      <th>text_2_norm_2</th>\n",
              "    </tr>\n",
              "  </thead>\n",
              "  <tbody>\n",
              "    <tr>\n",
              "      <th>0</th>\n",
              "      <td>Полицейским разрешат стрелять на поражение по ...</td>\n",
              "      <td>Полиции могут разрешить стрелять по хулиганам ...</td>\n",
              "      <td>0</td>\n",
              "      <td>полицейский разрешить стрелять поражение гражд...</td>\n",
              "      <td>полиция мочь разрешить стрелять хулиган травма...</td>\n",
              "      <td>полицейский_NOUN разрешать_VERB стрелять_VERB ...</td>\n",
              "      <td>полиция_NOUN мочь_VERB разрешать_VERB стрелять...</td>\n",
              "    </tr>\n",
              "    <tr>\n",
              "      <th>1</th>\n",
              "      <td>Право полицейских на проникновение в жилище ре...</td>\n",
              "      <td>Правила внесудебного проникновения полицейских...</td>\n",
              "      <td>0</td>\n",
              "      <td>право полицейский проникновение жилище решить ...</td>\n",
              "      <td>правило внесудебный проникновение полицейский ...</td>\n",
              "      <td>право_ADV полицейский_NOUN на_ADP проникновени...</td>\n",
              "      <td>правило_NOUN внесудебный_ADJ проникновение_NOU...</td>\n",
              "    </tr>\n",
              "  </tbody>\n",
              "</table>\n",
              "</div>"
            ],
            "text/plain": [
              "                                              text_1  ...                                      text_2_norm_2\n",
              "0  Полицейским разрешат стрелять на поражение по ...  ...  полиция_NOUN мочь_VERB разрешать_VERB стрелять...\n",
              "1  Право полицейских на проникновение в жилище ре...  ...  правило_NOUN внесудебный_ADJ проникновение_NOU...\n",
              "\n",
              "[2 rows x 7 columns]"
            ]
          },
          "metadata": {
            "tags": []
          },
          "execution_count": 25
        }
      ]
    },
    {
      "cell_type": "code",
      "metadata": {
        "id": "-eEsxF5hXu6U"
      },
      "source": [
        "data.to_csv('wiki_data_norm.csv')"
      ],
      "execution_count": null,
      "outputs": []
    },
    {
      "cell_type": "code",
      "metadata": {
        "id": "Uq0IuCcwmTii"
      },
      "source": [
        "data = pd.read_csv('wiki_data_norm.csv')"
      ],
      "execution_count": null,
      "outputs": []
    },
    {
      "cell_type": "markdown",
      "metadata": {
        "id": "cyoFhgipvg3P"
      },
      "source": [
        "### Определение перефразирования"
      ]
    },
    {
      "cell_type": "code",
      "metadata": {
        "id": "pzXyq66Hq_oi"
      },
      "source": [
        "def get_embedding(text, model, dim):\n",
        "    text = text.split()\n",
        "    words = Counter(text)\n",
        "    total = len(text)\n",
        "    vectors = np.zeros((len(words), dim))\n",
        "    \n",
        "    for i, word in enumerate(words):\n",
        "        try:\n",
        "            v = model[word]\n",
        "            vectors[i] = v*(words[word]/total)\n",
        "        except (KeyError, ValueError):\n",
        "            continue\n",
        "    \n",
        "    if vectors.any():\n",
        "        vector = np.average(vectors, axis=0)\n",
        "    else:\n",
        "        vector = np.zeros((dim))\n",
        "    \n",
        "    return vector"
      ],
      "execution_count": null,
      "outputs": []
    },
    {
      "cell_type": "markdown",
      "metadata": {
        "id": "CA565d1zv9R5"
      },
      "source": [
        "### модель обученная на wiki.txt"
      ]
    },
    {
      "cell_type": "code",
      "metadata": {
        "colab": {
          "base_uri": "https://localhost:8080/"
        },
        "id": "olcV1XJbq_oi",
        "outputId": "a94c4b30-3264-4f0f-83d1-5d751c24fc15"
      },
      "source": [
        "dim = 50\n",
        "X_text_1_w2v = np.zeros((len(data['text_1_norm']), dim))\n",
        "X_text_2_w2v = np.zeros((len(data['text_2_norm']), dim))\n",
        "\n",
        "for i, text in enumerate(data['text_1_norm'].values):\n",
        "    X_text_1_w2v[i] = get_embedding(text, w2v, dim)\n",
        "    \n",
        "for i, text in enumerate(data['text_2_norm'].values):\n",
        "    X_text_2_w2v[i] = get_embedding(text, w2v, dim)"
      ],
      "execution_count": 132,
      "outputs": [
        {
          "output_type": "stream",
          "text": [
            "/usr/local/lib/python3.7/dist-packages/ipykernel_launcher.py:9: DeprecationWarning: Call to deprecated `__getitem__` (Method will be removed in 4.0.0, use self.wv.__getitem__() instead).\n",
            "  if __name__ == '__main__':\n"
          ],
          "name": "stderr"
        }
      ]
    },
    {
      "cell_type": "code",
      "metadata": {
        "id": "QKDTdWelq_oj"
      },
      "source": [
        "X_text_w2v = np.concatenate([X_text_1_w2v, X_text_2_w2v], axis=1)"
      ],
      "execution_count": 134,
      "outputs": []
    },
    {
      "cell_type": "code",
      "metadata": {
        "colab": {
          "base_uri": "https://localhost:8080/"
        },
        "id": "Vanf8PfEuziY",
        "outputId": "a2686a20-e433-4735-dd7f-3a1c3a1279b4"
      },
      "source": [
        "X_text_w2v.shape"
      ],
      "execution_count": 135,
      "outputs": [
        {
          "output_type": "execute_result",
          "data": {
            "text/plain": [
              "(7227, 100)"
            ]
          },
          "metadata": {
            "tags": []
          },
          "execution_count": 135
        }
      ]
    },
    {
      "cell_type": "markdown",
      "metadata": {
        "id": "7O-Sstnkw3UZ"
      },
      "source": [
        "### предобученная модель"
      ]
    },
    {
      "cell_type": "code",
      "metadata": {
        "id": "ewuh2S9Bs9Ke"
      },
      "source": [
        "dim = 300\n",
        "X_text_1_w2v_2 = np.zeros((len(data['text_1_norm_2']), dim))\n",
        "X_text_2_w2v_2 = np.zeros((len(data['text_2_norm_2']), dim))\n",
        "\n",
        "for i, text in enumerate(data['text_1_norm_2'].values):\n",
        "    X_text_1_w2v_2[i] = get_embedding(text, model, dim)\n",
        "    \n",
        "for i, text in enumerate(data['text_2_norm_2'].values):\n",
        "    X_text_2_w2v_2[i] = get_embedding(text, model, dim)"
      ],
      "execution_count": null,
      "outputs": []
    },
    {
      "cell_type": "code",
      "metadata": {
        "id": "CTENK4xHtZ3B"
      },
      "source": [
        "X_text_w2v_2 = np.concatenate([X_text_1_w2v_2, X_text_2_w2v_2], axis=1)"
      ],
      "execution_count": null,
      "outputs": []
    },
    {
      "cell_type": "code",
      "metadata": {
        "colab": {
          "base_uri": "https://localhost:8080/"
        },
        "id": "yVBv-fZbtdNK",
        "outputId": "d742678d-2601-4f40-dc59-54efc09a7841"
      },
      "source": [
        "X_text_w2v_2.shape"
      ],
      "execution_count": null,
      "outputs": [
        {
          "output_type": "execute_result",
          "data": {
            "text/plain": [
              "(7227, 600)"
            ]
          },
          "metadata": {
            "tags": []
          },
          "execution_count": 112
        }
      ]
    },
    {
      "cell_type": "code",
      "metadata": {
        "id": "j9LwhJUtvj6q"
      },
      "source": [
        "y = data['label'].values"
      ],
      "execution_count": null,
      "outputs": []
    },
    {
      "cell_type": "markdown",
      "metadata": {
        "id": "aPw7eNZ3yLgR"
      },
      "source": [
        "### обучение классификатора"
      ]
    },
    {
      "cell_type": "code",
      "metadata": {
        "id": "vBc4V25Ov4ue"
      },
      "source": [
        "from sklearn.model_selection import cross_val_score"
      ],
      "execution_count": null,
      "outputs": []
    },
    {
      "cell_type": "code",
      "metadata": {
        "id": "zYNHeKMDzECO"
      },
      "source": [
        "clf = RandomForestClassifier(n_estimators=100, max_depth=7, min_samples_leaf=15,\n",
        "                             class_weight='balanced')"
      ],
      "execution_count": null,
      "outputs": []
    },
    {
      "cell_type": "markdown",
      "metadata": {
        "id": "3LMn8f6d0be_"
      },
      "source": [
        "При обученной векторной модели"
      ]
    },
    {
      "cell_type": "code",
      "metadata": {
        "colab": {
          "base_uri": "https://localhost:8080/"
        },
        "id": "-n9xUIzNb_-Y",
        "outputId": "25c9b5fe-0a3a-46cb-cff6-a4644452c298"
      },
      "source": [
        "scores = cross_val_score(clf, X_text_w2v, y, cv=5, scoring='f1_macro')\n",
        "scores"
      ],
      "execution_count": 136,
      "outputs": [
        {
          "output_type": "execute_result",
          "data": {
            "text/plain": [
              "array([0.44500725, 0.47000512, 0.46672704, 0.36620472, 0.36700659])"
            ]
          },
          "metadata": {
            "tags": []
          },
          "execution_count": 136
        }
      ]
    },
    {
      "cell_type": "code",
      "metadata": {
        "colab": {
          "base_uri": "https://localhost:8080/"
        },
        "id": "uvXLIEuOcBgh",
        "outputId": "e0ae5ddc-2ec9-43fe-e6a7-a8c11629ec31"
      },
      "source": [
        "scores = cross_val_score(clf, X_text_w2v, y, cv=5, scoring='f1_micro')\n",
        "scores"
      ],
      "execution_count": 137,
      "outputs": [
        {
          "output_type": "execute_result",
          "data": {
            "text/plain": [
              "array([0.44329184, 0.48340249, 0.48373702, 0.37923875, 0.39515571])"
            ]
          },
          "metadata": {
            "tags": []
          },
          "execution_count": 137
        }
      ]
    },
    {
      "cell_type": "markdown",
      "metadata": {
        "id": "KZti8o2C0h3K"
      },
      "source": [
        "При предобученной векторной модели\n"
      ]
    },
    {
      "cell_type": "code",
      "metadata": {
        "colab": {
          "background_save": true
        },
        "id": "pjP9nGMRgt_c",
        "outputId": "31546e11-dda0-4d6e-ee78-afb3036e4c1c"
      },
      "source": [
        "scores = cross_val_score(clf, X_text_w2v_2, y, cv=5, scoring='f1_macro')\n",
        "scores"
      ],
      "execution_count": null,
      "outputs": [
        {
          "output_type": "execute_result",
          "data": {
            "text/plain": [
              "array([0.44382883, 0.47171046, 0.47490029, 0.38985459, 0.36236937])"
            ]
          },
          "metadata": {
            "tags": []
          },
          "execution_count": 0
        }
      ]
    },
    {
      "cell_type": "code",
      "metadata": {
        "colab": {
          "base_uri": "https://localhost:8080/"
        },
        "id": "lg8VSsu7gvGT",
        "outputId": "02f91ff2-7ffa-4bb3-9b6f-18b9e9553ec3"
      },
      "source": [
        "scores = cross_val_score(clf, X_text_w2v_2, y, cv=5, scoring='f1_micro')\n",
        "scores"
      ],
      "execution_count": 121,
      "outputs": [
        {
          "output_type": "execute_result",
          "data": {
            "text/plain": [
              "array([0.45643154, 0.50968188, 0.50519031, 0.38961938, 0.37231834])"
            ]
          },
          "metadata": {
            "tags": []
          },
          "execution_count": 121
        }
      ]
    },
    {
      "cell_type": "markdown",
      "metadata": {
        "id": "ZBR1MNaJL0WZ"
      },
      "source": [
        "Результаты предобученной модели получились немного лучше, чем у модели, обученной на wiki.txt"
      ]
    },
    {
      "cell_type": "markdown",
      "metadata": {
        "id": "aqpQeBSn22ui"
      },
      "source": [
        "## Задача 2"
      ]
    },
    {
      "cell_type": "markdown",
      "metadata": {
        "id": "2F8jpTry3X1j"
      },
      "source": [
        "Преобразуйте тексты в векторы в каждой паре 5 методами  - SVD, NMF, Word2Vec (свой и  русвекторовский), Fastext. У вас должно получиться 5 пар векторов для каждой строчки в датасете. Между векторами каждой пары вычислите косинусную близость (получится 5 чисел для каждой пары). \n",
        "\n",
        "Постройте обучающую выборку из этих близостей . Обучите любую модель (Логрег, Рандом форест или что-то ещё) на этой выборке и оцените качество на кросс-валидации (используйте микросреднюю f1-меру).  Попробуйте улучить метрику, изменив параметры в методах векторизации.\n",
        "!!УТОЧНЕНИЕ: модель нужно обучить сразу на всех 5 близостях, а не по 1 модели на каждой близости!\n",
        "\n",
        "\n",
        "SVD и NMF применяйте к данным напрямую, а w2w и fastext обучите на отдельном корпусе (как в первой части). "
      ]
    },
    {
      "cell_type": "code",
      "metadata": {
        "id": "Y63LqzHB77IJ"
      },
      "source": [
        "from sklearn.metrics.pairwise import cosine_distances"
      ],
      "execution_count": null,
      "outputs": []
    },
    {
      "cell_type": "markdown",
      "metadata": {
        "id": "Uzsfj-mO7Ec6"
      },
      "source": [
        "Рассчитаем близости для моделей"
      ]
    },
    {
      "cell_type": "markdown",
      "metadata": {
        "id": "TbRfdLew7ni8"
      },
      "source": [
        "1. Обученный Word2Vec"
      ]
    },
    {
      "cell_type": "code",
      "metadata": {
        "id": "9wKCW8AohPkC"
      },
      "source": [
        "w2v_cos = [cosine_distances([v1], [v2])[0][0] for v1, v2 in zip(X_text_1_w2v, X_text_2_w2v)]"
      ],
      "execution_count": 142,
      "outputs": []
    },
    {
      "cell_type": "markdown",
      "metadata": {
        "id": "TAXLLGDFAAAN"
      },
      "source": [
        "2. Предобученный Word2Vec"
      ]
    },
    {
      "cell_type": "code",
      "metadata": {
        "id": "BfNamIku9rVj"
      },
      "source": [
        "w2v_2_cos = [cosine_distances([v1], [v2])[0][0] for v1, v2 in zip(X_text_1_w2v_2, X_text_2_w2v_2)]"
      ],
      "execution_count": 143,
      "outputs": []
    },
    {
      "cell_type": "markdown",
      "metadata": {
        "id": "gP7AVHQ2ADgM"
      },
      "source": [
        "3. Обученный FastText"
      ]
    },
    {
      "cell_type": "code",
      "metadata": {
        "id": "KNRxk8ca2-dr"
      },
      "source": [
        "ft = gensim.models.FastText([text.split() for text in data_norm], size=50, sg=1)"
      ],
      "execution_count": 144,
      "outputs": []
    },
    {
      "cell_type": "code",
      "metadata": {
        "colab": {
          "base_uri": "https://localhost:8080/"
        },
        "id": "HL686Xfph8-X",
        "outputId": "0b7f14b5-01e0-4f0e-b99f-d9762a5c71d3"
      },
      "source": [
        "dim = 50\n",
        "X_text_1_ft = np.zeros((len(data['text_1_norm']), dim))\n",
        "X_text_2_ft = np.zeros((len(data['text_2_norm']), dim))\n",
        "\n",
        "for i, text in enumerate(data['text_1_norm'].values):\n",
        "    X_text_1_ft[i] = get_embedding(text, ft, dim)\n",
        "    \n",
        "for i, text in enumerate(data['text_2_norm'].values):\n",
        "    X_text_2_ft[i] = get_embedding(text, ft, dim)\n",
        "\n",
        "ft_cos = [cosine_distances([v1], [v2])[0][0] for v1, v2 in zip(X_text_1_ft, X_text_2_ft)]"
      ],
      "execution_count": 146,
      "outputs": [
        {
          "output_type": "stream",
          "text": [
            "/usr/local/lib/python3.7/dist-packages/ipykernel_launcher.py:9: DeprecationWarning: Call to deprecated `__getitem__` (Method will be removed in 4.0.0, use self.wv.__getitem__() instead).\n",
            "  if __name__ == '__main__':\n"
          ],
          "name": "stderr"
        }
      ]
    },
    {
      "cell_type": "markdown",
      "metadata": {
        "id": "_e--iyrJAYli"
      },
      "source": [
        "4. SVD"
      ]
    },
    {
      "cell_type": "code",
      "metadata": {
        "id": "jRuxgWH2Bcfe"
      },
      "source": [
        "tfidf = TfidfVectorizer(min_df=3, max_df=0.4, max_features=1000)\n",
        "tfidf_texts = tfidf.fit_transform(pd.concat([data['text_1_norm'], data['text_2_norm']]))"
      ],
      "execution_count": 126,
      "outputs": []
    },
    {
      "cell_type": "code",
      "metadata": {
        "id": "io95OuyLBla4"
      },
      "source": [
        "svd = TruncatedSVD(50)\n",
        "\n",
        "svd.fit(tfidf_texts)\n",
        "\n",
        "X_text_1_svd = svd.transform(tfidf.transform(data['text_1_norm']))\n",
        "X_text_2_svd = svd.transform(tfidf.transform(data['text_2_norm']))\n",
        "\n",
        "svd_cos = [cosine_distances([v1], [v2])[0][0] for v1, v2 in zip(X_text_1_svd, X_text_2_svd)]"
      ],
      "execution_count": 212,
      "outputs": []
    },
    {
      "cell_type": "markdown",
      "metadata": {
        "id": "dBdZmJ1WAbiE"
      },
      "source": [
        "5. NMF"
      ]
    },
    {
      "cell_type": "code",
      "metadata": {
        "id": "Zcb9szANB1v5"
      },
      "source": [
        "nmf = NMF(50)\n",
        "\n",
        "nmf.fit(tfidf_texts)\n",
        "\n",
        "X_text_1_nmf = nmf.transform(tfidf.transform(data['text_1_norm']))\n",
        "X_text_2_nmf = nmf.transform(tfidf.transform(data['text_2_norm']))\n",
        "\n",
        "nmf_cos = [cosine_distances([v1], [v2])[0][0] for v1, v2 in zip(X_text_1_nmf, X_text_2_nmf)]"
      ],
      "execution_count": 213,
      "outputs": []
    },
    {
      "cell_type": "code",
      "metadata": {
        "id": "PwAr2p5KiX4z"
      },
      "source": [
        "cos_data = pd.DataFrame()\n",
        "cos_data['w2v_cos'] = w2v_cos\n",
        "cos_data['w2v_2_cos'] = w2v_2_cos\n",
        "cos_data['ft_cos'] = ft_cos\n",
        "cos_data['svd_cos'] = svd_cos\n",
        "cos_data['nmf_cos'] = nmf_cos\n",
        "cos_data['label'] = y"
      ],
      "execution_count": 214,
      "outputs": []
    },
    {
      "cell_type": "code",
      "metadata": {
        "colab": {
          "base_uri": "https://localhost:8080/",
          "height": 204
        },
        "id": "rcPBM_mzOuai",
        "outputId": "ffad862b-f834-4286-b972-fbfcd7713dbe"
      },
      "source": [
        "cos_data.head()"
      ],
      "execution_count": 215,
      "outputs": [
        {
          "output_type": "execute_result",
          "data": {
            "text/html": [
              "<div>\n",
              "<style scoped>\n",
              "    .dataframe tbody tr th:only-of-type {\n",
              "        vertical-align: middle;\n",
              "    }\n",
              "\n",
              "    .dataframe tbody tr th {\n",
              "        vertical-align: top;\n",
              "    }\n",
              "\n",
              "    .dataframe thead th {\n",
              "        text-align: right;\n",
              "    }\n",
              "</style>\n",
              "<table border=\"1\" class=\"dataframe\">\n",
              "  <thead>\n",
              "    <tr style=\"text-align: right;\">\n",
              "      <th></th>\n",
              "      <th>w2v_cos</th>\n",
              "      <th>w2v_2_cos</th>\n",
              "      <th>ft_cos</th>\n",
              "      <th>svd_cos</th>\n",
              "      <th>nmf_cos</th>\n",
              "      <th>label</th>\n",
              "    </tr>\n",
              "  </thead>\n",
              "  <tbody>\n",
              "    <tr>\n",
              "      <th>0</th>\n",
              "      <td>0.092836</td>\n",
              "      <td>0.315568</td>\n",
              "      <td>0.045734</td>\n",
              "      <td>1.094003</td>\n",
              "      <td>0.947187</td>\n",
              "      <td>0</td>\n",
              "    </tr>\n",
              "    <tr>\n",
              "      <th>1</th>\n",
              "      <td>0.069705</td>\n",
              "      <td>0.245257</td>\n",
              "      <td>0.080087</td>\n",
              "      <td>0.028260</td>\n",
              "      <td>0.018229</td>\n",
              "      <td>0</td>\n",
              "    </tr>\n",
              "    <tr>\n",
              "      <th>2</th>\n",
              "      <td>0.046567</td>\n",
              "      <td>0.173560</td>\n",
              "      <td>0.053419</td>\n",
              "      <td>0.602448</td>\n",
              "      <td>0.503438</td>\n",
              "      <td>0</td>\n",
              "    </tr>\n",
              "    <tr>\n",
              "      <th>3</th>\n",
              "      <td>0.204856</td>\n",
              "      <td>0.678593</td>\n",
              "      <td>0.161477</td>\n",
              "      <td>0.351544</td>\n",
              "      <td>0.373685</td>\n",
              "      <td>-1</td>\n",
              "    </tr>\n",
              "    <tr>\n",
              "      <th>4</th>\n",
              "      <td>0.087557</td>\n",
              "      <td>0.324991</td>\n",
              "      <td>0.061701</td>\n",
              "      <td>0.080357</td>\n",
              "      <td>0.061438</td>\n",
              "      <td>0</td>\n",
              "    </tr>\n",
              "  </tbody>\n",
              "</table>\n",
              "</div>"
            ],
            "text/plain": [
              "    w2v_cos  w2v_2_cos    ft_cos   svd_cos   nmf_cos  label\n",
              "0  0.092836   0.315568  0.045734  1.094003  0.947187      0\n",
              "1  0.069705   0.245257  0.080087  0.028260  0.018229      0\n",
              "2  0.046567   0.173560  0.053419  0.602448  0.503438      0\n",
              "3  0.204856   0.678593  0.161477  0.351544  0.373685     -1\n",
              "4  0.087557   0.324991  0.061701  0.080357  0.061438      0"
            ]
          },
          "metadata": {
            "tags": []
          },
          "execution_count": 215
        }
      ]
    },
    {
      "cell_type": "code",
      "metadata": {
        "id": "pmCD-0ZiO6bM"
      },
      "source": [
        "clf = LogisticRegression(solver='liblinear')\n",
        "\n",
        "X, y = cos_data.drop(['label'], axis=1), cos_data['label']"
      ],
      "execution_count": 216,
      "outputs": []
    },
    {
      "cell_type": "code",
      "metadata": {
        "id": "y6n9CJcvPJ_Y",
        "colab": {
          "base_uri": "https://localhost:8080/"
        },
        "outputId": "9b35dd42-ce46-46e5-a197-f8608cbaec6c"
      },
      "source": [
        "cross_val_scores = cross_val_score(clf, X, y, scoring='f1_micro')\n",
        "cross_val_scores"
      ],
      "execution_count": 217,
      "outputs": [
        {
          "output_type": "execute_result",
          "data": {
            "text/plain": [
              "array([0.57053942, 0.58990318, 0.616609  , 0.49065744, 0.49411765])"
            ]
          },
          "metadata": {
            "tags": []
          },
          "execution_count": 217
        }
      ]
    },
    {
      "cell_type": "code",
      "metadata": {
        "colab": {
          "base_uri": "https://localhost:8080/"
        },
        "id": "fWSpqxAt2Wtr",
        "outputId": "077af968-c547-4886-ad23-a770d932df64"
      },
      "source": [
        "np.mean(cross_val_scores)"
      ],
      "execution_count": 218,
      "outputs": [
        {
          "output_type": "execute_result",
          "data": {
            "text/plain": [
              "0.5523653366643215"
            ]
          },
          "metadata": {
            "tags": []
          },
          "execution_count": 218
        }
      ]
    },
    {
      "cell_type": "code",
      "metadata": {
        "id": "wzA4psLpPMI5",
        "colab": {
          "base_uri": "https://localhost:8080/"
        },
        "outputId": "f932b5bc-c833-4c99-bc63-982d55cec085"
      },
      "source": [
        "cross_val_scores = cross_val_score(clf, X, y, scoring='f1_macro')\n",
        "cross_val_scores"
      ],
      "execution_count": 219,
      "outputs": [
        {
          "output_type": "execute_result",
          "data": {
            "text/plain": [
              "array([0.43552911, 0.4553767 , 0.47562098, 0.36483633, 0.37018264])"
            ]
          },
          "metadata": {
            "tags": []
          },
          "execution_count": 219
        }
      ]
    },
    {
      "cell_type": "code",
      "metadata": {
        "colab": {
          "base_uri": "https://localhost:8080/"
        },
        "id": "Qhg9i2jd2bmA",
        "outputId": "089667cb-3435-49c5-ff2f-b7786893642a"
      },
      "source": [
        "np.mean(cross_val_scores)"
      ],
      "execution_count": 220,
      "outputs": [
        {
          "output_type": "execute_result",
          "data": {
            "text/plain": [
              "0.42030915278421144"
            ]
          },
          "metadata": {
            "tags": []
          },
          "execution_count": 220
        }
      ]
    },
    {
      "cell_type": "markdown",
      "metadata": {
        "id": "dOCeMEGWP66r"
      },
      "source": [
        "Попробуем улучшить результат, поменяв параметры для svd и nmf"
      ]
    },
    {
      "cell_type": "code",
      "metadata": {
        "id": "TjIKDn3yP6Zr"
      },
      "source": [
        "svd = TruncatedSVD(200)\n",
        "\n",
        "svd.fit(tfidf_texts)\n",
        "\n",
        "X_text_1_svd = svd.transform(tfidf.transform(data['text_1_norm']))\n",
        "X_text_2_svd = svd.transform(tfidf.transform(data['text_2_norm']))\n",
        "\n",
        "svd_cos = [cosine_distances([v1], [v2])[0][0] for v1, v2 in zip(X_text_1_svd, X_text_2_svd)]"
      ],
      "execution_count": 223,
      "outputs": []
    },
    {
      "cell_type": "code",
      "metadata": {
        "id": "uUrSxcIiQL2s"
      },
      "source": [
        "nmf = NMF(100)\n",
        "\n",
        "nmf.fit(tfidf_texts)\n",
        "\n",
        "X_text_1_nmf = nmf.transform(tfidf.transform(data['text_1_norm']))\n",
        "X_text_2_nmf = nmf.transform(tfidf.transform(data['text_2_norm']))\n",
        "\n",
        "nmf_cos = [cosine_distances([v1], [v2])[0][0] for v1, v2 in zip(X_text_1_nmf, X_text_2_nmf)]"
      ],
      "execution_count": 224,
      "outputs": []
    },
    {
      "cell_type": "code",
      "metadata": {
        "id": "j9UGj1XDQull"
      },
      "source": [
        "cos_data['svd_cos'] = svd_cos\n",
        "cos_data['nmf_cos'] = nmf_cos"
      ],
      "execution_count": 225,
      "outputs": []
    },
    {
      "cell_type": "code",
      "metadata": {
        "id": "9MCZimW3Q7KO",
        "colab": {
          "base_uri": "https://localhost:8080/",
          "height": 204
        },
        "outputId": "0f1beed0-d5f3-4a8a-fa66-b7d7f67e2833"
      },
      "source": [
        "cos_data.head()"
      ],
      "execution_count": 226,
      "outputs": [
        {
          "output_type": "execute_result",
          "data": {
            "text/html": [
              "<div>\n",
              "<style scoped>\n",
              "    .dataframe tbody tr th:only-of-type {\n",
              "        vertical-align: middle;\n",
              "    }\n",
              "\n",
              "    .dataframe tbody tr th {\n",
              "        vertical-align: top;\n",
              "    }\n",
              "\n",
              "    .dataframe thead th {\n",
              "        text-align: right;\n",
              "    }\n",
              "</style>\n",
              "<table border=\"1\" class=\"dataframe\">\n",
              "  <thead>\n",
              "    <tr style=\"text-align: right;\">\n",
              "      <th></th>\n",
              "      <th>w2v_cos</th>\n",
              "      <th>w2v_2_cos</th>\n",
              "      <th>ft_cos</th>\n",
              "      <th>svd_cos</th>\n",
              "      <th>nmf_cos</th>\n",
              "      <th>label</th>\n",
              "    </tr>\n",
              "  </thead>\n",
              "  <tbody>\n",
              "    <tr>\n",
              "      <th>0</th>\n",
              "      <td>0.092836</td>\n",
              "      <td>0.315568</td>\n",
              "      <td>0.045734</td>\n",
              "      <td>0.569322</td>\n",
              "      <td>0.992004</td>\n",
              "      <td>0</td>\n",
              "    </tr>\n",
              "    <tr>\n",
              "      <th>1</th>\n",
              "      <td>0.069705</td>\n",
              "      <td>0.245257</td>\n",
              "      <td>0.080087</td>\n",
              "      <td>0.393141</td>\n",
              "      <td>0.012006</td>\n",
              "      <td>0</td>\n",
              "    </tr>\n",
              "    <tr>\n",
              "      <th>2</th>\n",
              "      <td>0.046567</td>\n",
              "      <td>0.173560</td>\n",
              "      <td>0.053419</td>\n",
              "      <td>0.344549</td>\n",
              "      <td>0.232557</td>\n",
              "      <td>0</td>\n",
              "    </tr>\n",
              "    <tr>\n",
              "      <th>3</th>\n",
              "      <td>0.204856</td>\n",
              "      <td>0.678593</td>\n",
              "      <td>0.161477</td>\n",
              "      <td>0.422222</td>\n",
              "      <td>0.525985</td>\n",
              "      <td>-1</td>\n",
              "    </tr>\n",
              "    <tr>\n",
              "      <th>4</th>\n",
              "      <td>0.087557</td>\n",
              "      <td>0.324991</td>\n",
              "      <td>0.061701</td>\n",
              "      <td>0.153723</td>\n",
              "      <td>0.105068</td>\n",
              "      <td>0</td>\n",
              "    </tr>\n",
              "  </tbody>\n",
              "</table>\n",
              "</div>"
            ],
            "text/plain": [
              "    w2v_cos  w2v_2_cos    ft_cos   svd_cos   nmf_cos  label\n",
              "0  0.092836   0.315568  0.045734  0.569322  0.992004      0\n",
              "1  0.069705   0.245257  0.080087  0.393141  0.012006      0\n",
              "2  0.046567   0.173560  0.053419  0.344549  0.232557      0\n",
              "3  0.204856   0.678593  0.161477  0.422222  0.525985     -1\n",
              "4  0.087557   0.324991  0.061701  0.153723  0.105068      0"
            ]
          },
          "metadata": {
            "tags": []
          },
          "execution_count": 226
        }
      ]
    },
    {
      "cell_type": "code",
      "metadata": {
        "id": "7aq1XoL7Q8ax"
      },
      "source": [
        "X, y = cos_data.drop(['label'], axis=1), cos_data['label']"
      ],
      "execution_count": 227,
      "outputs": []
    },
    {
      "cell_type": "code",
      "metadata": {
        "id": "-h8oRbLZRFpS",
        "colab": {
          "base_uri": "https://localhost:8080/"
        },
        "outputId": "380c7340-e183-41d6-9edc-308731faf938"
      },
      "source": [
        "cross_val_scores = cross_val_score(clf, X, y, scoring='f1_micro')\n",
        "cross_val_scores"
      ],
      "execution_count": 228,
      "outputs": [
        {
          "output_type": "execute_result",
          "data": {
            "text/plain": [
              "array([0.5670816 , 0.59197787, 0.6200692 , 0.48927336, 0.49550173])"
            ]
          },
          "metadata": {
            "tags": []
          },
          "execution_count": 228
        }
      ]
    },
    {
      "cell_type": "code",
      "metadata": {
        "colab": {
          "base_uri": "https://localhost:8080/"
        },
        "id": "aQdZwfOa25Ak",
        "outputId": "933c4f5a-9674-41e6-80cd-892d67ecd52d"
      },
      "source": [
        "np.mean(cross_val_scores)"
      ],
      "execution_count": 229,
      "outputs": [
        {
          "output_type": "execute_result",
          "data": {
            "text/plain": [
              "0.5527807530139222"
            ]
          },
          "metadata": {
            "tags": []
          },
          "execution_count": 229
        }
      ]
    },
    {
      "cell_type": "code",
      "metadata": {
        "id": "LwPlzNkPRGYJ",
        "colab": {
          "base_uri": "https://localhost:8080/"
        },
        "outputId": "a1f49251-faee-4c45-ad46-7a6ddfb06bce"
      },
      "source": [
        "cross_val_scores = cross_val_score(clf, X, y, scoring='f1_macro')\n",
        "cross_val_scores"
      ],
      "execution_count": 231,
      "outputs": [
        {
          "output_type": "execute_result",
          "data": {
            "text/plain": [
              "array([0.43263559, 0.4675792 , 0.48762723, 0.36898356, 0.37214231])"
            ]
          },
          "metadata": {
            "tags": []
          },
          "execution_count": 231
        }
      ]
    },
    {
      "cell_type": "code",
      "metadata": {
        "colab": {
          "base_uri": "https://localhost:8080/"
        },
        "id": "k2o56z0M256u",
        "outputId": "b9cd866f-a162-4e75-dd17-e54110839e40"
      },
      "source": [
        "np.mean(cross_val_scores)"
      ],
      "execution_count": 232,
      "outputs": [
        {
          "output_type": "execute_result",
          "data": {
            "text/plain": [
              "0.42579357916317884"
            ]
          },
          "metadata": {
            "tags": []
          },
          "execution_count": 232
        }
      ]
    },
    {
      "cell_type": "markdown",
      "metadata": {
        "id": "djwVCV_21mtj"
      },
      "source": [
        "Средние значения стали немного побольше."
      ]
    }
  ]
}