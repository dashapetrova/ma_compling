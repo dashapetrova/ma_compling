{
  "nbformat": 4,
  "nbformat_minor": 0,
  "metadata": {
    "kernelspec": {
      "display_name": "Python 3",
      "language": "python",
      "name": "python3"
    },
    "language_info": {
      "codemirror_mode": {
        "name": "ipython",
        "version": 3
      },
      "file_extension": ".py",
      "mimetype": "text/x-python",
      "name": "python",
      "nbconvert_exporter": "python",
      "pygments_lexer": "ipython3",
      "version": "3.6.5"
    },
    "colab": {
      "name": "hw2_ngrams.ipynb",
      "provenance": []
    }
  },
  "cells": [
    {
      "cell_type": "markdown",
      "metadata": {
        "id": "bXIHKwrlhOJ9"
      },
      "source": [
        "**Задание 1. (5 баллов)**\n",
        "\n",
        "Реализуйте триграмную модель и сгенерируйте несколько текстов. Сравните их с текстами, сгенерированными биграмной моделью. "
      ]
    },
    {
      "cell_type": "code",
      "metadata": {
        "colab": {
          "base_uri": "https://localhost:8080/"
        },
        "id": "737JvyWjg_Mp",
        "outputId": "dba93fdc-621f-42bf-801d-80351537e3d4"
      },
      "source": [
        "from google.colab import drive\n",
        "drive.mount('/content/gdrive') #, force_remount=True"
      ],
      "execution_count": 1,
      "outputs": [
        {
          "output_type": "stream",
          "text": [
            "Mounted at /content/gdrive\n"
          ],
          "name": "stdout"
        }
      ]
    },
    {
      "cell_type": "code",
      "metadata": {
        "id": "gUjpOFpbhAFU"
      },
      "source": [
        "import os\n",
        "os.chdir('gdrive/My Drive/Colab Notebooks')"
      ],
      "execution_count": 2,
      "outputs": []
    },
    {
      "cell_type": "code",
      "metadata": {
        "id": "Dl3qLBsY0H8g"
      },
      "source": [
        "!pip install pymorphy2\n",
        "!pip install pymystem3==0.1.10\n",
        "!pip install rusenttokenize\n",
        "!pip install razdel"
      ],
      "execution_count": null,
      "outputs": []
    },
    {
      "cell_type": "code",
      "metadata": {
        "colab": {
          "base_uri": "https://localhost:8080/"
        },
        "id": "hcj9_aODmivV",
        "outputId": "961d0eca-0a8a-487f-cbcd-f2012f06ba5b"
      },
      "source": [
        "import nltk\n",
        "nltk.download('punkt')"
      ],
      "execution_count": 4,
      "outputs": [
        {
          "output_type": "stream",
          "text": [
            "[nltk_data] Downloading package punkt to /root/nltk_data...\n",
            "[nltk_data]   Unzipping tokenizers/punkt.zip.\n"
          ],
          "name": "stdout"
        },
        {
          "output_type": "execute_result",
          "data": {
            "text/plain": [
              "True"
            ]
          },
          "metadata": {
            "tags": []
          },
          "execution_count": 4
        }
      ]
    },
    {
      "cell_type": "code",
      "metadata": {
        "colab": {
          "base_uri": "https://localhost:8080/"
        },
        "id": "TBWg4EQJ58rx",
        "outputId": "de01d6cd-ef68-46c0-bfc7-6085f0082bd9"
      },
      "source": [
        "import nltk\n",
        "nltk.download('stopwords')"
      ],
      "execution_count": 37,
      "outputs": [
        {
          "output_type": "stream",
          "text": [
            "[nltk_data] Downloading package stopwords to /root/nltk_data...\n",
            "[nltk_data]   Package stopwords is already up-to-date!\n"
          ],
          "name": "stdout"
        },
        {
          "output_type": "execute_result",
          "data": {
            "text/plain": [
              "True"
            ]
          },
          "metadata": {
            "tags": []
          },
          "execution_count": 37
        }
      ]
    },
    {
      "cell_type": "code",
      "metadata": {
        "id": "foZkFr62gGT6"
      },
      "source": [
        "dvach = open('2ch_corpus.txt').read()[:200000]\n",
        "news = open('lenta.txt').read()[:200000]"
      ],
      "execution_count": 5,
      "outputs": []
    },
    {
      "cell_type": "code",
      "metadata": {
        "id": "q-u-TbApgGT-"
      },
      "source": [
        "from string import punctuation\n",
        "from razdel import sentenize\n",
        "from razdel import tokenize as razdel_tokenize\n",
        "import numpy as np\n",
        "\n",
        "def normalize(text):\n",
        "    normalized_text = [word.text.strip(punctuation) for word in razdel_tokenize(text)]\n",
        "    normalized_text = [word.lower() for word in normalized_text if word and len(word) < 20 ]\n",
        "    return normalized_text\n"
      ],
      "execution_count": 6,
      "outputs": []
    },
    {
      "cell_type": "code",
      "metadata": {
        "id": "2UXzzBifgGT-"
      },
      "source": [
        "norm_dvach = normalize(dvach)\n",
        "norm_news = normalize(news)"
      ],
      "execution_count": 7,
      "outputs": []
    },
    {
      "cell_type": "code",
      "metadata": {
        "colab": {
          "base_uri": "https://localhost:8080/"
        },
        "id": "zS4TPdJigGT-",
        "outputId": "dc63b1a7-c622-464a-e025-d0d7cb964718"
      },
      "source": [
        "print(\"Длина корпуса токсичных постов в токенах -\", len(norm_dvach))\n",
        "print(\"Длина корпуса новостных текстов в токенах - \", len(norm_news))"
      ],
      "execution_count": 8,
      "outputs": [
        {
          "output_type": "stream",
          "text": [
            "Длина корпуса токсичных постов в токенах - 31781\n",
            "Длина корпуса новостных текстов в токенах -  25515\n"
          ],
          "name": "stdout"
        }
      ]
    },
    {
      "cell_type": "code",
      "metadata": {
        "colab": {
          "base_uri": "https://localhost:8080/"
        },
        "id": "X2Dzb0a0gGT_",
        "outputId": "26b178ea-711f-4bee-877f-c0414ab36e65"
      },
      "source": [
        "print(\"Уникальных токенов в корпусе токсичных постов -\", len(set(norm_dvach)))\n",
        "print(\"Уникальный токенов в корпусе новостных текстов - \", len(set(norm_news)))"
      ],
      "execution_count": 9,
      "outputs": [
        {
          "output_type": "stream",
          "text": [
            "Уникальных токенов в корпусе токсичных постов - 9976\n",
            "Уникальный токенов в корпусе новостных текстов -  9555\n"
          ],
          "name": "stdout"
        }
      ]
    },
    {
      "cell_type": "code",
      "metadata": {
        "id": "wg6zQgbugGUB"
      },
      "source": [
        "from nltk.tokenize import sent_tokenize\n",
        "\n",
        "def ngrammer(tokens, n=2):\n",
        "    ngrams = []\n",
        "    for i in range(0,len(tokens)-n+1):\n",
        "        ngrams.append(' '.join(tokens[i:i+n]))\n",
        "    return ngrams"
      ],
      "execution_count": 10,
      "outputs": []
    },
    {
      "cell_type": "code",
      "metadata": {
        "id": "Q_XjINosgGUB"
      },
      "source": [
        "sentences_dvach = [['<start>'] + ['<start>'] + normalize(text) + ['<end>'] for text in sent_tokenize(dvach)]\n",
        "sentences_news = [['<start>'] + ['<start>'] + normalize(text) + ['<end>'] for text in sent_tokenize(news)]"
      ],
      "execution_count": 11,
      "outputs": []
    },
    {
      "cell_type": "code",
      "metadata": {
        "id": "J54XLfhlgGUB"
      },
      "source": [
        "from collections import Counter\n",
        "\n",
        "unigrams_dvach = Counter()\n",
        "bigrams_dvach = Counter()\n",
        "trigrams_dvach = Counter()\n",
        "\n",
        "for sentence in sentences_dvach:\n",
        "    unigrams_dvach.update(sentence)\n",
        "    bigrams_dvach.update(ngrammer(sentence))\n",
        "    trigrams_dvach.update(ngrammer(sentence, n=3))\n",
        "\n",
        "unigrams_news = Counter()\n",
        "bigrams_news = Counter()\n",
        "trigrams_news = Counter()\n",
        "\n",
        "for sentence in sentences_news:\n",
        "    unigrams_news.update(sentence)\n",
        "    bigrams_news.update(ngrammer(sentence))\n",
        "    trigrams_news.update(ngrammer(sentence, n=3))\n"
      ],
      "execution_count": 12,
      "outputs": []
    },
    {
      "cell_type": "code",
      "metadata": {
        "colab": {
          "base_uri": "https://localhost:8080/"
        },
        "id": "Dp6tnr9SgGUB",
        "outputId": "bf30c94b-a10f-4eff-820d-dec48615fe89"
      },
      "source": [
        "len(unigrams_dvach), len(bigrams_dvach), len(trigrams_dvach)"
      ],
      "execution_count": 13,
      "outputs": [
        {
          "output_type": "execute_result",
          "data": {
            "text/plain": [
              "(9978, 26664, 30846)"
            ]
          },
          "metadata": {
            "tags": []
          },
          "execution_count": 13
        }
      ]
    },
    {
      "cell_type": "markdown",
      "metadata": {
        "id": "F4fXNRWpgGUC"
      },
      "source": [
        "Cоздадим матрицы с вероятностями для биграмм и триграмм"
      ]
    },
    {
      "cell_type": "code",
      "metadata": {
        "id": "Sg0InoWdgGUC"
      },
      "source": [
        "#bigrams + dvach\n",
        "matrix_dvach = np.zeros((len(unigrams_dvach), len(unigrams_dvach)))\n",
        "id2word_dvach = list(unigrams_dvach)\n",
        "word2id_dvach = {word:i for i, word in enumerate(id2word_dvach)}\n",
        "\n",
        "for ngram in bigrams_dvach:\n",
        "    word1, word2 = ngram.split()\n",
        "    matrix_dvach[word2id_dvach[word1]][word2id_dvach[word2]] = (bigrams_dvach[ngram]/unigrams_dvach[word1])"
      ],
      "execution_count": 14,
      "outputs": []
    },
    {
      "cell_type": "code",
      "metadata": {
        "id": "rl1QqzyvgGUC"
      },
      "source": [
        "#bigrams + news\n",
        "matrix_news = np.zeros((len(unigrams_news), len(unigrams_news)))\n",
        "id2word_news = list(unigrams_news)\n",
        "word2id_news = {word:i for i, word in enumerate(id2word_news)}\n",
        "\n",
        "for ngram in bigrams_news:\n",
        "    word1, word2 = ngram.split()\n",
        "    matrix_news[word2id_news[word1]][word2id_news[word2]] =  (bigrams_news[ngram]/unigrams_news[word1])"
      ],
      "execution_count": 15,
      "outputs": []
    },
    {
      "cell_type": "code",
      "metadata": {
        "id": "V0IJgnGnGAXK"
      },
      "source": [
        "#trigrams + dvach\n",
        "matrix_dvach_2 = np.zeros((len(bigrams_dvach), len(unigrams_dvach)))\n",
        "#id2word_dvach = list(unigrams_dvach)\n",
        "#word2id_dvach = {word:i for i, word in enumerate(id2word_dvach)}\n",
        "id2bi_dvach = list(bigrams_dvach)\n",
        "bi2id_dvach = {bi:i for i, bi in enumerate(id2bi_dvach)}\n",
        "\n",
        "for ngram in trigrams_dvach:\n",
        "    word1, word2, word3 = ngram.split()\n",
        "    bigram = word1 + ' ' + word2\n",
        "    matrix_dvach_2[bi2id_dvach[bigram]][word2id_dvach[word3]] = (trigrams_dvach[ngram]/bigrams_dvach[bigram])"
      ],
      "execution_count": 16,
      "outputs": []
    },
    {
      "cell_type": "code",
      "metadata": {
        "id": "Va5EvWO6JP7E"
      },
      "source": [
        "#trigrams + news\n",
        "matrix_news_2 = np.zeros((len(bigrams_news), len(unigrams_news)))\n",
        "#id2word_news = list(unigrams_news)\n",
        "#word2id_news = {word:i for i, word in enumerate(id2word_news)}\n",
        "id2bi_news = list(bigrams_news)\n",
        "bi2id_news = {bi:i for i, bi in enumerate(id2bi_news)}\n",
        "\n",
        "for ngram in trigrams_news:\n",
        "    word1, word2, word3 = ngram.split()\n",
        "    bigram = word1 + ' ' + word2\n",
        "    matrix_news_2[bi2id_news[bigram]][word2id_news[word3]] = (trigrams_news[ngram]/bigrams_news[bigram])"
      ],
      "execution_count": 17,
      "outputs": []
    },
    {
      "cell_type": "code",
      "metadata": {
        "colab": {
          "base_uri": "https://localhost:8080/"
        },
        "id": "XwWjkA83POpM",
        "outputId": "7ea839ee-8c1e-4c86-8232-813cdb144671"
      },
      "source": [
        "matrix_dvach.shape, matrix_news.shape, matrix_dvach_2.shape, matrix_news_2.shape"
      ],
      "execution_count": 18,
      "outputs": [
        {
          "output_type": "execute_result",
          "data": {
            "text/plain": [
              "((9978, 9978), (9557, 9557), (26664, 9978), (21875, 9557))"
            ]
          },
          "metadata": {
            "tags": []
          },
          "execution_count": 18
        }
      ]
    },
    {
      "cell_type": "markdown",
      "metadata": {
        "id": "CSX4Sp2OgGUC"
      },
      "source": [
        "Для генерации нам понадобится функция np.random.choice , которая выбирает случайный объект из заданных. Ещё в неё можно подать вероятность каждого объекта и она будет доставать по ним (не только максимальный по вероятности)"
      ]
    },
    {
      "cell_type": "code",
      "metadata": {
        "id": "xPtH9RuJgGUC"
      },
      "source": [
        "def generate_1(matrix, id2word, word2id, n=100, start='<start>'):\n",
        "    text = []\n",
        "    current_idx = word2id[start]\n",
        "    \n",
        "    for i in range(n):\n",
        "        chosen = np.random.choice(matrix.shape[1], p=matrix[current_idx])\n",
        "        text.append(id2word[chosen])\n",
        "        \n",
        "        if id2word[chosen] == '<end>':\n",
        "            chosen = word2id['<start>']\n",
        "        current_idx = chosen #для триграмм word2+' '+chosen\n",
        "    \n",
        "    return ' '.join(text)"
      ],
      "execution_count": 19,
      "outputs": []
    },
    {
      "cell_type": "code",
      "metadata": {
        "id": "RCuKnHY_sqx4"
      },
      "source": [
        "def generate_2(matrix, id2word, bi2id, id2bi, n=100, start='<start> <start>'):\n",
        "    text = []\n",
        "    current_idx = bi2id[start]\n",
        "    \n",
        "    for i in range(n):\n",
        "        chosen = np.random.choice(matrix.shape[1], p=matrix[current_idx])\n",
        "        text.append(id2word[chosen])\n",
        "        \n",
        "        if id2word[chosen] == '<end>':\n",
        "          chosen = bi2id[start]\n",
        "        else:\n",
        "          word1, word2 = id2bi[current_idx].split()\n",
        "          chosen = bi2id[word2 + ' ' + id2word[chosen]]\n",
        "        current_idx = chosen\n",
        "    \n",
        "    return ' '.join(text)"
      ],
      "execution_count": 20,
      "outputs": []
    },
    {
      "cell_type": "code",
      "metadata": {
        "colab": {
          "base_uri": "https://localhost:8080/"
        },
        "id": "idEZdCmdgGUC",
        "outputId": "292de0cc-b672-4014-fc8f-4b06e41e4f79"
      },
      "source": [
        "print(generate_1(matrix_dvach, id2word_dvach, word2id_dvach).replace('<end>', '\\n'))"
      ],
      "execution_count": 21,
      "outputs": [
        {
          "output_type": "stream",
          "text": [
            "типа рарити а какая в webm \n",
            " <start> <start> <start> в постсовковых бадишопах изо рта ещё крутой водочно-солевой раствор внутрь желудочного пуза и отнял их можно найти в поезде можно в больницах на 56 учеников значит 20 до гаммы \n",
            " <start> иначе не специалист то и сая просается в uk есть ощущение что он привносит \n",
            " ещё надеюсь сейчас жизнь а лучше алгебру решайте \n",
            " существует аниме так уж плохо печатать могу туда и работал \n",
            " берем эти delphi визуал васик кобол перл джява \n",
            " это всратые как у них iq 80 слышь брат \n",
            " а если после мака \n",
            "\n"
          ],
          "name": "stdout"
        }
      ]
    },
    {
      "cell_type": "code",
      "metadata": {
        "colab": {
          "base_uri": "https://localhost:8080/"
        },
        "id": "2bf7-lbiwKBq",
        "outputId": "89f3a80b-beeb-444a-a9f2-747d65122c42"
      },
      "source": [
        "print(generate_2(matrix_dvach_2, id2word_dvach, bi2id_dvach, id2bi_dvach).replace('<end>', '\\n'))"
      ],
      "execution_count": 22,
      "outputs": [
        {
          "output_type": "stream",
          "text": [
            "не плохая работа но твикстор слегка криповат \n",
            " очевидная одинаковость этих двух структур происходит из одного правила правила построения перспективы \n",
            " живот болит температура лейкоцитоз эмоциональный стресс ну ты ну ты ну привет \n",
            " пизда короче \n",
            " ну то же самое у бэйли джей спроси пополнение в клубе особо одаренных также верно получается если сделать 29 и 47 бесконечное число школьников в каждом новом клипе пробую разные эффекты и переходы \n",
            " это кстати лучше чем пытаться побороть молчаливость менее времязатратно \n",
            " никто не увидит \n",
            " графика базы данных логические и функциональные языки есть отдельными предметами так-то я на втором курсе\n"
          ],
          "name": "stdout"
        }
      ]
    },
    {
      "cell_type": "code",
      "metadata": {
        "colab": {
          "base_uri": "https://localhost:8080/"
        },
        "id": "bOoGUPN7gGUC",
        "outputId": "809f86b3-2bd7-4b67-fabc-6e53c39b2701"
      },
      "source": [
        "print(generate_1(matrix_news, id2word_news, word2id_news).replace('<end>', '\\n'))"
      ],
      "execution_count": 23,
      "outputs": [
        {
          "output_type": "stream",
          "text": [
            "зато в 13 10 лет назад он не моглоне вызвать крупномасштабные инеожиданные жертвы в фбр \n",
            " <start> не допустить их число пострадавших в настоящее время встречи с кпрф партия не подчинились приказу генпрокурора сша китая австралии прошли анти-индонезийские демонстрации данного сюжета представители фбр глава cbs мел кармазин уже в приморье и танков \n",
            " <start> <start> по провинции несмотря на организм человека погибли два человека погибли двое террористов сам имеет смысла поскольку на соответствие проводимых ими была сочтена руководством министерства обороны россии во время может составить около половины своего участия в голову фбр называет также встреча волошина и сами участники акции\n"
          ],
          "name": "stdout"
        }
      ]
    },
    {
      "cell_type": "code",
      "metadata": {
        "id": "QaVnY67ogGUC",
        "colab": {
          "base_uri": "https://localhost:8080/"
        },
        "outputId": "cca40cea-fbd3-4e44-f6e6-70823a1e62e5"
      },
      "source": [
        "print(generate_2(matrix_news_2, id2word_news, bi2id_news, id2bi_news).replace('<end>', '\\n'))"
      ],
      "execution_count": 24,
      "outputs": [
        {
          "output_type": "stream",
          "text": [
            "по словам эдуарда росселя на встрече с губернатором свердловской области \n",
            " в корпус по сведениям агенства рейтер войдут подразделение сил безопасности в решении данных проблем отведена особая роль сегодня областной центр сахалина и курил получил статус очага распространения холеры \n",
            " когда стало ясно что судно разламывается на части его капитан принял решение возобновить акцию гражданского неповиновения властям с требованием к властямускорить сооружение мемориала принцессе \n",
            " отвечая на прямой вопрос собирается ливашингтон добиваться отсрочки решения по этой проблеме онасказала нет десять американских туристов и два жителя танзании погибли во время встречи \n",
            " наши связи неразрывны мы будем идти по пути создания\n"
          ],
          "name": "stdout"
        }
      ]
    },
    {
      "cell_type": "markdown",
      "metadata": {
        "id": "BXI7zs2xw1mh"
      },
      "source": [
        "Кажется, что тексты, сгенерированные триграммной моделью, лучше (как для новостей, так и для двача)"
      ]
    },
    {
      "cell_type": "markdown",
      "metadata": {
        "id": "nlJsT8puyIqR"
      },
      "source": [
        "**Задание 2. (5 баллов)**\n",
        "\n",
        "Напишите функцию оценивания нграммов на основе PMI. Используйте эту функцию вместо дефолтной в gensim.models. Phrases Обучите два последовательных модели Phrases с такой функцией и проанализируйте результаты, получаемые после преобразования текстов двумя Phrases."
      ]
    },
    {
      "cell_type": "markdown",
      "metadata": {
        "id": "v6ao7ASby3RO"
      },
      "source": [
        "Пояснения:\n",
        "Формулу PMI можно посмотреть вот тут https://en.wikipedia.org/wiki/Pointwise_mutual_information , также там описано как вывести вероятности из количества вхождений слова1, слова2, нграмма и размера корпуса.\n",
        "Чтобы функцию можно было поставить в аргумент scoring в Phrases у нее должны быть вот такие аргументы - scorer(worda_count, wordb_count, bigram_count, len_vocab, min_count, corpus_word_count) \n",
        "Подберите параметр threshold под эту функцию. Чтобы проверить, что она вообще работает поставьте какое-то совсем маленькое число, чтобы порог проходили все нграммы и потом постепенно его повышайте.\n",
        "В тетрадке есть пример обучения нескольких Phrases последовательно, воспользуйтесь им.\n"
      ]
    },
    {
      "cell_type": "code",
      "metadata": {
        "id": "N-S6VmhqgGUC"
      },
      "source": [
        "import math\n",
        "\n",
        "def scorer(worda_count, wordb_count, bigram_count, len_vocab, min_count, corpus_word_count):\n",
        "  if bigram_count >= min_count:\n",
        "    a_prob = worda_count / corpus_word_count\n",
        "    b_prob = wordb_count / corpus_word_count\n",
        "    bi_prob = bigram_count / corpus_word_count\n",
        "    pmi_score = math.log(bi_prob/(a_prob*b_prob))    \n",
        "  else:\n",
        "    pmi_score = -1000000 \n",
        "  \n",
        "  return pmi_score"
      ],
      "execution_count": 93,
      "outputs": []
    },
    {
      "cell_type": "code",
      "metadata": {
        "id": "j0QjDeVo3ZIO"
      },
      "source": [
        "def preprocess(text):\n",
        "    sents = sentenize(text)\n",
        "    return [normalize(sent.text) for sent in sents]"
      ],
      "execution_count": 87,
      "outputs": []
    },
    {
      "cell_type": "code",
      "metadata": {
        "id": "X5Yp7VEQ3cqN"
      },
      "source": [
        "import re\n",
        "from string import punctuation\n",
        "from nltk.corpus import stopwords\n",
        "from pymorphy2 import MorphAnalyzer\n",
        "import gensim\n",
        "\n",
        "stops = set(stopwords.words('russian') + [\"это\", \"весь\"])\n",
        "morph = MorphAnalyzer()\n",
        "\n",
        "dvach_prepro = preprocess(dvach)\n",
        "news_prepro = preprocess(news)"
      ],
      "execution_count": 88,
      "outputs": []
    },
    {
      "cell_type": "markdown",
      "metadata": {
        "id": "bNucwxJlHLML"
      },
      "source": [
        "Посмотрим сначала на результаты для новостных текстов"
      ]
    },
    {
      "cell_type": "code",
      "metadata": {
        "colab": {
          "base_uri": "https://localhost:8080/"
        },
        "id": "4PmHrR6P8ShD",
        "outputId": "8d1d1501-5c07-4298-b551-9c71050eccfa"
      },
      "source": [
        "#default (best results)\n",
        "ph_n = gensim.models.Phrases(news_prepro)\n",
        "p_n = gensim.models.phrases.Phraser(ph_n)\n",
        "\n",
        "ph_n2 = gensim.models.Phrases(p_n[news_prepro])\n",
        "p_n2 = gensim.models.phrases.Phraser(ph_n2)\n",
        "\n",
        "for i in range(104,110):\n",
        "  print(p_n2[p_n[news_prepro[i]]])"
      ],
      "execution_count": 134,
      "outputs": [
        {
          "output_type": "stream",
          "text": [
            "['как_сообщает', 'итар-тасс', 'со_ссылкой_на', 'пресс-центр', 'администрации', 'сахалинской_области', 'в', 'лечебных', 'учреждениях', 'южно-сахалинска', 'уже', 'находятсятся', '5', 'горожан', 'причем', 'у', 'двоих', 'из_них', 'болезнь', 'проходит', 'в', 'средне-тяжелой', 'форме']\n",
            "['специалисты', 'госсанэпиднадзора', 'по', 'сахалинской_области', 'и', 'хабаровской', 'противочумной', 'станции', 'считают', 'что', 'возможным', 'источником', 'заражения', 'стала', 'река', 'хомутовка', 'в', 'военном', 'городке', 'и', 'слабосоленная', 'красная', 'рыба', 'собственного', 'приготовления', 'которую', 'жители', 'промывали', 'в', 'этой', 'реке']\n",
            "['решением', 'губернатора', 'сахалинской_области', 'игоря', 'фархутдинова', 'сегодня', 'в', 'южно-сахалинске', 'начато', 'развертывание', 'специальных', 'госпиталей', 'и', 'изоляторов', 'для', 'локализации', 'и', 'ликвидации', 'очага', 'холеры']\n",
            "['кроме_того', 'на_заседании', 'комиссии', 'было', 'принято', 'решение', 'о', 'трехкратном', 'бактериологическом', 'обследовании', 'всех', 'больных', 'обратившихся', 'в', 'медицинские', 'учреждения', 'города', 'с', 'жалобами', 'на', 'кишечные', 'расстройства']\n",
            "['в', 'южно-сахалинске', 'установлен', 'запрет', 'на', 'купание', 'и', 'водопользование', 'в', 'неустановленных', 'местах', 'бывший', 'шеф', 'службы_безопасности', 'президента', 'александр', 'коржаков', 'лидер', 'движения', 'в', 'поддержку', 'армии', 'виктор', 'илюхин', 'и', 'руководители', 'ряда', 'других', 'движений', 'возглавят', 'блок', 'патриотических', 'сил', 'русский', 'дом']\n",
            "['выступая', 'сегодня', 'на', 'пресс-конференции', 'в_москве', 'руководитель', 'союза', 'соотечественников', 'отчизна', 'борис', 'тарасов', 'заявил_что', 'основой', 'блока', 'стал', 'политических', 'договор', 'между', 'этими', 'политическими', 'организациями']\n"
          ],
          "name": "stdout"
        }
      ]
    },
    {
      "cell_type": "code",
      "metadata": {
        "colab": {
          "base_uri": "https://localhost:8080/"
        },
        "id": "j7PCBzw2ESND",
        "outputId": "93d8eb22-3316-4d87-d122-15fc15702f1a"
      },
      "source": [
        "#default + threshold=0.005 (best results)\n",
        "ph_n = gensim.models.Phrases(news_prepro, threshold = 0.005)\n",
        "p_n = gensim.models.phrases.Phraser(ph_n)\n",
        "\n",
        "ph_n2 = gensim.models.Phrases(p_n[news_prepro], threshold = 0.005)\n",
        "p_n2 = gensim.models.phrases.Phraser(ph_n2)\n",
        "\n",
        "for i in range(104,110):\n",
        "  print(p_n2[p_n[news_prepro[i]]])"
      ],
      "execution_count": 149,
      "outputs": [
        {
          "output_type": "stream",
          "text": [
            "['как_сообщает', 'итар-тасс', 'со_ссылкой_на', 'пресс-центр', 'администрации', 'сахалинской_области', 'в', 'лечебных', 'учреждениях', 'южно-сахалинска', 'уже', 'находятсятся', '5', 'горожан', 'причем', 'у', 'двоих', 'из_них', 'болезнь', 'проходит', 'в', 'средне-тяжелой', 'форме']\n",
            "['специалисты', 'госсанэпиднадзора', 'по', 'сахалинской_области', 'и', 'хабаровской', 'противочумной', 'станции', 'считают', 'что', 'возможным', 'источником', 'заражения', 'стала', 'река', 'хомутовка', 'в', 'военном', 'городке', 'и', 'слабосоленная', 'красная', 'рыба', 'собственного', 'приготовления', 'которую', 'жители', 'промывали', 'в', 'этой', 'реке']\n",
            "['решением', 'губернатора', 'сахалинской_области', 'игоря', 'фархутдинова', 'сегодня_в', 'южно-сахалинске', 'начато', 'развертывание', 'специальных', 'госпиталей', 'и', 'изоляторов', 'для', 'локализации', 'и', 'ликвидации', 'очага', 'холеры']\n",
            "['кроме_того', 'на_заседании', 'комиссии', 'было', 'принято', 'решение', 'о', 'трехкратном', 'бактериологическом', 'обследовании', 'всех', 'больных', 'обратившихся', 'в', 'медицинские', 'учреждения', 'города', 'с', 'жалобами', 'на', 'кишечные', 'расстройства']\n",
            "['в', 'южно-сахалинске', 'установлен', 'запрет', 'на', 'купание', 'и', 'водопользование', 'в', 'неустановленных', 'местах', 'бывший', 'шеф', 'службы_безопасности', 'президента', 'александр', 'коржаков', 'лидер', 'движения', 'в', 'поддержку', 'армии', 'виктор', 'илюхин', 'и', 'руководители', 'ряда', 'других', 'движений', 'возглавят', 'блок', 'патриотических', 'сил', 'русский', 'дом']\n",
            "['выступая', 'сегодня', 'на', 'пресс-конференции', 'в_москве', 'руководитель', 'союза', 'соотечественников', 'отчизна', 'борис', 'тарасов', 'заявил_что', 'основой', 'блока', 'стал', 'политических', 'договор', 'между', 'этими', 'политическими', 'организациями']\n"
          ],
          "name": "stdout"
        }
      ]
    },
    {
      "cell_type": "code",
      "metadata": {
        "colab": {
          "base_uri": "https://localhost:8080/"
        },
        "id": "WhwMpvWkJ16I",
        "outputId": "46ba0480-bda0-4763-c54b-00f4c5a8c113"
      },
      "source": [
        "#pmi + threshold=0.005\n",
        "ph_n = gensim.models.Phrases(news_prepro, scoring = scorer, threshold = 0.005)\n",
        "p_n = gensim.models.phrases.Phraser(ph_n)\n",
        "\n",
        "ph_n2 = gensim.models.Phrases(p_n[news_prepro], scoring = scorer, threshold = 0.005)\n",
        "p_n2 = gensim.models.phrases.Phraser(ph_n2)\n",
        "\n",
        "for i in range(104,110):\n",
        "  print(p_n2[p_n[news_prepro[i]]])"
      ],
      "execution_count": 148,
      "outputs": [
        {
          "output_type": "stream",
          "text": [
            "['как_сообщает', 'итар-тасс_со', 'ссылкой_на', 'пресс-центр', 'администрации', 'сахалинской_области', 'в', 'лечебных', 'учреждениях', 'южно-сахалинска', 'уже', 'находятсятся', '5', 'горожан', 'причем', 'у', 'двоих', 'из_них', 'болезнь', 'проходит', 'в', 'средне-тяжелой', 'форме']\n",
            "['специалисты', 'госсанэпиднадзора', 'по', 'сахалинской_области', 'и', 'хабаровской', 'противочумной', 'станции', 'считают', 'что', 'возможным', 'источником', 'заражения', 'стала', 'река', 'хомутовка', 'в', 'военном', 'городке', 'и', 'слабосоленная', 'красная', 'рыба', 'собственного', 'приготовления', 'которую', 'жители', 'промывали', 'в', 'этой', 'реке']\n",
            "['решением', 'губернатора', 'сахалинской_области', 'игоря', 'фархутдинова', 'сегодня_в', 'южно-сахалинске', 'начато', 'развертывание', 'специальных', 'госпиталей', 'и', 'изоляторов', 'для', 'локализации', 'и', 'ликвидации', 'очага', 'холеры']\n",
            "['кроме_того', 'на_заседании', 'комиссии', 'было', 'принято', 'решение', 'о', 'трехкратном', 'бактериологическом', 'обследовании', 'всех', 'больных', 'обратившихся', 'в', 'медицинские', 'учреждения', 'города', 'с', 'жалобами', 'на', 'кишечные', 'расстройства']\n",
            "['в', 'южно-сахалинске', 'установлен', 'запрет', 'на', 'купание', 'и', 'водопользование', 'в', 'неустановленных', 'местах', 'бывший', 'шеф', 'службы_безопасности', 'президента', 'александр', 'коржаков', 'лидер', 'движения', 'в', 'поддержку', 'армии', 'виктор', 'илюхин', 'и', 'руководители', 'ряда', 'других', 'движений', 'возглавят', 'блок', 'патриотических', 'сил', 'русский', 'дом']\n",
            "['выступая', 'сегодня', 'на', 'пресс-конференции', 'в_москве', 'руководитель', 'союза', 'соотечественников', 'отчизна', 'борис', 'тарасов', 'заявил_что', 'основой', 'блока', 'стал', 'политических', 'договор', 'между', 'этими', 'политическими', 'организациями']\n"
          ],
          "name": "stdout"
        }
      ]
    },
    {
      "cell_type": "code",
      "metadata": {
        "colab": {
          "base_uri": "https://localhost:8080/"
        },
        "id": "OpBEORGiFK9k",
        "outputId": "8c1bbdbb-e129-4af9-a7ff-d108763427a7"
      },
      "source": [
        "#pmi + threshold=0.5\n",
        "ph_n = gensim.models.Phrases(news_prepro, scoring = scorer, threshold = 0.5)\n",
        "p_n = gensim.models.phrases.Phraser(ph_n)\n",
        "\n",
        "ph_n2 = gensim.models.Phrases(p_n[news_prepro], scoring = scorer, threshold = 0.5)\n",
        "p_n2 = gensim.models.phrases.Phraser(ph_n2)\n",
        "\n",
        "for i in range(104,110):\n",
        "  print(p_n2[p_n[news_prepro[i]]])"
      ],
      "execution_count": 127,
      "outputs": [
        {
          "output_type": "stream",
          "text": [
            "['как_сообщает', 'итар-тасс_со', 'ссылкой_на', 'пресс-центр', 'администрации', 'сахалинской_области', 'в', 'лечебных', 'учреждениях', 'южно-сахалинска', 'уже', 'находятсятся', '5', 'горожан', 'причем', 'у', 'двоих', 'из_них', 'болезнь', 'проходит', 'в', 'средне-тяжелой', 'форме']\n",
            "['специалисты', 'госсанэпиднадзора', 'по', 'сахалинской_области', 'и', 'хабаровской', 'противочумной', 'станции', 'считают', 'что', 'возможным', 'источником', 'заражения', 'стала', 'река', 'хомутовка', 'в', 'военном', 'городке', 'и', 'слабосоленная', 'красная', 'рыба', 'собственного', 'приготовления', 'которую', 'жители', 'промывали', 'в', 'этой', 'реке']\n",
            "['решением', 'губернатора', 'сахалинской_области', 'игоря', 'фархутдинова', 'сегодня_в', 'южно-сахалинске', 'начато', 'развертывание', 'специальных', 'госпиталей', 'и', 'изоляторов', 'для', 'локализации', 'и', 'ликвидации', 'очага', 'холеры']\n",
            "['кроме_того', 'на_заседании', 'комиссии', 'было', 'принято', 'решение', 'о', 'трехкратном', 'бактериологическом', 'обследовании', 'всех', 'больных', 'обратившихся', 'в', 'медицинские', 'учреждения', 'города', 'с', 'жалобами', 'на', 'кишечные', 'расстройства']\n",
            "['в', 'южно-сахалинске', 'установлен', 'запрет', 'на', 'купание', 'и', 'водопользование', 'в', 'неустановленных', 'местах', 'бывший', 'шеф', 'службы_безопасности', 'президента', 'александр', 'коржаков', 'лидер', 'движения', 'в', 'поддержку', 'армии', 'виктор', 'илюхин', 'и', 'руководители', 'ряда', 'других', 'движений', 'возглавят', 'блок', 'патриотических', 'сил', 'русский', 'дом']\n",
            "['выступая', 'сегодня', 'на', 'пресс-конференции', 'в_москве', 'руководитель', 'союза', 'соотечественников', 'отчизна', 'борис', 'тарасов', 'заявил_что', 'основой', 'блока', 'стал', 'политических', 'договор', 'между', 'этими', 'политическими', 'организациями']\n"
          ],
          "name": "stdout"
        }
      ]
    },
    {
      "cell_type": "code",
      "metadata": {
        "colab": {
          "base_uri": "https://localhost:8080/"
        },
        "id": "HFwPQiPv_I6h",
        "outputId": "710591da-c093-4dd1-dc66-7c75a3a011c7"
      },
      "source": [
        "#pmi + threshold=6\n",
        "ph_n = gensim.models.Phrases(news_prepro, scoring = scorer, threshold = 6)\n",
        "p_n = gensim.models.phrases.Phraser(ph_n)\n",
        "\n",
        "ph_n2 = gensim.models.Phrases(p_n[news_prepro], scoring = scorer, threshold = 6)\n",
        "p_n2 = gensim.models.phrases.Phraser(ph_n2)\n",
        "\n",
        "for i in range(104,110):\n",
        "  print(p_n2[p_n[news_prepro[i]]])"
      ],
      "execution_count": 126,
      "outputs": [
        {
          "output_type": "stream",
          "text": [
            "['как', 'сообщает', 'итар-тасс', 'со_ссылкой', 'на', 'пресс-центр', 'администрации', 'сахалинской_области', 'в', 'лечебных', 'учреждениях', 'южно-сахалинска', 'уже', 'находятсятся', '5', 'горожан', 'причем', 'у', 'двоих', 'из', 'них', 'болезнь', 'проходит', 'в', 'средне-тяжелой', 'форме']\n",
            "['специалисты', 'госсанэпиднадзора', 'по', 'сахалинской_области', 'и', 'хабаровской', 'противочумной', 'станции', 'считают', 'что', 'возможным', 'источником', 'заражения', 'стала', 'река', 'хомутовка', 'в', 'военном', 'городке', 'и', 'слабосоленная', 'красная', 'рыба', 'собственного', 'приготовления', 'которую', 'жители', 'промывали', 'в', 'этой', 'реке']\n",
            "['решением', 'губернатора', 'сахалинской_области', 'игоря', 'фархутдинова', 'сегодня', 'в', 'южно-сахалинске', 'начато', 'развертывание', 'специальных', 'госпиталей', 'и', 'изоляторов', 'для', 'локализации', 'и', 'ликвидации', 'очага', 'холеры']\n",
            "['кроме_того', 'на', 'заседании', 'комиссии', 'было', 'принято', 'решение', 'о', 'трехкратном', 'бактериологическом', 'обследовании', 'всех', 'больных', 'обратившихся', 'в', 'медицинские', 'учреждения', 'города', 'с', 'жалобами', 'на', 'кишечные', 'расстройства']\n",
            "['в', 'южно-сахалинске', 'установлен', 'запрет', 'на', 'купание', 'и', 'водопользование', 'в', 'неустановленных', 'местах', 'бывший', 'шеф', 'службы_безопасности', 'президента', 'александр', 'коржаков', 'лидер', 'движения', 'в', 'поддержку', 'армии', 'виктор', 'илюхин', 'и', 'руководители', 'ряда', 'других', 'движений', 'возглавят', 'блок', 'патриотических', 'сил', 'русский', 'дом']\n",
            "['выступая', 'сегодня', 'на', 'пресс-конференции', 'в', 'москве', 'руководитель', 'союза', 'соотечественников', 'отчизна', 'борис', 'тарасов', 'заявил', 'что', 'основой', 'блока', 'стал', 'политических', 'договор', 'между', 'этими', 'политическими', 'организациями']\n"
          ],
          "name": "stdout"
        }
      ]
    },
    {
      "cell_type": "code",
      "metadata": {
        "colab": {
          "base_uri": "https://localhost:8080/"
        },
        "id": "muZpEMvaHots",
        "outputId": "74abb877-79d6-4fd1-cf10-4ff6b6ed83dd"
      },
      "source": [
        "#pmi + threshold=10\n",
        "ph_n = gensim.models.Phrases(news_prepro, scoring = scorer, threshold = 10)\n",
        "p_n = gensim.models.phrases.Phraser(ph_n)\n",
        "\n",
        "ph_n2 = gensim.models.Phrases(p_n[news_prepro], scoring = scorer, threshold = 10)\n",
        "p_n2 = gensim.models.phrases.Phraser(ph_n2)\n",
        "\n",
        "for i in range(104,110):\n",
        "  print(p_n2[p_n[news_prepro[i]]])"
      ],
      "execution_count": 143,
      "outputs": [
        {
          "output_type": "stream",
          "text": [
            "['как', 'сообщает', 'итар-тасс', 'со', 'ссылкой', 'на', 'пресс-центр', 'администрации', 'сахалинской', 'области', 'в', 'лечебных', 'учреждениях', 'южно-сахалинска', 'уже', 'находятсятся', '5', 'горожан', 'причем', 'у', 'двоих', 'из', 'них', 'болезнь', 'проходит', 'в', 'средне-тяжелой', 'форме']\n",
            "['специалисты', 'госсанэпиднадзора', 'по', 'сахалинской', 'области', 'и', 'хабаровской', 'противочумной', 'станции', 'считают', 'что', 'возможным', 'источником', 'заражения', 'стала', 'река', 'хомутовка', 'в', 'военном', 'городке', 'и', 'слабосоленная', 'красная', 'рыба', 'собственного', 'приготовления', 'которую', 'жители', 'промывали', 'в', 'этой', 'реке']\n",
            "['решением', 'губернатора', 'сахалинской', 'области', 'игоря', 'фархутдинова', 'сегодня', 'в', 'южно-сахалинске', 'начато', 'развертывание', 'специальных', 'госпиталей', 'и', 'изоляторов', 'для', 'локализации', 'и', 'ликвидации', 'очага', 'холеры']\n",
            "['кроме', 'того', 'на', 'заседании', 'комиссии', 'было', 'принято', 'решение', 'о', 'трехкратном', 'бактериологическом', 'обследовании', 'всех', 'больных', 'обратившихся', 'в', 'медицинские', 'учреждения', 'города', 'с', 'жалобами', 'на', 'кишечные', 'расстройства']\n",
            "['в', 'южно-сахалинске', 'установлен', 'запрет', 'на', 'купание', 'и', 'водопользование', 'в', 'неустановленных', 'местах', 'бывший', 'шеф', 'службы', 'безопасности', 'президента', 'александр', 'коржаков', 'лидер', 'движения', 'в', 'поддержку', 'армии', 'виктор', 'илюхин', 'и', 'руководители', 'ряда', 'других', 'движений', 'возглавят', 'блок', 'патриотических', 'сил', 'русский', 'дом']\n",
            "['выступая', 'сегодня', 'на', 'пресс-конференции', 'в', 'москве', 'руководитель', 'союза', 'соотечественников', 'отчизна', 'борис', 'тарасов', 'заявил', 'что', 'основой', 'блока', 'стал', 'политических', 'договор', 'между', 'этими', 'политическими', 'организациями']\n"
          ],
          "name": "stdout"
        }
      ]
    },
    {
      "cell_type": "markdown",
      "metadata": {
        "id": "0pYvpgioHHSE"
      },
      "source": [
        "Посмотрим на тексты двача"
      ]
    },
    {
      "cell_type": "code",
      "metadata": {
        "colab": {
          "base_uri": "https://localhost:8080/"
        },
        "id": "JABPP2Oj6Ql8",
        "outputId": "5cbaac7e-f30f-451d-fbe4-06f48a81f0af"
      },
      "source": [
        "#default\n",
        "ph_d = gensim.models.Phrases(dvach_prepro)\n",
        "p_d = gensim.models.phrases.Phraser(ph_d)\n",
        "\n",
        "ph_d2 = gensim.models.Phrases(p_d[dvach_prepro])\n",
        "p_d2 = gensim.models.phrases.Phraser(ph_d2)\n",
        "\n",
        "for i in range(110,120):\n",
        "  print(p_d2[p_d[dvach_prepro[i]]])"
      ],
      "execution_count": 133,
      "outputs": [
        {
          "output_type": "stream",
          "text": [
            "['или', 'ты', 'про', 'кирхе']\n",
            "['ты', 'превращаешься', 'в', 'суисейсеки', 'десу']\n",
            "['я', 'думаю_что', 'он', 'про', 'кирхе']\n",
            "['но', 'у', 'нее', 'и', 'так', 'есть', 'с_кем', 'мутить', 'а', 'гг', 'она', 'просто', 'траллирует', 'регулярно', 'потому_что', 'она', 'тру-рут']\n",
            "['остальное', 'другие', 'руты', 'хуй_знает', 'зачем', 'засунутые', 'подряд']\n",
            "['ну', 'хорошо', 'ты', 'пример', 'примеры', 'лучше', 'я', 'не', 'спорю']\n",
            "['и', 'мне', 'и', 'гатари', 'нравятся', 'как', 'и', 'тамошняя', 'манера', 'подачи', 'просто', 'я', 'считаю', 'что', 'автор', 'мысль', 'доносил', 'на', 'примере', 'слабоватых', 'примеров', 'вот', 'и', 'все']\n",
            "['эльфийка', 'тоже', 'ведь', 'со', 'своей', 'атмосферой', 'чего-то', 'не', 'в', 'меру', 'возвышенного']\n",
            "['он', 'её', 'только', 'испортит']\n",
            "['з', 'я', 'абсолютно', 'точно', 'про', 'табиту', 'но', 'нынче', 'вообще', 'грань', 'между', 'дандере', 'и', 'кудере', 'очень', 'размыта', 'так', 'что', 'я', 'не', 'пытаюсь', 'их', 'разделять', 'кардинально', 'чаще', 'всего']\n"
          ],
          "name": "stdout"
        }
      ]
    },
    {
      "cell_type": "code",
      "metadata": {
        "colab": {
          "base_uri": "https://localhost:8080/"
        },
        "id": "eZly5Y6CHcVz",
        "outputId": "5787e2ae-3796-4dde-a63e-5491d5b67df5"
      },
      "source": [
        "#default + threshold (best results)\n",
        "ph_d = gensim.models.Phrases(dvach_prepro, threshold = 0.005)\n",
        "p_d = gensim.models.phrases.Phraser(ph_d)\n",
        "\n",
        "ph_d2 = gensim.models.Phrases(p_d[dvach_prepro], threshold = 0.005)\n",
        "p_d2 = gensim.models.phrases.Phraser(ph_d2)\n",
        "\n",
        "for i in range(110,120):\n",
        "  print(p_d2[p_d[dvach_prepro[i]]])"
      ],
      "execution_count": 140,
      "outputs": [
        {
          "output_type": "stream",
          "text": [
            "['или', 'ты', 'про', 'кирхе']\n",
            "['ты', 'превращаешься', 'в', 'суисейсеки', 'десу']\n",
            "['я_думаю', 'что_он', 'про', 'кирхе']\n",
            "['но', 'у', 'нее', 'и_так', 'есть', 'с_кем', 'мутить', 'а', 'гг', 'она', 'просто', 'траллирует', 'регулярно', 'потому_что', 'она', 'тру-рут']\n",
            "['остальное', 'другие', 'руты', 'хуй_знает', 'зачем', 'засунутые', 'подряд']\n",
            "['ну', 'хорошо', 'ты', 'пример', 'примеры', 'лучше', 'я_не', 'спорю']\n",
            "['и', 'мне', 'и', 'гатари', 'нравятся', 'как_и', 'тамошняя', 'манера', 'подачи', 'просто', 'я', 'считаю', 'что', 'автор', 'мысль', 'доносил', 'на', 'примере', 'слабоватых', 'примеров', 'вот_и', 'все']\n",
            "['эльфийка', 'тоже', 'ведь', 'со', 'своей', 'атмосферой', 'чего-то', 'не_в', 'меру', 'возвышенного']\n",
            "['он', 'её', 'только', 'испортит']\n",
            "['з', 'я', 'абсолютно', 'точно', 'про', 'табиту', 'но', 'нынче', 'вообще', 'грань', 'между', 'дандере', 'и', 'кудере', 'очень', 'размыта', 'так_что', 'я_не', 'пытаюсь', 'их', 'разделять', 'кардинально', 'чаще', 'всего']\n"
          ],
          "name": "stdout"
        }
      ]
    },
    {
      "cell_type": "code",
      "metadata": {
        "colab": {
          "base_uri": "https://localhost:8080/"
        },
        "id": "uPImeqqP7kSL",
        "outputId": "9f0752e1-4a8d-44b8-bf9d-3460e9b5e5f8"
      },
      "source": [
        "#pmi + threshold=0.005\n",
        "ph_d = gensim.models.Phrases(dvach_prepro, scoring = scorer, threshold = 0.005)\n",
        "p_d = gensim.models.phrases.Phraser(ph_d)\n",
        "\n",
        "ph_d2 = gensim.models.Phrases(p_d[dvach_prepro], scoring = scorer, threshold = 0.005)\n",
        "p_d2 = gensim.models.phrases.Phraser(ph_d2)\n",
        "\n",
        "for i in range(110,120):\n",
        "  print(p_d2[p_d[dvach_prepro[i]]])"
      ],
      "execution_count": 131,
      "outputs": [
        {
          "output_type": "stream",
          "text": [
            "['или', 'ты', 'про', 'кирхе']\n",
            "['ты', 'превращаешься', 'в', 'суисейсеки', 'десу']\n",
            "['я_думаю', 'что_он', 'про', 'кирхе']\n",
            "['но', 'у', 'нее', 'и_так', 'есть', 'с_кем', 'мутить', 'а', 'гг', 'она', 'просто', 'траллирует', 'регулярно', 'потому_что', 'она', 'тру-рут']\n",
            "['остальное', 'другие', 'руты', 'хуй_знает', 'зачем', 'засунутые', 'подряд']\n",
            "['ну', 'хорошо', 'ты', 'пример', 'примеры', 'лучше', 'я_не', 'спорю']\n",
            "['и', 'мне', 'и', 'гатари', 'нравятся', 'как', 'и', 'тамошняя', 'манера', 'подачи', 'просто', 'я', 'считаю', 'что', 'автор', 'мысль', 'доносил', 'на', 'примере', 'слабоватых', 'примеров', 'вот_и', 'все']\n",
            "['эльфийка', 'тоже', 'ведь', 'со', 'своей', 'атмосферой', 'чего-то', 'не', 'в', 'меру', 'возвышенного']\n",
            "['он', 'её', 'только', 'испортит']\n",
            "['з', 'я', 'абсолютно', 'точно', 'про', 'табиту', 'но', 'нынче', 'вообще', 'грань', 'между', 'дандере', 'и', 'кудере', 'очень', 'размыта', 'так_что', 'я_не', 'пытаюсь', 'их', 'разделять', 'кардинально', 'чаще', 'всего']\n"
          ],
          "name": "stdout"
        }
      ]
    },
    {
      "cell_type": "code",
      "metadata": {
        "colab": {
          "base_uri": "https://localhost:8080/"
        },
        "id": "ayvdMtzdGPFr",
        "outputId": "7ffda3da-b35c-4889-e0f1-87ddb8c02215"
      },
      "source": [
        "#pmi + threshold=2\n",
        "ph_d = gensim.models.Phrases(dvach_prepro, scoring = scorer, threshold = 2)\n",
        "p_d = gensim.models.phrases.Phraser(ph_d)\n",
        "\n",
        "ph_d2 = gensim.models.Phrases(p_d[dvach_prepro], scoring = scorer, threshold = 2)\n",
        "p_d2 = gensim.models.phrases.Phraser(ph_d2)\n",
        "\n",
        "for i in range(110,120):\n",
        "  print(p_d2[p_d[dvach_prepro[i]]])"
      ],
      "execution_count": 147,
      "outputs": [
        {
          "output_type": "stream",
          "text": [
            "['или', 'ты', 'про', 'кирхе']\n",
            "['ты', 'превращаешься', 'в', 'суисейсеки', 'десу']\n",
            "['я_думаю', 'что_он', 'про', 'кирхе']\n",
            "['но', 'у', 'нее', 'и', 'так', 'есть', 'с_кем', 'мутить', 'а', 'гг', 'она', 'просто', 'траллирует', 'регулярно', 'потому_что', 'она', 'тру-рут']\n",
            "['остальное', 'другие', 'руты', 'хуй_знает', 'зачем', 'засунутые', 'подряд']\n",
            "['ну', 'хорошо', 'ты', 'пример', 'примеры', 'лучше', 'я', 'не', 'спорю']\n",
            "['и', 'мне', 'и', 'гатари', 'нравятся', 'как', 'и', 'тамошняя', 'манера', 'подачи', 'просто', 'я', 'считаю', 'что', 'автор', 'мысль', 'доносил', 'на', 'примере', 'слабоватых', 'примеров', 'вот', 'и', 'все']\n",
            "['эльфийка', 'тоже', 'ведь', 'со', 'своей', 'атмосферой', 'чего-то', 'не', 'в', 'меру', 'возвышенного']\n",
            "['он', 'её', 'только', 'испортит']\n",
            "['з', 'я', 'абсолютно', 'точно', 'про', 'табиту', 'но', 'нынче', 'вообще', 'грань', 'между', 'дандере', 'и', 'кудере', 'очень', 'размыта', 'так_что', 'я', 'не', 'пытаюсь', 'их', 'разделять', 'кардинально', 'чаще', 'всего']\n"
          ],
          "name": "stdout"
        }
      ]
    },
    {
      "cell_type": "code",
      "metadata": {
        "colab": {
          "base_uri": "https://localhost:8080/"
        },
        "id": "oXcBflobIgaY",
        "outputId": "d2e35aa2-b4c4-4ee8-a262-9d824ab1914d"
      },
      "source": [
        "#pmi + threshold = 6\n",
        "ph_d = gensim.models.Phrases(dvach_prepro, scoring = scorer, threshold = 6)\n",
        "p_d = gensim.models.phrases.Phraser(ph_d)\n",
        "\n",
        "ph_d2 = gensim.models.Phrases(p_d[dvach_prepro], scoring = scorer, threshold = 6)\n",
        "p_d2 = gensim.models.phrases.Phraser(ph_d2)\n",
        "\n",
        "for i in range(110,120):\n",
        "  print(p_d2[p_d[dvach_prepro[i]]])"
      ],
      "execution_count": 146,
      "outputs": [
        {
          "output_type": "stream",
          "text": [
            "['или', 'ты', 'про', 'кирхе']\n",
            "['ты', 'превращаешься', 'в', 'суисейсеки', 'десу']\n",
            "['я', 'думаю', 'что', 'он', 'про', 'кирхе']\n",
            "['но', 'у', 'нее', 'и', 'так', 'есть', 'с', 'кем', 'мутить', 'а', 'гг', 'она', 'просто', 'траллирует', 'регулярно', 'потому', 'что', 'она', 'тру-рут']\n",
            "['остальное', 'другие', 'руты', 'хуй', 'знает', 'зачем', 'засунутые', 'подряд']\n",
            "['ну', 'хорошо', 'ты', 'пример', 'примеры', 'лучше', 'я', 'не', 'спорю']\n",
            "['и', 'мне', 'и', 'гатари', 'нравятся', 'как', 'и', 'тамошняя', 'манера', 'подачи', 'просто', 'я', 'считаю', 'что', 'автор', 'мысль', 'доносил', 'на', 'примере', 'слабоватых', 'примеров', 'вот', 'и', 'все']\n",
            "['эльфийка', 'тоже', 'ведь', 'со', 'своей', 'атмосферой', 'чего-то', 'не', 'в', 'меру', 'возвышенного']\n",
            "['он', 'её', 'только', 'испортит']\n",
            "['з', 'я', 'абсолютно', 'точно', 'про', 'табиту', 'но', 'нынче', 'вообще', 'грань', 'между', 'дандере', 'и', 'кудере', 'очень', 'размыта', 'так', 'что', 'я', 'не', 'пытаюсь', 'их', 'разделять', 'кардинально', 'чаще', 'всего']\n"
          ],
          "name": "stdout"
        }
      ]
    },
    {
      "cell_type": "markdown",
      "metadata": {
        "id": "WkhhHj4yGm8_"
      },
      "source": [
        "Можно отметить, что для новостных текстов при pmi threshold <=6 (примерно), все еще дает неплохие результаты, в то время как для текстов двача, уже при threshold >= 2 (примерно), количество выделенных биграмм начинает уменьшаться\n",
        "\n",
        "Однако в целом дефолтный scorer дает результаты лучше, чем pmi"
      ]
    },
    {
      "cell_type": "code",
      "metadata": {
        "id": "HM1ctFCOJPYM"
      },
      "source": [
        ""
      ],
      "execution_count": null,
      "outputs": []
    }
  ]
}