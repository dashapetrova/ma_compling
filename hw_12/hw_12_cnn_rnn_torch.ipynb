{
  "nbformat": 4,
  "nbformat_minor": 0,
  "metadata": {
    "kernelspec": {
      "display_name": "Python 3",
      "language": "python",
      "name": "python3"
    },
    "language_info": {
      "codemirror_mode": {
        "name": "ipython",
        "version": 3
      },
      "file_extension": ".py",
      "mimetype": "text/x-python",
      "name": "python",
      "nbconvert_exporter": "python",
      "pygments_lexer": "ipython3",
      "version": "3.6.9"
    },
    "colab": {
      "name": "hw_12_cnn_rnn_torch.ipynb",
      "provenance": [],
      "collapsed_sections": []
    }
  },
  "cells": [
    {
      "cell_type": "code",
      "metadata": {
        "colab": {
          "base_uri": "https://localhost:8080/"
        },
        "id": "JqqVcovlrBzt",
        "outputId": "920808c1-794c-43f1-d043-2263b2b4e1df"
      },
      "source": [
        "from google.colab import drive\n",
        "drive.mount('/content/gdrive') #, force_remount=True"
      ],
      "execution_count": 1,
      "outputs": [
        {
          "output_type": "stream",
          "text": [
            "Mounted at /content/gdrive\n"
          ],
          "name": "stdout"
        }
      ]
    },
    {
      "cell_type": "code",
      "metadata": {
        "id": "PR3k4JqtrDr7"
      },
      "source": [
        "import os\n",
        "os.chdir('gdrive/My Drive/Colab Notebooks/nlp_hw')"
      ],
      "execution_count": 2,
      "outputs": []
    },
    {
      "cell_type": "markdown",
      "metadata": {
        "id": "UNcnmCPVrQQ2"
      },
      "source": [
        "Задание:\n",
        "\n",
        "Создайте 1 нейронную сеть, в которой буду сразу все перечисленные слои: 2 CNN слоя с разными параметрами друг за другом, Пулинг слой после каждого CNN слоя, Дропаут в любом месте, GRU и LSTM (причем gru должен быть прямо- а lstm обратнонаправленным, а их последние стейты должны быть сконкатенированы). Обучитесь на тех же данных, что и на семинаре. Посчитайте качество и нарисуйте график. F-мера не должна быть ниже - 0.70"
      ]
    },
    {
      "cell_type": "code",
      "metadata": {
        "scrolled": true,
        "colab": {
          "base_uri": "https://localhost:8080/"
        },
        "id": "QFB_sl78qz6B",
        "outputId": "d5637a87-b496-4180-d44e-094fdb7cd923"
      },
      "source": [
        "!pip install torch torch-vision"
      ],
      "execution_count": 3,
      "outputs": [
        {
          "output_type": "stream",
          "text": [
            "Requirement already satisfied: torch in /usr/local/lib/python3.7/dist-packages (1.9.0+cu102)\n",
            "Collecting torch-vision\n",
            "  Downloading https://files.pythonhosted.org/packages/ea/13/4942860c32f6877def97c0b432348adce870ae613ed4eb1de10cae0bb018/torch_vision-0.1.6.dev0-py2.py3-none-any.whl\n",
            "Requirement already satisfied: typing-extensions in /usr/local/lib/python3.7/dist-packages (from torch) (3.7.4.3)\n",
            "Installing collected packages: torch-vision\n",
            "Successfully installed torch-vision-0.1.6.dev0\n"
          ],
          "name": "stdout"
        }
      ]
    },
    {
      "cell_type": "code",
      "metadata": {
        "colab": {
          "base_uri": "https://localhost:8080/"
        },
        "id": "z0pdRg40qz6F",
        "outputId": "bb29bb18-5cad-484c-cc8b-4844bfcbedd9"
      },
      "source": [
        "!apt-get install unzip"
      ],
      "execution_count": 4,
      "outputs": [
        {
          "output_type": "stream",
          "text": [
            "Reading package lists... Done\n",
            "Building dependency tree       \n",
            "Reading state information... Done\n",
            "unzip is already the newest version (6.0-21ubuntu1.1).\n",
            "0 upgraded, 0 newly installed, 0 to remove and 39 not upgraded.\n"
          ],
          "name": "stdout"
        }
      ]
    },
    {
      "cell_type": "code",
      "metadata": {
        "colab": {
          "base_uri": "https://localhost:8080/"
        },
        "id": "tFFOEyzBqz6H",
        "outputId": "23b04c5c-19e1-490e-9c61-16ffb50a3e44"
      },
      "source": [
        "!unzip data.zip"
      ],
      "execution_count": 5,
      "outputs": [
        {
          "output_type": "stream",
          "text": [
            "unzip:  cannot find or open data.zip, data.zip.zip or data.zip.ZIP.\n"
          ],
          "name": "stdout"
        }
      ]
    },
    {
      "cell_type": "code",
      "metadata": {
        "scrolled": true,
        "colab": {
          "base_uri": "https://localhost:8080/"
        },
        "id": "P9jZqCPXqz6I",
        "outputId": "a889d5c2-7a2e-46c3-c3ea-aa80eb039e61"
      },
      "source": [
        "!pip install pandas scikit-learn matplotlib"
      ],
      "execution_count": 6,
      "outputs": [
        {
          "output_type": "stream",
          "text": [
            "Requirement already satisfied: pandas in /usr/local/lib/python3.7/dist-packages (1.1.5)\n",
            "Requirement already satisfied: scikit-learn in /usr/local/lib/python3.7/dist-packages (0.22.2.post1)\n",
            "Requirement already satisfied: matplotlib in /usr/local/lib/python3.7/dist-packages (3.2.2)\n",
            "Requirement already satisfied: pytz>=2017.2 in /usr/local/lib/python3.7/dist-packages (from pandas) (2018.9)\n",
            "Requirement already satisfied: python-dateutil>=2.7.3 in /usr/local/lib/python3.7/dist-packages (from pandas) (2.8.1)\n",
            "Requirement already satisfied: numpy>=1.15.4 in /usr/local/lib/python3.7/dist-packages (from pandas) (1.19.5)\n",
            "Requirement already satisfied: joblib>=0.11 in /usr/local/lib/python3.7/dist-packages (from scikit-learn) (1.0.1)\n",
            "Requirement already satisfied: scipy>=0.17.0 in /usr/local/lib/python3.7/dist-packages (from scikit-learn) (1.4.1)\n",
            "Requirement already satisfied: kiwisolver>=1.0.1 in /usr/local/lib/python3.7/dist-packages (from matplotlib) (1.3.1)\n",
            "Requirement already satisfied: pyparsing!=2.0.4,!=2.1.2,!=2.1.6,>=2.0.1 in /usr/local/lib/python3.7/dist-packages (from matplotlib) (2.4.7)\n",
            "Requirement already satisfied: cycler>=0.10 in /usr/local/lib/python3.7/dist-packages (from matplotlib) (0.10.0)\n",
            "Requirement already satisfied: six>=1.5 in /usr/local/lib/python3.7/dist-packages (from python-dateutil>=2.7.3->pandas) (1.15.0)\n"
          ],
          "name": "stdout"
        }
      ]
    },
    {
      "cell_type": "code",
      "metadata": {
        "id": "4bN1kxjhqz6N"
      },
      "source": [
        "import torch\n",
        "import torch.nn as nn\n",
        "import torch.nn.functional as F\n",
        "import torch.optim as optim\n",
        "import torch.utils.data"
      ],
      "execution_count": 7,
      "outputs": []
    },
    {
      "cell_type": "code",
      "metadata": {
        "id": "51GAs41Cqz6O"
      },
      "source": [
        "import pandas as pd\n",
        "import numpy as np\n",
        "from string import punctuation\n",
        "from sklearn.model_selection import train_test_split\n",
        "from collections import Counter\n",
        "import matplotlib.pyplot as plt\n",
        "%matplotlib inline"
      ],
      "execution_count": 8,
      "outputs": []
    },
    {
      "cell_type": "code",
      "metadata": {
        "id": "cN6ncvfcqz6P"
      },
      "source": [
        "# данные - статьи из ленты ру, нужно предсказать категорию новости\n",
        "data = pd.read_csv('lenta_sample.csv')"
      ],
      "execution_count": 10,
      "outputs": []
    },
    {
      "cell_type": "code",
      "metadata": {
        "id": "vW6Via_Qqz6P"
      },
      "source": [
        "data.dropna(subset=['topic', 'text'], inplace=True)"
      ],
      "execution_count": 11,
      "outputs": []
    },
    {
      "cell_type": "code",
      "metadata": {
        "id": "kJakTRV0qz6Q"
      },
      "source": [
        "def preprocess(text):\n",
        "    tokens = text.lower().split()\n",
        "    tokens = [token.strip(punctuation) for token in tokens]\n",
        "    return tokens"
      ],
      "execution_count": 12,
      "outputs": []
    },
    {
      "cell_type": "code",
      "metadata": {
        "id": "8kNeeumpqz6S"
      },
      "source": [
        "# словарь\n",
        "vocab = Counter()\n",
        "\n",
        "for text in data.text:\n",
        "    vocab.update(preprocess(text))"
      ],
      "execution_count": 13,
      "outputs": []
    },
    {
      "cell_type": "code",
      "metadata": {
        "colab": {
          "base_uri": "https://localhost:8080/"
        },
        "id": "wnFnFlWkqz6S",
        "outputId": "13fb271e-49e5-42c9-86a6-77e5e3a6cce8"
      },
      "source": [
        "len(vocab)"
      ],
      "execution_count": 14,
      "outputs": [
        {
          "output_type": "execute_result",
          "data": {
            "text/plain": [
              "670782"
            ]
          },
          "metadata": {
            "tags": []
          },
          "execution_count": 14
        }
      ]
    },
    {
      "cell_type": "code",
      "metadata": {
        "id": "ATzVI43hqz6a"
      },
      "source": [
        "# отфильтрованный словарь\n",
        "filtered_vocab = set()\n",
        "\n",
        "for word in vocab:\n",
        "    if vocab[word] > 30:\n",
        "        filtered_vocab.add(word)"
      ],
      "execution_count": 15,
      "outputs": []
    },
    {
      "cell_type": "code",
      "metadata": {
        "colab": {
          "base_uri": "https://localhost:8080/"
        },
        "id": "hP4vZUeIqz6b",
        "outputId": "e6e51fb3-0b32-4722-89b1-2ff3afc9c976"
      },
      "source": [
        "len(filtered_vocab)"
      ],
      "execution_count": 16,
      "outputs": [
        {
          "output_type": "execute_result",
          "data": {
            "text/plain": [
              "55293"
            ]
          },
          "metadata": {
            "tags": []
          },
          "execution_count": 16
        }
      ]
    },
    {
      "cell_type": "code",
      "metadata": {
        "id": "jyPxhtxzqz6c"
      },
      "source": [
        "# индексируем слова\n",
        "word2id = {'PAD':0}\n",
        "\n",
        "for word in filtered_vocab:\n",
        "    word2id[word] = len(word2id)"
      ],
      "execution_count": 17,
      "outputs": []
    },
    {
      "cell_type": "code",
      "metadata": {
        "id": "UQT0XlbGqz6c"
      },
      "source": [
        "id2word = {i:word for word, i in word2id.items()}"
      ],
      "execution_count": 18,
      "outputs": []
    },
    {
      "cell_type": "markdown",
      "metadata": {
        "id": "ekjAiMRhqz6d"
      },
      "source": [
        "Обертка для данных"
      ]
    },
    {
      "cell_type": "code",
      "metadata": {
        "id": "d0DCYLNCqz6d"
      },
      "source": [
        "class Dataset(torch.utils.data.Dataset):\n",
        "\n",
        "    def __init__(self, word2id, MAX_LEN, texts, targets):\n",
        "        \n",
        "        # храним сырой датасет\n",
        "        # еще лучше можно сделать, если считывать из файла при генерации\n",
        "        self.texts = [torch.LongTensor([word2id[w] for w in self.preprocess(t) if w in word2id][:MAX_LEN]) for t in texts]\n",
        "        self.texts = torch.nn.utils.rnn.pad_sequence(self.texts, batch_first=True)\n",
        "        \n",
        "        # мы не считаем словарь прямо тут, т.к. нам нужно шерить словарь между трейном и валидацией\n",
        "        self.word2id = word2id\n",
        "        self.MAX_LEN = MAX_LEN\n",
        "        self.length = len(texts)\n",
        "        # таргеты можно сразу целиком выделить \n",
        "        \n",
        "        self.target = torch.LongTensor(targets)\n",
        "\n",
        "    def __len__(self):\n",
        "        # нужно уметь возвращать длину датасета, в нашем случае это просто сделать\n",
        "        # если не загружать данные целиком, а читать из файла - это может быть сложнее\n",
        "        return self.length\n",
        "\n",
        "    def __getitem__(self, index):\n",
        "\n",
        "        # в index будут индексы от 0 до self.length\n",
        "        # по ним мы достанем тексты, предобработаем,переведем в векторы, западим и вернем\n",
        "\n",
        "        ids = self.texts[index]\n",
        "        y = self.target[index]\n",
        "\n",
        "        return ids, y\n",
        "    \n",
        "    def preprocess(self, text):\n",
        "        tokens = text.lower().split()\n",
        "        tokens = [token.strip(punctuation) for token in tokens]\n",
        "        tokens = [token for token in tokens if token]\n",
        "        return tokens\n"
      ],
      "execution_count": 19,
      "outputs": []
    },
    {
      "cell_type": "code",
      "metadata": {
        "id": "UMJLnSZcqz6e"
      },
      "source": [
        "MAX_LEN = 100"
      ],
      "execution_count": 38,
      "outputs": []
    },
    {
      "cell_type": "code",
      "metadata": {
        "id": "TUU6skK8qz6f"
      },
      "source": [
        "texts = data.text.values\n",
        "id2label = {i:l for i,l in enumerate(set(data.topic))}\n",
        "label2id = {l:i for i,l in id2label.items()}\n",
        "targets = [label2id[l] for l in data.topic]"
      ],
      "execution_count": 39,
      "outputs": []
    },
    {
      "cell_type": "code",
      "metadata": {
        "id": "z7jhOGi1qz6f"
      },
      "source": [
        "train_texts, valid_texts, train_targets, valid_targets = train_test_split(texts, targets, test_size=0.05)"
      ],
      "execution_count": 40,
      "outputs": []
    },
    {
      "cell_type": "code",
      "metadata": {
        "id": "LuZ_5WYRqz6g"
      },
      "source": [
        "training_set = Dataset(word2id, MAX_LEN, train_texts, train_targets)\n",
        "training_generator = torch.utils.data.DataLoader(training_set, batch_size=256, shuffle=True, )"
      ],
      "execution_count": 41,
      "outputs": []
    },
    {
      "cell_type": "code",
      "metadata": {
        "id": "-I4JmJJhqz6g"
      },
      "source": [
        "valid_set = Dataset(word2id, MAX_LEN, valid_texts, valid_targets)\n",
        "valid_generator = torch.utils.data.DataLoader(valid_set, batch_size=256, shuffle=True)"
      ],
      "execution_count": 42,
      "outputs": []
    },
    {
      "cell_type": "code",
      "metadata": {
        "id": "t8wSwTHLqz6h"
      },
      "source": [
        "from sklearn.metrics import f1_score\n",
        "\n",
        "def train(model, iterator, optimizer, criterion, print_every=1000):\n",
        "    \n",
        "    epoch_loss = []\n",
        "    epoch_f1 = []\n",
        "    \n",
        "    model.train()  \n",
        "\n",
        "    for i, (texts, ys) in enumerate(iterator):\n",
        "        \n",
        "        optimizer.zero_grad()   \n",
        "        predictions = model(texts.to(device)).squeeze()  \n",
        "        loss = criterion(predictions, ys.to(device))        \n",
        "        \n",
        "        loss.backward()\n",
        "        optimizer.step()     \n",
        "        preds = predictions.detach().to('cpu').numpy().argmax(1).tolist()\n",
        "        y_true = ys.tolist()\n",
        "        \n",
        "        epoch_loss.append(loss.item())\n",
        "        epoch_f1.append(f1_score(y_true, preds, average=\"micro\"))\n",
        "        \n",
        "        if not (i+1) % print_every:\n",
        "            print(f'Loss: {np.mean(epoch_loss)}; F1 measure: {np.mean(epoch_f1)}')\n",
        "        \n",
        "    return np.mean(epoch_f1)\n",
        "\n",
        "\n",
        "def evaluate(model, iterator, criterion):\n",
        "    \n",
        "    epoch_loss = []\n",
        "    epoch_f1 = []\n",
        "    \n",
        "    model.eval()  \n",
        "    with torch.no_grad():\n",
        "        for texts, ys in iterator:   \n",
        "\n",
        "            predictions = model(texts.to(device)).squeeze()  \n",
        "            loss = criterion(predictions, ys.to(device))        \n",
        "            preds = predictions.detach().to('cpu').numpy().argmax(1).tolist()\n",
        "            y_true = ys.tolist()\n",
        "            \n",
        "\n",
        "            epoch_loss.append(loss.item())  \n",
        "            epoch_f1.append(f1_score(y_true, preds, average=\"micro\"))\n",
        "            \n",
        "    return np.mean(epoch_f1)# / len(iterator)"
      ],
      "execution_count": 43,
      "outputs": []
    },
    {
      "cell_type": "code",
      "metadata": {
        "id": "NT6wVpWAvC-j"
      },
      "source": [
        "# созданный класс в торче можно использовать просто как слой!\n",
        "\n",
        "class Conv_layer_with_pad(nn.Module):\n",
        "    \n",
        "    def __init__(self, in_channels, out_channel=32, kernel_size=7, stride=1):\n",
        "        \n",
        "        super().__init__()          \n",
        "        self.KERNEL_SIZE = kernel_size\n",
        "        self.IN_CHANNELS = in_channels\n",
        "        self.OUT_CHANNELS = out_channel\n",
        "        self.STRIDE = stride\n",
        "        self.conv = nn.Conv1d(self.IN_CHANNELS, \n",
        "                              self.OUT_CHANNELS, \n",
        "                              kernel_size=self.KERNEL_SIZE, \n",
        "                              stride=self.STRIDE, ) \n",
        "        \n",
        "        self.act = nn.LeakyReLU()\n",
        "        \n",
        "    def forward(self, embedded):\n",
        "        \"\"\"\n",
        "        Хотим на выходе получить длину, которая будет соответствовать длине изначальной последовательности.\n",
        "        Т.е. мы знаем OUTPUT_LENGTH и наша задача найти такой MAX_LEN, при котором он получается (остальные параметры фиксированы)\n",
        "        Перенесем все известные значения влево и получится вот такая формула\n",
        "        ((OUTPUT_LENGTH-1)*STRIDE)+1+(KERNEL_SIZE-1) = MAX_LEN\n",
        "        \n",
        "        Используя нужное значение MAX_LEN, нам нужно допаддить изначальную последовательность до этой длины\n",
        "        Т.к. мы будет падить с двух сторон, то нужно, чтобы получившееся число делилось на 2\n",
        "        \"\"\"\n",
        "        MAX_LEN = embedded.size(2)\n",
        "        EXP_LEN = ((MAX_LEN-1)*self.STRIDE)+1+(self.KERNEL_SIZE-1)\n",
        "\n",
        "        # нужно чтобы все сходилось, иначе выдавать ошибку\n",
        "        assert not (EXP_LEN-MAX_LEN)%2, f\"Не ровный паддинг! {EXP_LEN}\"\n",
        "        \n",
        "        padded = F.pad(embedded, (int((EXP_LEN-MAX_LEN)/2), int((EXP_LEN-MAX_LEN)/2)))\n",
        "        \n",
        "        convoluted = self.conv(padded)\n",
        "        \n",
        "        return self.act(convoluted)"
      ],
      "execution_count": 44,
      "outputs": []
    },
    {
      "cell_type": "code",
      "metadata": {
        "id": "CZdYwidCvDKt"
      },
      "source": [
        "class Pooling(nn.Module):\n",
        "    \n",
        "    def __init__(self, MAX_LEN):\n",
        "        \n",
        "        super().__init__()          \n",
        "        self.KERNEL_SIZE = 2\n",
        "        self.STRIDE = 2\n",
        "                \n",
        "        self.max_pool = nn.MaxPool1d(kernel_size=self.KERNEL_SIZE, stride=self.STRIDE, padding=0)\n",
        "        \n",
        "        self.act = nn.LeakyReLU()\n",
        "        \n",
        "    def forward(self, embedded):\n",
        "        \n",
        "        pooled = self.max_pool(embedded)\n",
        "\n",
        "        MAX_LEN = embedded.size(2) \n",
        "        OUT_LEN = pooled.size(2)\n",
        "\n",
        "        padded = F.pad(pooled, (int((MAX_LEN - OUT_LEN)/2), int((MAX_LEN - OUT_LEN)/2)))\n",
        "\n",
        "        return self.act(padded)"
      ],
      "execution_count": 45,
      "outputs": []
    },
    {
      "cell_type": "code",
      "metadata": {
        "id": "keyfSadTwdR6"
      },
      "source": [
        "class Clf(nn.Module):\n",
        "    \n",
        "    def __init__(self, output_dim):\n",
        "        \n",
        "        super().__init__()          \n",
        "        self.VOCAB_SIZE = len(word2id)\n",
        "        self.EMB_DIM = 128\n",
        "        self.KERNEL_SIZE = 7\n",
        "        self.MAX_LEN = 150\n",
        "        self.IN_CHANNELS = self.MAX_LEN\n",
        "        self.OUT_CHANNELS = 32\n",
        "        self.STRIDE = 1\n",
        "        self.HIDDEN_FC = 64\n",
        "        self.RNN_UNITS = 32\n",
        "        \n",
        "        \n",
        "        self.embedding = nn.Embedding(self.VOCAB_SIZE, self.EMB_DIM)\n",
        "        \n",
        "        self.conv_1 = Conv_layer_with_pad(self.EMB_DIM, self.OUT_CHANNELS)\n",
        "        self.conv_2 = Conv_layer_with_pad(self.OUT_CHANNELS, 16, kernel_size = 2, stride=2)\n",
        "        #self.max_pool = nn.MaxPool1d(kernel_size=self.KERNEL_SIZE, stride=self.STRIDE) \n",
        "        #self.pool_length = int((((self.conv_length-(self.KERNEL_SIZE_POOL-1)-1)/self.STRIDE_POOL)+1))\n",
        "        #self.relu_pool = torch.nn.LeakyReLU()\n",
        "        self.pool = Pooling(self.EMB_DIM)\n",
        "        self.gru = nn.GRU(16, self.RNN_UNITS, batch_first=True, num_layers=4)\n",
        "        self.lstm = nn.LSTM(16, self.RNN_UNITS, batch_first=True, num_layers=2, dropout=0.4)\n",
        "        self.relu = nn.ReLU()\n",
        "\n",
        "        self.fc = nn.Linear(self.RNN_UNITS*2, output_dim)\n",
        "        self.act = nn.LogSoftmax(1) \n",
        "        \n",
        "        \n",
        "    def forward(self, text):\n",
        "\n",
        "        embedded = self.embedding(text)\n",
        "\n",
        "        conv_layer_1 = self.relu(self.pool(self.conv_1(embedded.permute(0, 2, 1))))\n",
        "        conv_layer_2 = self.relu(self.pool(self.conv_2(conv_layer_1))).permute(0, 2, 1)\n",
        "        gru = self.gru(conv_layer_2)[0][:, -1]\n",
        "        lstm = self.lstm(conv_layer_2[:, -1:])[0][:, -1]\n",
        "\n",
        "        concated = torch.cat((gru, lstm), 1)\n",
        "        hidden = torch.relu(self.fc(concated))\n",
        "        outputs=self.act(hidden)\n",
        "\n",
        "        return outputs"
      ],
      "execution_count": 46,
      "outputs": []
    },
    {
      "cell_type": "code",
      "metadata": {
        "id": "oJF7zCrF2iBe"
      },
      "source": [
        "class Clf(nn.Module):\n",
        "    \n",
        "    def __init__(self, output_dim):\n",
        "        \n",
        "        super().__init__()          \n",
        "        self.VOCAB_SIZE = len(word2id)\n",
        "        self.EMB_DIM = 128\n",
        "        self.KERNEL_SIZE = 7\n",
        "        self.MAX_LEN = 150\n",
        "        self.IN_CHANNELS = self.MAX_LEN\n",
        "        self.OUT_CHANNELS = 32\n",
        "        self.STRIDE = 1\n",
        "        self.HIDDEN_FC = 64\n",
        "        self.RNN_UNITS = 32\n",
        "        \n",
        "        \n",
        "        self.embedding = nn.Embedding(self.VOCAB_SIZE, self.EMB_DIM)\n",
        "        \n",
        "        self.conv_1 = Conv_layer_with_pad(self.EMB_DIM, self.OUT_CHANNELS)\n",
        "        self.conv_2 = Conv_layer_with_pad(self.OUT_CHANNELS, 16, kernel_size = 2, stride=2)\n",
        "\n",
        "        self.max_pool = nn.MaxPool1d(kernel_size=self.KERNEL_SIZE, stride=self.STRIDE) \n",
        "        #self.pool_length = int((((self.conv_length-(self.KERNEL_SIZE_POOL-1)-1)/self.STRIDE_POOL)+1))\n",
        "        self.relu_pool = torch.nn.LeakyReLU()\n",
        "        self.pool = Pooling(self.EMB_DIM)\n",
        "\n",
        "        self.gru = nn.GRU(16, self.RNN_UNITS, batch_first=True, num_layers=4)\n",
        "        self.lstm = nn.LSTM(16, self.RNN_UNITS, batch_first=True, num_layers=2, dropout=0.4)\n",
        "        self.relu = nn.ReLU()\n",
        "\n",
        "        self.fc = nn.Linear(self.RNN_UNITS*2, output_dim)\n",
        "        self.act = nn.LogSoftmax(1) \n",
        "        \n",
        "        \n",
        "    def forward(self, text):\n",
        "\n",
        "        embedded = self.embedding(text)\n",
        "        \n",
        "        '''pooled = self.max_pool(self.conv_1(embedded.permute(0, 2, 1)))\n",
        "        MAX_LEN = embedded.size(2) \n",
        "        OUT_LEN = pooled.size(2)\n",
        "        padded = F.pad(pooled, (int((MAX_LEN - OUT_LEN)/2), int((MAX_LEN - OUT_LEN)/2)))\n",
        "        conv_layer_1 = self.relu(self.relu_pool(padded))'''\n",
        "        \n",
        "        conv_layer_1 = self.pool(self.relu(self.conv_1(embedded.permute(0, 2, 1))))\n",
        "        \n",
        "        '''pooled = self.max_pool(self.conv_2(conv_layer_1.permute(0, 2, 1)))\n",
        "        MAX_LEN = conv_layer_1.size(2) \n",
        "        OUT_LEN = pooled.size(2)\n",
        "        padded = F.pad(pooled, (int((MAX_LEN - OUT_LEN)/2), int((MAX_LEN - OUT_LEN)/2)))\n",
        "        conv_layer_2 = self.relu(self.relu_pool(padded))'''\n",
        "        \n",
        "        conv_layer_2 = self.pool(self.relu(self.conv_2(conv_layer_1))).permute(0, 2, 1)\n",
        "\n",
        "        gru = self.gru(conv_layer_2)[0][:, -1]\n",
        "        lstm = self.lstm(conv_layer_2[:, -1:])[0][:, -1]\n",
        "\n",
        "        concated = torch.cat((gru, lstm), 1)\n",
        "        hidden = torch.relu(self.fc(concated))\n",
        "        outputs=self.act(hidden)\n",
        "\n",
        "        return outputs"
      ],
      "execution_count": 62,
      "outputs": []
    },
    {
      "cell_type": "code",
      "metadata": {
        "id": "91fAoZBVzDhf"
      },
      "source": [
        "device = torch.device('cuda' if torch.cuda.is_available() else 'cpu')  \n",
        "model = Clf(len(label2id))\n",
        "\n",
        "\n",
        "optimizer = optim.Adam(model.parameters(), lr=0.001)\n",
        "criterion = nn.NLLLoss() \n",
        "\n",
        "model = model.to(device)\n",
        "criterion = criterion.to(device)"
      ],
      "execution_count": 63,
      "outputs": []
    },
    {
      "cell_type": "markdown",
      "metadata": {
        "id": "d8M6OWriShg6"
      },
      "source": [
        "1 вариант"
      ]
    },
    {
      "cell_type": "code",
      "metadata": {
        "colab": {
          "base_uri": "https://localhost:8080/"
        },
        "id": "JbYIGfAszLRl",
        "outputId": "f4ce212d-f26b-4819-e301-07c51a9a7e5e"
      },
      "source": [
        "%%time\n",
        "f1s = []\n",
        "f1s_eval = []\n",
        "\n",
        "for i in range(10):\n",
        "    print(i)\n",
        "    f1s.append(train(model, training_generator, optimizer, criterion, 100))\n",
        "    evl = evaluate(model, valid_generator, criterion)\n",
        "    print('Eval - ', evl)\n",
        "    f1s_eval.append(evl)"
      ],
      "execution_count": 48,
      "outputs": [
        {
          "output_type": "stream",
          "text": [
            "0\n",
            "Loss: 2.908799614906311; F1 measure: 0.102265625\n",
            "Loss: 2.905505106449127; F1 measure: 0.10470703125\n",
            "Loss: 2.90448646068573; F1 measure: 0.10563802083333333\n",
            "Loss: 2.9042225486040114; F1 measure: 0.106181640625\n",
            "Loss: 2.9041447386741637; F1 measure: 0.1064140625\n",
            "Eval -  0.09792983716475097\n",
            "1\n",
            "Loss: 2.900038094520569; F1 measure: 0.110625\n",
            "Loss: 2.9025893712043764; F1 measure: 0.10859375\n",
            "Loss: 2.9013557291030883; F1 measure: 0.10963541666666667\n",
            "Loss: 2.902010145783424; F1 measure: 0.109013671875\n",
            "Loss: 2.902141170024872; F1 measure: 0.108671875\n",
            "Eval -  0.09779992816091955\n",
            "2\n",
            "Loss: 2.900706481933594; F1 measure: 0.1078125\n",
            "Loss: 2.9034680593013764; F1 measure: 0.10578125\n",
            "Loss: 2.9025282033284507; F1 measure: 0.10748697916666666\n",
            "Loss: 2.8713770186901093; F1 measure: 0.1244140625\n",
            "Loss: 2.789216537475586; F1 measure: 0.1508046875\n",
            "Eval -  0.3157405411877394\n",
            "3\n",
            "Loss: 2.1095170962810514; F1 measure: 0.3321484375\n",
            "Loss: 2.0535838627815246; F1 measure: 0.35900390625\n",
            "Loss: 2.004780751069387; F1 measure: 0.3758723958333333\n",
            "Loss: 1.966184386909008; F1 measure: 0.38654296875\n",
            "Loss: 1.934422548532486; F1 measure: 0.3953671875\n",
            "Eval -  0.43198515325670495\n",
            "4\n",
            "Loss: 1.676901353597641; F1 measure: 0.4655859375\n",
            "Loss: 1.6753046476840974; F1 measure: 0.47109375\n",
            "Loss: 1.6618040784200032; F1 measure: 0.4776171875\n",
            "Loss: 1.6540093368291855; F1 measure: 0.483349609375\n",
            "Loss: 1.6401910445690155; F1 measure: 0.4915859375\n",
            "Eval -  0.5163565613026819\n",
            "5\n",
            "Loss: 1.4857432913780213; F1 measure: 0.573203125\n",
            "Loss: 1.4699126607179642; F1 measure: 0.58333984375\n",
            "Loss: 1.4569236187140147; F1 measure: 0.591171875\n",
            "Loss: 1.4435183489322663; F1 measure: 0.597294921875\n",
            "Loss: 1.4291872794628144; F1 measure: 0.60309375\n",
            "Eval -  0.5960464559386973\n",
            "6\n",
            "Loss: 1.2407375383377075; F1 measure: 0.6650390625\n",
            "Loss: 1.2373614668846131; F1 measure: 0.66603515625\n",
            "Loss: 1.2321441388130188; F1 measure: 0.6673828125\n",
            "Loss: 1.226722996532917; F1 measure: 0.66875\n",
            "Loss: 1.2239906772375106; F1 measure: 0.6699609375\n",
            "Eval -  0.6257028256704981\n",
            "7\n",
            "Loss: 1.1168250054121018; F1 measure: 0.7067578125\n",
            "Loss: 1.1002687403559686; F1 measure: 0.7105859375\n",
            "Loss: 1.104495850801468; F1 measure: 0.7093229166666667\n",
            "Loss: 1.1081321381032467; F1 measure: 0.708193359375\n",
            "Loss: 1.1056781187057496; F1 measure: 0.7086875\n",
            "Eval -  0.6227723898467433\n",
            "8\n",
            "Loss: 1.0095912897586823; F1 measure: 0.7381640625\n",
            "Loss: 1.0094281420111657; F1 measure: 0.73751953125\n",
            "Loss: 1.0131708639860153; F1 measure: 0.7365104166666666\n",
            "Loss: 1.0162460309267045; F1 measure: 0.735625\n",
            "Loss: 1.0173913767337799; F1 measure: 0.735078125\n",
            "Eval -  0.6390241858237548\n",
            "9\n",
            "Loss: 0.9302271085977555; F1 measure: 0.7598828125\n",
            "Loss: 0.9364303335547447; F1 measure: 0.7577734375\n",
            "Loss: 0.9394935941696168; F1 measure: 0.7567447916666666\n",
            "Loss: 0.9447920516133308; F1 measure: 0.75501953125\n",
            "Loss: 0.9459485428333283; F1 measure: 0.754\n",
            "Eval -  0.6297581417624522\n",
            "CPU times: user 38min 27s, sys: 1min 3s, total: 39min 30s\n",
            "Wall time: 39min 19s\n"
          ],
          "name": "stdout"
        }
      ]
    },
    {
      "cell_type": "code",
      "metadata": {
        "colab": {
          "base_uri": "https://localhost:8080/",
          "height": 295
        },
        "id": "Nyngn9xhqz6l",
        "outputId": "d64cb938-c12c-4772-bef2-fc7756a6d8a2"
      },
      "source": [
        "plt.plot(f1s)\n",
        "plt.plot(f1s_eval)\n",
        "plt.title('model f1 micro')\n",
        "plt.ylabel('f1')\n",
        "plt.xlabel('epoch')\n",
        "plt.legend(['train', 'val'], loc='upper left')\n",
        "plt.show()"
      ],
      "execution_count": 49,
      "outputs": [
        {
          "output_type": "display_data",
          "data": {
            "image/png": "[encoded data removed]",
            "text/plain": [
              "<Figure size 432x288 with 1 Axes>"
            ]
          },
          "metadata": {
            "tags": [],
            "needs_background": "light"
          }
        }
      ]
    },
    {
      "cell_type": "markdown",
      "metadata": {
        "id": "PAORk5f-SmjJ"
      },
      "source": [
        "2 вариант (тут я немного поменяла порядок слоев)"
      ]
    },
    {
      "cell_type": "code",
      "metadata": {
        "colab": {
          "base_uri": "https://localhost:8080/"
        },
        "id": "FMVIMK5BEyfb",
        "outputId": "ff0c676c-fb3c-4725-e4be-fa9ed7eb0792"
      },
      "source": [
        "%%time\n",
        "f1s = []\n",
        "f1s_eval = []\n",
        "\n",
        "for i in range(10):\n",
        "    print(i)\n",
        "    f1s.append(train(model, training_generator, optimizer, criterion, 100))\n",
        "    evl = evaluate(model, valid_generator, criterion)\n",
        "    print('Eval - ', evl)\n",
        "    f1s_eval.append(evl)"
      ],
      "execution_count": 64,
      "outputs": [
        {
          "output_type": "stream",
          "text": [
            "0\n",
            "Loss: 2.5634573698043823; F1 measure: 0.2075\n",
            "Loss: 2.5124964368343354; F1 measure: 0.21181640625\n",
            "Loss: 2.4880743447939553; F1 measure: 0.21536458333333333\n",
            "Loss: 2.428839171528816; F1 measure: 0.230712890625\n",
            "Loss: 2.370196575641632; F1 measure: 0.244765625\n",
            "Eval -  0.3372503591954023\n",
            "1\n",
            "Loss: 1.9789793121814727; F1 measure: 0.3551953125\n",
            "Loss: 1.9472412246465682; F1 measure: 0.36521484375\n",
            "Loss: 1.921428142786026; F1 measure: 0.37140625\n",
            "Loss: 1.9016798695921897; F1 measure: 0.3788671875\n",
            "Loss: 1.8840366051197053; F1 measure: 0.3863046875\n",
            "Eval -  0.42779513888888887\n",
            "2\n",
            "Loss: 1.7162684071063996; F1 measure: 0.468203125\n",
            "Loss: 1.7052212786674499; F1 measure: 0.47849609375\n",
            "Loss: 1.681471767425537; F1 measure: 0.4896484375\n",
            "Loss: 1.6616485488414765; F1 measure: 0.498798828125\n",
            "Loss: 1.6391533873081208; F1 measure: 0.5070859375\n",
            "Eval -  0.5309129549808429\n",
            "3\n",
            "Loss: 1.4295249116420745; F1 measure: 0.58140625\n",
            "Loss: 1.4321346253156662; F1 measure: 0.5826171875\n",
            "Loss: 1.4210754557450613; F1 measure: 0.5896484375\n",
            "Loss: 1.4155398684740066; F1 measure: 0.59470703125\n",
            "Loss: 1.4064071705341339; F1 measure: 0.60078125\n",
            "Eval -  0.5915223898467433\n",
            "4\n",
            "Loss: 1.2531469655036926; F1 measure: 0.660859375\n",
            "Loss: 1.245427029132843; F1 measure: 0.66353515625\n",
            "Loss: 1.2415166807174682; F1 measure: 0.6634244791666667\n",
            "Loss: 1.2408916613459586; F1 measure: 0.663291015625\n",
            "Loss: 1.2372664808034897; F1 measure: 0.664203125\n",
            "Eval -  0.6146162595785442\n",
            "5\n",
            "Loss: 1.1205493849515915; F1 measure: 0.6930078125\n",
            "Loss: 1.1229430854320526; F1 measure: 0.694140625\n",
            "Loss: 1.128528282046318; F1 measure: 0.6916536458333333\n",
            "Loss: 1.1291753883659839; F1 measure: 0.69142578125\n",
            "Loss: 1.1318486379384995; F1 measure: 0.690640625\n",
            "Eval -  0.6178532088122605\n",
            "6\n",
            "Loss: 1.0479760479927063; F1 measure: 0.7085546875\n",
            "Loss: 1.0483660879731178; F1 measure: 0.7086328125\n",
            "Loss: 1.0429357479015986; F1 measure: 0.7106640625\n",
            "Loss: 1.0499044282734393; F1 measure: 0.7085546875\n",
            "Loss: 1.0530987606048583; F1 measure: 0.707640625\n",
            "Eval -  0.6123353687739465\n",
            "7\n",
            "Loss: 0.9730189901590347; F1 measure: 0.7253515625\n",
            "Loss: 0.9788716578483582; F1 measure: 0.72251953125\n",
            "Loss: 0.9787695558865865; F1 measure: 0.722265625\n",
            "Loss: 0.9800025165081024; F1 measure: 0.722451171875\n",
            "Loss: 0.9851941878795624; F1 measure: 0.7209921875\n",
            "Eval -  0.6078813457854406\n",
            "8\n",
            "Loss: 0.925764634013176; F1 measure: 0.7330859375\n",
            "Loss: 0.9301675924658775; F1 measure: 0.73162109375\n",
            "Loss: 0.9289250475168228; F1 measure: 0.7315234375\n",
            "Loss: 0.930137257874012; F1 measure: 0.73130859375\n",
            "Loss: 0.9330836210250855; F1 measure: 0.7308046875\n",
            "Eval -  0.598117816091954\n",
            "9\n",
            "Loss: 0.8732507175207138; F1 measure: 0.7426953125\n",
            "Loss: 0.8855980360507965; F1 measure: 0.74021484375\n",
            "Loss: 0.8907484185695648; F1 measure: 0.7390755208333334\n",
            "Loss: 0.8893260881304741; F1 measure: 0.73966796875\n",
            "Loss: 0.8937969050407409; F1 measure: 0.7385859375\n",
            "Eval -  0.6018941570881227\n",
            "CPU times: user 38min 12s, sys: 1min 5s, total: 39min 18s\n",
            "Wall time: 39min 7s\n"
          ],
          "name": "stdout"
        }
      ]
    },
    {
      "cell_type": "code",
      "metadata": {
        "colab": {
          "base_uri": "https://localhost:8080/",
          "height": 295
        },
        "id": "JlD70w2CMzSK",
        "outputId": "7f313a1c-b1d3-4255-e99b-0dc64713f1d6"
      },
      "source": [
        "plt.plot(f1s)\n",
        "plt.plot(f1s_eval)\n",
        "plt.title('model f1 micro')\n",
        "plt.ylabel('f1')\n",
        "plt.xlabel('epoch')\n",
        "plt.legend(['train', 'val'], loc='upper left')\n",
        "plt.show()"
      ],
      "execution_count": 65,
      "outputs": [
        {
          "output_type": "display_data",
          "data": {
            "image/png": "[encoded data removed]",
            "text/plain": [
              "<Figure size 432x288 with 1 Axes>"
            ]
          },
          "metadata": {
            "tags": [],
            "needs_background": "light"
          }
        }
      ]
    },
    {
      "cell_type": "markdown",
      "metadata": {
        "id": "lj2Q74bBTQVY"
      },
      "source": [
        "Во втором варианте рост пошел быстрее, хотя и спад на валидации тоже побольше"
      ]
    },
    {
      "cell_type": "code",
      "metadata": {
        "id": "q5k39BNN-FNi"
      },
      "source": [
        ""
      ],
      "execution_count": null,
      "outputs": []
    }
  ]
}