{
  "nbformat": 4,
  "nbformat_minor": 0,
  "metadata": {
    "kernelspec": {
      "display_name": "Python 3",
      "language": "python",
      "name": "python3"
    },
    "language_info": {
      "codemirror_mode": {
        "name": "ipython",
        "version": 3
      },
      "file_extension": ".py",
      "mimetype": "text/x-python",
      "name": "python",
      "nbconvert_exporter": "python",
      "pygments_lexer": "ipython3",
      "version": "3.8.8"
    },
    "colab": {
      "name": "hw_11_nn_intro_torch.ipynb",
      "provenance": [],
      "collapsed_sections": []
    }
  },
  "cells": [
    {
      "cell_type": "code",
      "metadata": {
        "colab": {
          "base_uri": "https://localhost:8080/"
        },
        "id": "-TME7QtwUnG0",
        "outputId": "07c6da3c-ab04-4ae3-ed24-2823641df7ae"
      },
      "source": [
        "from google.colab import drive\n",
        "drive.mount('/content/gdrive') #, force_remount=True"
      ],
      "execution_count": 1,
      "outputs": [
        {
          "output_type": "stream",
          "text": [
            "Mounted at /content/gdrive\n"
          ],
          "name": "stdout"
        }
      ]
    },
    {
      "cell_type": "code",
      "metadata": {
        "id": "IFl1ja5pU1Z5"
      },
      "source": [
        "import os\n",
        "os.chdir('gdrive/My Drive/Colab Notebooks/nlp_hw')"
      ],
      "execution_count": 1,
      "outputs": []
    },
    {
      "cell_type": "code",
      "metadata": {
        "scrolled": true,
        "colab": {
          "base_uri": "https://localhost:8080/"
        },
        "id": "BhcTYofORLzQ",
        "outputId": "67d18bd6-7577-4125-f165-96d1a35ec75b"
      },
      "source": [
        "!pip install pandas scikit-learn gensim matplotlib"
      ],
      "execution_count": 3,
      "outputs": [
        {
          "output_type": "stream",
          "text": [
            "Requirement already satisfied: pandas in /usr/local/lib/python3.7/dist-packages (1.1.5)\n",
            "Requirement already satisfied: scikit-learn in /usr/local/lib/python3.7/dist-packages (0.22.2.post1)\n",
            "Requirement already satisfied: gensim in /usr/local/lib/python3.7/dist-packages (3.6.0)\n",
            "Requirement already satisfied: matplotlib in /usr/local/lib/python3.7/dist-packages (3.2.2)\n",
            "Requirement already satisfied: python-dateutil>=2.7.3 in /usr/local/lib/python3.7/dist-packages (from pandas) (2.8.1)\n",
            "Requirement already satisfied: numpy>=1.15.4 in /usr/local/lib/python3.7/dist-packages (from pandas) (1.19.5)\n",
            "Requirement already satisfied: pytz>=2017.2 in /usr/local/lib/python3.7/dist-packages (from pandas) (2018.9)\n",
            "Requirement already satisfied: scipy>=0.17.0 in /usr/local/lib/python3.7/dist-packages (from scikit-learn) (1.4.1)\n",
            "Requirement already satisfied: joblib>=0.11 in /usr/local/lib/python3.7/dist-packages (from scikit-learn) (1.0.1)\n",
            "Requirement already satisfied: smart-open>=1.2.1 in /usr/local/lib/python3.7/dist-packages (from gensim) (5.0.0)\n",
            "Requirement already satisfied: six>=1.5.0 in /usr/local/lib/python3.7/dist-packages (from gensim) (1.15.0)\n",
            "Requirement already satisfied: cycler>=0.10 in /usr/local/lib/python3.7/dist-packages (from matplotlib) (0.10.0)\n",
            "Requirement already satisfied: kiwisolver>=1.0.1 in /usr/local/lib/python3.7/dist-packages (from matplotlib) (1.3.1)\n",
            "Requirement already satisfied: pyparsing!=2.0.4,!=2.1.2,!=2.1.6,>=2.0.1 in /usr/local/lib/python3.7/dist-packages (from matplotlib) (2.4.7)\n"
          ],
          "name": "stdout"
        }
      ]
    },
    {
      "cell_type": "code",
      "metadata": {
        "id": "PUNWaMuBRLzd"
      },
      "source": [
        "import torch\n",
        "import torch.nn as nn\n",
        "import torch.nn.functional as F\n",
        "import torch.optim as optim"
      ],
      "execution_count": 2,
      "outputs": []
    },
    {
      "cell_type": "markdown",
      "metadata": {
        "id": "zGo5lVwnRLzd"
      },
      "source": [
        "Для наглядности возьмем две разные задачи - классификации и регресии. В обоих задачах мы будем работать с текстом и по большей части весь пайплайн у нас будет одинаков. Отличаться будут только последние штрихи в самих моделях."
      ]
    },
    {
      "cell_type": "code",
      "metadata": {
        "id": "KJTvnZgNRLzg"
      },
      "source": [
        "import pandas as pd\n",
        "import numpy as np\n",
        "from string import punctuation\n",
        "from sklearn.metrics import classification_report\n",
        "from sklearn.model_selection import train_test_split\n",
        "from collections import Counter\n",
        "import matplotlib.pyplot as plt\n",
        "%matplotlib inline"
      ],
      "execution_count": 3,
      "outputs": []
    },
    {
      "cell_type": "markdown",
      "metadata": {
        "id": "gAoVeiWXRL1F"
      },
      "source": [
        "Данные возьмем из соревнования - https://www.kaggle.com/c/quora-insincere-questions-classification/overview  \n",
        "В этом соревновании нужно было предсказывать токсичность вопроса."
      ]
    },
    {
      "cell_type": "code",
      "metadata": {
        "id": "PFmhBXcSRL1G"
      },
      "source": [
        "quora = pd.read_csv('quora.csv')"
      ],
      "execution_count": 4,
      "outputs": []
    },
    {
      "cell_type": "code",
      "metadata": {
        "colab": {
          "base_uri": "https://localhost:8080/",
          "height": 204
        },
        "id": "KAG7t0PrRL1G",
        "outputId": "0b3501a3-9c34-4dca-81ff-3a43adf4c077"
      },
      "source": [
        "quora.head()"
      ],
      "execution_count": 5,
      "outputs": [
        {
          "output_type": "execute_result",
          "data": {
            "text/html": [
              "<div>\n",
              "<style scoped>\n",
              "    .dataframe tbody tr th:only-of-type {\n",
              "        vertical-align: middle;\n",
              "    }\n",
              "\n",
              "    .dataframe tbody tr th {\n",
              "        vertical-align: top;\n",
              "    }\n",
              "\n",
              "    .dataframe thead th {\n",
              "        text-align: right;\n",
              "    }\n",
              "</style>\n",
              "<table border=\"1\" class=\"dataframe\">\n",
              "  <thead>\n",
              "    <tr style=\"text-align: right;\">\n",
              "      <th></th>\n",
              "      <th>qid</th>\n",
              "      <th>question_text</th>\n",
              "      <th>target</th>\n",
              "    </tr>\n",
              "  </thead>\n",
              "  <tbody>\n",
              "    <tr>\n",
              "      <th>0</th>\n",
              "      <td>00002165364db923c7e6</td>\n",
              "      <td>How did Quebec nationalists see their province...</td>\n",
              "      <td>0</td>\n",
              "    </tr>\n",
              "    <tr>\n",
              "      <th>1</th>\n",
              "      <td>000032939017120e6e44</td>\n",
              "      <td>Do you have an adopted dog, how would you enco...</td>\n",
              "      <td>0</td>\n",
              "    </tr>\n",
              "    <tr>\n",
              "      <th>2</th>\n",
              "      <td>0000412ca6e4628ce2cf</td>\n",
              "      <td>Why does velocity affect time? Does velocity a...</td>\n",
              "      <td>0</td>\n",
              "    </tr>\n",
              "    <tr>\n",
              "      <th>3</th>\n",
              "      <td>000042bf85aa498cd78e</td>\n",
              "      <td>How did Otto von Guericke used the Magdeburg h...</td>\n",
              "      <td>0</td>\n",
              "    </tr>\n",
              "    <tr>\n",
              "      <th>4</th>\n",
              "      <td>0000455dfa3e01eae3af</td>\n",
              "      <td>Can I convert montra helicon D to a mountain b...</td>\n",
              "      <td>0</td>\n",
              "    </tr>\n",
              "  </tbody>\n",
              "</table>\n",
              "</div>"
            ],
            "text/plain": [
              "                    qid  ... target\n",
              "0  00002165364db923c7e6  ...      0\n",
              "1  000032939017120e6e44  ...      0\n",
              "2  0000412ca6e4628ce2cf  ...      0\n",
              "3  000042bf85aa498cd78e  ...      0\n",
              "4  0000455dfa3e01eae3af  ...      0\n",
              "\n",
              "[5 rows x 3 columns]"
            ]
          },
          "metadata": {
            "tags": []
          },
          "execution_count": 5
        }
      ]
    },
    {
      "cell_type": "markdown",
      "metadata": {
        "id": "F8bWLC6kRL1H"
      },
      "source": [
        "Предобработка"
      ]
    },
    {
      "cell_type": "code",
      "metadata": {
        "id": "_VHTIT4uaE6c"
      },
      "source": [
        "def preprocess(text):\n",
        "    tokens = text.lower().split()\n",
        "    tokens = [token.strip(punctuation) for token in tokens]\n",
        "    return tokens"
      ],
      "execution_count": 6,
      "outputs": []
    },
    {
      "cell_type": "code",
      "metadata": {
        "id": "HwpHjLhXRL1H"
      },
      "source": [
        "# словарь\n",
        "vocab = Counter()\n",
        "\n",
        "for text in quora.question_text:\n",
        "    vocab.update(preprocess(text))"
      ],
      "execution_count": 7,
      "outputs": []
    },
    {
      "cell_type": "code",
      "metadata": {
        "colab": {
          "base_uri": "https://localhost:8080/"
        },
        "id": "-atAK2qsRL1U",
        "outputId": "9fbcb4b4-e831-4a72-ef30-c69983b0089b"
      },
      "source": [
        "len(vocab)"
      ],
      "execution_count": 8,
      "outputs": [
        {
          "output_type": "execute_result",
          "data": {
            "text/plain": [
              "273056"
            ]
          },
          "metadata": {
            "tags": []
          },
          "execution_count": 8
        }
      ]
    },
    {
      "cell_type": "code",
      "metadata": {
        "id": "94vKJszYRL1V"
      },
      "source": [
        "# отфильтрованный словарь\n",
        "filtered_vocab = set()\n",
        "\n",
        "for word in vocab:\n",
        "    if vocab[word] > 50:\n",
        "        filtered_vocab.add(word)"
      ],
      "execution_count": 9,
      "outputs": []
    },
    {
      "cell_type": "code",
      "metadata": {
        "colab": {
          "base_uri": "https://localhost:8080/"
        },
        "id": "jBHZvsmXRL1V",
        "outputId": "8efb2655-7ef7-41b2-a4bf-f586f93622ff"
      },
      "source": [
        "len(filtered_vocab)"
      ],
      "execution_count": 10,
      "outputs": [
        {
          "output_type": "execute_result",
          "data": {
            "text/plain": [
              "14083"
            ]
          },
          "metadata": {
            "tags": []
          },
          "execution_count": 10
        }
      ]
    },
    {
      "cell_type": "code",
      "metadata": {
        "id": "bsB9XxS0RL1W"
      },
      "source": [
        "# индексируем слова\n",
        "word2id = {'PAD':0}\n",
        "\n",
        "for word in filtered_vocab:\n",
        "    word2id[word] = len(word2id)"
      ],
      "execution_count": 11,
      "outputs": []
    },
    {
      "cell_type": "code",
      "metadata": {
        "id": "yHHGpp4lRL1W"
      },
      "source": [
        "id2word = {i:word for word, i in word2id.items()}"
      ],
      "execution_count": 12,
      "outputs": []
    },
    {
      "cell_type": "code",
      "metadata": {
        "id": "xTr6CNmeRL1X"
      },
      "source": [
        "# поставить тоже 100\n",
        "MAX_LEN = 100"
      ],
      "execution_count": 13,
      "outputs": []
    },
    {
      "cell_type": "code",
      "metadata": {
        "id": "jFnQrT9ua3_3"
      },
      "source": [
        "class Dataset(torch.utils.data.Dataset):\n",
        "\n",
        "    def __init__(self, dataset, word2id, MAX_LEN, text_field, target_field):\n",
        "        \n",
        "        # храним сырой датасет\n",
        "        self.dataset = dataset[text_field].values\n",
        "        \n",
        "        self.word2id = word2id\n",
        "        self.MAX_LEN = MAX_LEN\n",
        "        self.length = dataset.shape[0]\n",
        "        self.target = torch.Tensor(dataset[target_field].values)\n",
        "\n",
        "    def __len__(self):\n",
        "        return self.length\n",
        "\n",
        "    def __getitem__(self, index):\n",
        "\n",
        "        tokens = self.preprocess(self.dataset[index]) #токенизируем\n",
        "        ids = [self.word2id[token] for token in tokens if token in self.word2id][:MAX_LEN]\n",
        "        ids = torch.nn.functional.pad(torch.LongTensor(ids), \n",
        "                                (0, self.MAX_LEN-len(ids)), \n",
        "                                mode='constant',\n",
        "                                value=0)\n",
        "        y = self.target[index]\n",
        "        return ids, y\n",
        "    \n",
        "    def preprocess(self, text):\n",
        "        tokens = text.lower().split()\n",
        "        tokens = [token.strip(punctuation) for token in tokens]\n",
        "        tokens = [token for token in tokens if token]\n",
        "        return tokens"
      ],
      "execution_count": 14,
      "outputs": []
    },
    {
      "cell_type": "code",
      "metadata": {
        "id": "bcbG_mYnhov6"
      },
      "source": [
        "random_seed = 46"
      ],
      "execution_count": 15,
      "outputs": []
    },
    {
      "cell_type": "code",
      "metadata": {
        "id": "YwXz5rF4RL1Y"
      },
      "source": [
        "train_dataset, valid_dataset = train_test_split(quora, test_size=0.05, random_state = random_seed)"
      ],
      "execution_count": 16,
      "outputs": []
    },
    {
      "cell_type": "code",
      "metadata": {
        "id": "t3D1AtVERL1Z"
      },
      "source": [
        "training_set = Dataset(train_dataset, word2id, MAX_LEN, 'question_text', 'target')\n",
        "training_generator = torch.utils.data.DataLoader(training_set, batch_size=256)\n",
        "\n",
        "valid_set = Dataset(valid_dataset, word2id, MAX_LEN, 'question_text', 'target')\n",
        "valid_generator = torch.utils.data.DataLoader(valid_set, batch_size=256)"
      ],
      "execution_count": 17,
      "outputs": []
    },
    {
      "cell_type": "markdown",
      "metadata": {
        "id": "cUVLKdBbiKuS"
      },
      "source": [
        "## Задача 1"
      ]
    },
    {
      "cell_type": "markdown",
      "metadata": {
        "id": "-f0YgpsYn7an"
      },
      "source": [
        "1) На одной из задач сравните, что лучше: а) конкатенировать эмбединги в один большой эмбединг, б) усреднять эмбединги, в) складывать эмбединги. Зафиксируйте разбиение на train_test  через random_seed, чтобы обучаться и оцениваться на одних и тех же данных. Параметры нейронок не нужно делать одинаковыми. Просто попробуйте добиться максимума от каждого из подходов. "
      ]
    },
    {
      "cell_type": "markdown",
      "metadata": {
        "id": "Xh3iI7PdiTTh"
      },
      "source": [
        "### а) конкатенировать эмбединги в один большой эмбединг"
      ]
    },
    {
      "cell_type": "code",
      "metadata": {
        "id": "RGvQpqCjRL1a"
      },
      "source": [
        "class Clf(nn.Module):\n",
        "    \n",
        "    def __init__(self, vocab_size, embedding_dim, output_dim):\n",
        "        \n",
        "        super().__init__()          \n",
        "        self.embedding = nn.Embedding(vocab_size, embedding_dim)\n",
        "        self.flatten = nn.Flatten() # вместо усреднения склеим все в 1 вектор\n",
        "        self.fc = nn.Linear(embedding_dim*MAX_LEN, output_dim)\n",
        "        self.act = nn.Sigmoid()\n",
        "        \n",
        "    def forward(self, text):\n",
        "        \n",
        "        embedded = self.embedding(text)   \n",
        "        hidden = self.flatten(embedded)\n",
        "        dense_outputs=self.fc(hidden)\n",
        "        outputs=self.act(dense_outputs)\n",
        "        \n",
        "        return outputs"
      ],
      "execution_count": 27,
      "outputs": []
    },
    {
      "cell_type": "code",
      "metadata": {
        "id": "cK2U9vaQRL1h"
      },
      "source": [
        "def binary_accuracy(preds, y):\n",
        "    rounded_preds = torch.round(preds)\n",
        "    \n",
        "    correct = (rounded_preds == y).float() \n",
        "    acc = correct.sum() / len(correct)\n",
        "    return acc\n",
        "\n",
        "\n",
        "def train(model, iterator, optimizer, criterion, print_every=1000):\n",
        "    \n",
        "    epoch_loss = 0\n",
        "    epoch_acc = 0\n",
        "    model.train()  \n",
        "\n",
        "    for i, (texts, ys) in enumerate(iterator):\n",
        "        \n",
        "        optimizer.zero_grad()   \n",
        "        predictions = model(texts.to(device)).squeeze()  \n",
        "        loss = criterion(predictions.float(), ys.to(device).float())        \n",
        "        acc = binary_accuracy(predictions.float(), ys.to(device).float())\n",
        "        loss.backward()     \n",
        "        \n",
        "        optimizer.step()      \n",
        "        \n",
        "        epoch_loss += loss.item()  \n",
        "        epoch_acc += acc.item()\n",
        "        \n",
        "        if not (i+1) % print_every:\n",
        "            print(f'Loss: {epoch_loss/i}; Accuracy: {epoch_acc/i}')\n",
        "        \n",
        "    return epoch_acc / len(iterator)\n",
        "\n",
        "\n",
        "def evaluate(model, iterator, criterion):\n",
        "    \n",
        "    epoch_loss = 0\n",
        "    epoch_acc = 0\n",
        "    \n",
        "    model.eval()  \n",
        "    with torch.no_grad():\n",
        "        for texts, ys in iterator:   \n",
        "\n",
        "            predictions = model(texts.to(device)).squeeze()  \n",
        "            loss = criterion(predictions.float(), ys.to(device).float())        \n",
        "            acc = binary_accuracy(predictions.float(), ys.to(device).float())\n",
        "\n",
        "            epoch_loss += loss.item()  \n",
        "            epoch_acc += acc.item()\n",
        "            \n",
        "    return epoch_acc / len(iterator)"
      ],
      "execution_count": 18,
      "outputs": []
    },
    {
      "cell_type": "code",
      "metadata": {
        "id": "OxmUQLek6Jrw"
      },
      "source": [
        "import torch.optim as optim\n",
        "\n",
        "device = torch.device('cuda' if torch.cuda.is_available() else 'cpu')  \n",
        "model = Clf(len(word2id), 30, 1)\n",
        "\n",
        "optimizer = optim.Adam(model.parameters())\n",
        "criterion = nn.BCELoss() # другой лосс - Binary cross-entropy\n",
        "\n",
        "model = model.to(device)\n",
        "criterion = criterion.to(device)"
      ],
      "execution_count": null,
      "outputs": []
    },
    {
      "cell_type": "code",
      "metadata": {
        "colab": {
          "base_uri": "https://localhost:8080/"
        },
        "id": "9JihDw7fRL1j",
        "outputId": "a604444f-f23f-44a4-e03d-6c529586a3c9"
      },
      "source": [
        "accs = []\n",
        "accs_eval = []\n",
        "for i in range(3):\n",
        "    print(i)\n",
        "    accs.append(train(model, training_generator, optimizer, criterion))\n",
        "    accs_eval.append(evaluate(model, valid_generator, criterion))"
      ],
      "execution_count": 30,
      "outputs": [
        {
          "output_type": "stream",
          "text": [
            "0\n",
            "Loss: 0.1886339020785746; Accuracy: 0.9392556619119119\n",
            "Loss: 0.17156058119953782; Accuracy: 0.9420569659829915\n",
            "Loss: 0.16137136060715954; Accuracy: 0.9439696044514838\n",
            "Loss: 0.15513600190488003; Accuracy: 0.9451884455488873\n",
            "1\n",
            "Loss: 0.126933716431454; Accuracy: 0.9530350663163163\n",
            "Loss: 0.12602592717526315; Accuracy: 0.9529315438969485\n",
            "Loss: 0.12435982635082624; Accuracy: 0.9529921432144048\n",
            "Loss: 0.12397938541030251; Accuracy: 0.952971641347837\n",
            "2\n",
            "Loss: 0.11934536538115731; Accuracy: 0.9552208458458459\n",
            "Loss: 0.11920063817997525; Accuracy: 0.9549755346423212\n",
            "Loss: 0.11809404718553912; Accuracy: 0.9548886087029009\n",
            "Loss: 0.1181933971508037; Accuracy: 0.9546878907226807\n"
          ],
          "name": "stdout"
        }
      ]
    },
    {
      "cell_type": "code",
      "metadata": {
        "colab": {
          "base_uri": "https://localhost:8080/",
          "height": 295
        },
        "id": "FKemeE0cRL1k",
        "outputId": "36900155-1ff7-4b22-eca9-6ab57bef520d"
      },
      "source": [
        "plt.plot(np.sqrt(accs))\n",
        "plt.plot(np.sqrt(accs_eval))\n",
        "plt.title('model Accuracy')\n",
        "plt.ylabel('Acc')\n",
        "plt.xlabel('epoch')\n",
        "plt.legend(['train', 'val'], loc='upper left')\n",
        "plt.show()"
      ],
      "execution_count": 31,
      "outputs": [
        {
          "output_type": "display_data",
          "data": {
            "image/png": "[encoded data removed]",
            "text/plain": [
              "<Figure size 432x288 with 1 Axes>"
            ]
          },
          "metadata": {
            "tags": [],
            "needs_background": "light"
          }
        }
      ]
    },
    {
      "cell_type": "code",
      "metadata": {
        "id": "Ist5CW8LRL1k"
      },
      "source": [
        "preds = []\n",
        "targets = []\n",
        "for texts, ys in valid_generator:\n",
        "    preds += model(texts.to(device)).squeeze().detach().to('cpu').numpy().tolist()\n",
        "    targets += ys.numpy().tolist()"
      ],
      "execution_count": 35,
      "outputs": []
    },
    {
      "cell_type": "code",
      "metadata": {
        "colab": {
          "base_uri": "https://localhost:8080/"
        },
        "id": "KtCYQrCnRL1m",
        "outputId": "1df0312d-4625-4c55-fe41-f4698d9f4fb5"
      },
      "source": [
        "print(classification_report(targets, (np.array(preds) > 0.5).astype(int)))"
      ],
      "execution_count": 36,
      "outputs": [
        {
          "output_type": "stream",
          "text": [
            "              precision    recall  f1-score   support\n",
            "\n",
            "         0.0       0.97      0.98      0.98     61373\n",
            "         1.0       0.67      0.49      0.57      3934\n",
            "\n",
            "    accuracy                           0.95     65307\n",
            "   macro avg       0.82      0.74      0.77     65307\n",
            "weighted avg       0.95      0.95      0.95     65307\n",
            "\n"
          ],
          "name": "stdout"
        }
      ]
    },
    {
      "cell_type": "markdown",
      "metadata": {
        "id": "xMFS11sfkHHK"
      },
      "source": [
        "### б) усреднять эмбединги"
      ]
    },
    {
      "cell_type": "code",
      "metadata": {
        "id": "rFMKf3sJkYmc"
      },
      "source": [
        "class Clf(nn.Module):\n",
        "    \n",
        "    def __init__(self, vocab_size, embedding_dim, output_dim):\n",
        "        \n",
        "        super().__init__()          \n",
        "        self.embedding = nn.Embedding(vocab_size, embedding_dim)\n",
        "        self.fc = nn.Linear(embedding_dim, output_dim)\n",
        "        self.act = nn.Sigmoid()\n",
        "        \n",
        "    def forward(self, text):\n",
        "        \n",
        "        embedded = self.embedding(text)   \n",
        "        hidden = torch.mean(embedded, dim=1) #усредняем вектора\n",
        "        dense_outputs=self.fc(hidden)\n",
        "        outputs=self.act(dense_outputs)\n",
        "        \n",
        "        return outputs"
      ],
      "execution_count": 40,
      "outputs": []
    },
    {
      "cell_type": "code",
      "metadata": {
        "id": "DtEL20IklCeZ"
      },
      "source": [
        "model = Clf(len(word2id), 30, 1)\n",
        "\n",
        "optimizer = optim.Adam(model.parameters())\n",
        "criterion = nn.BCELoss()\n",
        "\n",
        "model = model.to(device)\n",
        "criterion = criterion.to(device)"
      ],
      "execution_count": 41,
      "outputs": []
    },
    {
      "cell_type": "code",
      "metadata": {
        "colab": {
          "base_uri": "https://localhost:8080/"
        },
        "id": "omDRHGpmlVQr",
        "outputId": "2d449e37-0bf2-40bb-9457-b09c86cba559"
      },
      "source": [
        "accs = []\n",
        "accs_eval = []\n",
        "for i in range(3):\n",
        "    print(i)\n",
        "    accs.append(train(model, training_generator, optimizer, criterion))\n",
        "    accs_eval.append(evaluate(model, valid_generator, criterion))"
      ],
      "execution_count": 42,
      "outputs": [
        {
          "output_type": "stream",
          "text": [
            "0\n",
            "Loss: 0.23814091014790464; Accuracy: 0.9384736298798799\n",
            "Loss: 0.221699315713548; Accuracy: 0.9384868215357679\n",
            "Loss: 0.2069908690928578; Accuracy: 0.9390031052017339\n",
            "Loss: 0.19541396586320853; Accuracy: 0.9398873155788947\n",
            "1\n",
            "Loss: 0.14636825177225624; Accuracy: 0.9470564314314315\n",
            "Loss: 0.14397146265810284; Accuracy: 0.9473428120310156\n",
            "Loss: 0.1416457576137477; Accuracy: 0.9476843843781261\n",
            "Loss: 0.14036285029419157; Accuracy: 0.9478394989372343\n",
            "2\n",
            "Loss: 0.13149606919026113; Accuracy: 0.9508766579079079\n",
            "Loss: 0.1310089384040247; Accuracy: 0.9509461762131065\n",
            "Loss: 0.1297881286386332; Accuracy: 0.9510018964654885\n",
            "Loss: 0.12956583466838228; Accuracy: 0.9508177825706426\n"
          ],
          "name": "stdout"
        }
      ]
    },
    {
      "cell_type": "code",
      "metadata": {
        "colab": {
          "base_uri": "https://localhost:8080/",
          "height": 295
        },
        "id": "B2-lpifBla_5",
        "outputId": "800f0173-0e91-459e-9d28-c838b8cf2680"
      },
      "source": [
        "plt.plot(np.sqrt(accs))\n",
        "plt.plot(np.sqrt(accs_eval))\n",
        "plt.title('model Accuracy')\n",
        "plt.ylabel('Acc')\n",
        "plt.xlabel('epoch')\n",
        "plt.legend(['train', 'val'], loc='upper left')\n",
        "plt.show()"
      ],
      "execution_count": 43,
      "outputs": [
        {
          "output_type": "display_data",
          "data": {
            "image/png": "[encoded data removed]",
            "text/plain": [
              "<Figure size 432x288 with 1 Axes>"
            ]
          },
          "metadata": {
            "tags": [],
            "needs_background": "light"
          }
        }
      ]
    },
    {
      "cell_type": "code",
      "metadata": {
        "colab": {
          "base_uri": "https://localhost:8080/"
        },
        "id": "csSF8IskliES",
        "outputId": "95016d15-e688-4682-ae8a-e08fa651cfc9"
      },
      "source": [
        "preds = []\n",
        "targets = []\n",
        "for texts, ys in valid_generator:\n",
        "    preds += model(texts.to(device)).squeeze().detach().to('cpu').numpy().tolist()\n",
        "    targets += ys.numpy().tolist()\n",
        "\n",
        "print(classification_report(targets, (np.array(preds) > 0.5).astype(int)))"
      ],
      "execution_count": 44,
      "outputs": [
        {
          "output_type": "stream",
          "text": [
            "              precision    recall  f1-score   support\n",
            "\n",
            "         0.0       0.96      0.99      0.97     61373\n",
            "         1.0       0.69      0.37      0.48      3934\n",
            "\n",
            "    accuracy                           0.95     65307\n",
            "   macro avg       0.82      0.68      0.73     65307\n",
            "weighted avg       0.94      0.95      0.95     65307\n",
            "\n"
          ],
          "name": "stdout"
        }
      ]
    },
    {
      "cell_type": "markdown",
      "metadata": {
        "id": "QmGmyZpoqwxM"
      },
      "source": [
        "При усреднении результаты получились немного похуже: лосс итоговый побольше, точность похуже, и на графике видно, что рост accuracy медленнее"
      ]
    },
    {
      "cell_type": "markdown",
      "metadata": {
        "id": "k-B4vcs8kLiT"
      },
      "source": [
        "### в) складывать эмбединги"
      ]
    },
    {
      "cell_type": "code",
      "metadata": {
        "id": "I8IDKGhJlqIz"
      },
      "source": [
        "class Clf(nn.Module):\n",
        "    \n",
        "    def __init__(self, vocab_size, embedding_dim, output_dim):\n",
        "        \n",
        "        super().__init__()          \n",
        "        self.embedding = nn.Embedding(vocab_size, embedding_dim)\n",
        "        self.fc = nn.Linear(embedding_dim, output_dim)\n",
        "        self.act = nn.Sigmoid()\n",
        "        \n",
        "    def forward(self, text):\n",
        "        \n",
        "        embedded = self.embedding(text)   \n",
        "        hidden = torch.sum(embedded, dim=1) #суммируем вектора\n",
        "        dense_outputs=self.fc(hidden)\n",
        "        outputs=self.act(dense_outputs)\n",
        "        \n",
        "        return outputs"
      ],
      "execution_count": 46,
      "outputs": []
    },
    {
      "cell_type": "code",
      "metadata": {
        "id": "vYcMFFAal2xF"
      },
      "source": [
        "model = Clf(len(word2id), 30, 1)\n",
        "\n",
        "optimizer = optim.Adam(model.parameters())\n",
        "criterion = nn.BCELoss()\n",
        "\n",
        "model = model.to(device)\n",
        "criterion = criterion.to(device)"
      ],
      "execution_count": 47,
      "outputs": []
    },
    {
      "cell_type": "code",
      "metadata": {
        "colab": {
          "base_uri": "https://localhost:8080/"
        },
        "id": "FwIOpBLHl6Es",
        "outputId": "a9c459bf-e815-41f1-e7af-59f72e465144"
      },
      "source": [
        "accs = []\n",
        "accs_eval = []\n",
        "for i in range(3):\n",
        "    print(i)\n",
        "    accs.append(train(model, training_generator, optimizer, criterion))\n",
        "    accs_eval.append(evaluate(model, valid_generator, criterion))"
      ],
      "execution_count": 48,
      "outputs": [
        {
          "output_type": "stream",
          "text": [
            "0\n",
            "Loss: 0.20583842594821652; Accuracy: 0.9367140578078078\n",
            "Loss: 0.18157472034330185; Accuracy: 0.9409685311405703\n",
            "Loss: 0.16910413493038653; Accuracy: 0.9432284719906635\n",
            "Loss: 0.1618591372923244; Accuracy: 0.9446072455613903\n",
            "1\n",
            "Loss: 0.13019438884831644; Accuracy: 0.9522647647647647\n",
            "Loss: 0.13021395513867068; Accuracy: 0.952126453851926\n",
            "Loss: 0.1287396622808646; Accuracy: 0.9523526071190397\n",
            "Loss: 0.1286130055550427; Accuracy: 0.9522312218679669\n",
            "2\n",
            "Loss: 0.12418637739809545; Accuracy: 0.9540086961961962\n",
            "Loss: 0.12492263984827771; Accuracy: 0.9536252501250625\n",
            "Loss: 0.12377987164543167; Accuracy: 0.95374109078026\n",
            "Loss: 0.12405286443255102; Accuracy: 0.9535215835208802\n"
          ],
          "name": "stdout"
        }
      ]
    },
    {
      "cell_type": "code",
      "metadata": {
        "colab": {
          "base_uri": "https://localhost:8080/",
          "height": 295
        },
        "id": "JVrIKxc7l60x",
        "outputId": "bd7e1e47-1eca-4951-d891-31f7f4e28f34"
      },
      "source": [
        "plt.plot(np.sqrt(accs))\n",
        "plt.plot(np.sqrt(accs_eval))\n",
        "plt.title('model Accuracy')\n",
        "plt.ylabel('Acc')\n",
        "plt.xlabel('epoch')\n",
        "plt.legend(['train', 'val'], loc='upper left')\n",
        "plt.show()"
      ],
      "execution_count": 49,
      "outputs": [
        {
          "output_type": "display_data",
          "data": {
            "image/png": "[encoded data removed]",
            "text/plain": [
              "<Figure size 432x288 with 1 Axes>"
            ]
          },
          "metadata": {
            "tags": [],
            "needs_background": "light"
          }
        }
      ]
    },
    {
      "cell_type": "code",
      "metadata": {
        "colab": {
          "base_uri": "https://localhost:8080/"
        },
        "id": "Ttu8qesXl9ci",
        "outputId": "255d4f6d-183b-45d8-b6c8-7618911addd6"
      },
      "source": [
        "preds = []\n",
        "targets = []\n",
        "for texts, ys in valid_generator:\n",
        "    preds += model(texts.to(device)).squeeze().detach().to('cpu').numpy().tolist()\n",
        "    targets += ys.numpy().tolist()\n",
        "\n",
        "print(classification_report(targets, (np.array(preds) > 0.5).astype(int)))"
      ],
      "execution_count": 50,
      "outputs": [
        {
          "output_type": "stream",
          "text": [
            "              precision    recall  f1-score   support\n",
            "\n",
            "         0.0       0.96      0.99      0.98     61373\n",
            "         1.0       0.68      0.44      0.53      3934\n",
            "\n",
            "    accuracy                           0.95     65307\n",
            "   macro avg       0.82      0.71      0.75     65307\n",
            "weighted avg       0.95      0.95      0.95     65307\n",
            "\n"
          ],
          "name": "stdout"
        }
      ]
    },
    {
      "cell_type": "markdown",
      "metadata": {
        "id": "0ciFxF5nuf1f"
      },
      "source": [
        "Здесь accuracy стала лучше, чем при усреднении, результаты примерно как при склеивании. Что касается лосса, он уменьшается быстрее, чем при усреднении, но медленнее, чем при склеивании."
      ]
    },
    {
      "cell_type": "markdown",
      "metadata": {
        "id": "A3gny-Yfmh4L"
      },
      "source": [
        "## Задача 2"
      ]
    },
    {
      "cell_type": "markdown",
      "metadata": {
        "id": "Ipz58qAPmsp9"
      },
      "source": [
        "2) В одной из задач используйте сразу две предобученные эмбединг модели (можно фастекст и ворд2век, а можно просто 2 фастекста с разными параметрами) в одной нейронке (имеется в виду предобученные до обучения нейронки, т.е вы можете сами обучить фастекст/ворд2век и не искать готовые модели в интернете). Попробуйте усреднять эмбединги и конкатенировать (общие эмбединги потом в один вектор собирайте любым способом - например, тем который оказался лучше в первой задаче).\n",
        "Подсказка: сделайте два Embedding слоя и к их выходам примените torch.cat(dim=2) или torch.mean(dim=2)\n",
        "\n",
        "Бонусный балл можно получить за добавление к пайплайну subword токенизации (через библиотеку tokenizers например)"
      ]
    },
    {
      "cell_type": "code",
      "metadata": {
        "id": "uMsUiM57oOsT"
      },
      "source": [
        "import gensim"
      ],
      "execution_count": 19,
      "outputs": []
    },
    {
      "cell_type": "code",
      "metadata": {
        "id": "jgWrcnkGoPkv"
      },
      "source": [
        "#тексты из датасета для обучения эмбеддинг моделей\n",
        "train_texts = train_dataset.question_text.apply(preprocess).tolist()"
      ],
      "execution_count": 20,
      "outputs": []
    },
    {
      "cell_type": "code",
      "metadata": {
        "id": "IVxuIHO7sqUG"
      },
      "source": [
        "emb_dim = 30"
      ],
      "execution_count": 22,
      "outputs": []
    },
    {
      "cell_type": "code",
      "metadata": {
        "id": "4dxR9ZEHohMq"
      },
      "source": [
        "w2v = gensim.models.Word2Vec(train_texts, size=emb_dim)"
      ],
      "execution_count": 24,
      "outputs": []
    },
    {
      "cell_type": "code",
      "metadata": {
        "id": "RMAAbCwe1-Dw"
      },
      "source": [
        "ft = gensim.models.FastText(train_texts, size=emb_dim)"
      ],
      "execution_count": 25,
      "outputs": []
    },
    {
      "cell_type": "code",
      "metadata": {
        "id": "hpBwJTcZsjcy"
      },
      "source": [
        "w2v_weights = np.zeros((len(word2id), emb_dim))\n",
        "ft_weights = np.zeros((len(word2id), emb_dim))"
      ],
      "execution_count": 26,
      "outputs": []
    },
    {
      "cell_type": "code",
      "metadata": {
        "id": "1LQ__bPQsQDz"
      },
      "source": [
        "def get_embeddings(model_weigths, model):\n",
        "  for word, i in word2id.items():\n",
        "    if word == 'PAD':\n",
        "      continue  \n",
        "    try:\n",
        "      model_weigths[i] = model.wv[word]\n",
        "    except KeyError:\n",
        "      err = True\n",
        "      while err == True:\n",
        "        try:\n",
        "          random_word = np.random.choice(word2id.keys())\n",
        "          random_weight = model.wv[random_word]\n",
        "          err = False\n",
        "        except:\n",
        "          err = True\n",
        "      weights[i] = random_weight\n",
        "  \n",
        "  return model_weigths"
      ],
      "execution_count": 33,
      "outputs": []
    },
    {
      "cell_type": "code",
      "metadata": {
        "id": "MZ6Eb5nSwyI1"
      },
      "source": [
        "w2v_weights = get_embeddings(w2v_weights, w2v)"
      ],
      "execution_count": 34,
      "outputs": []
    },
    {
      "cell_type": "code",
      "metadata": {
        "id": "HKbwPQyCw6bo"
      },
      "source": [
        "ft_weights = get_embeddings(ft_weights, ft)"
      ],
      "execution_count": 35,
      "outputs": []
    },
    {
      "cell_type": "code",
      "metadata": {
        "colab": {
          "base_uri": "https://localhost:8080/"
        },
        "id": "i3P38Hbp5sR7",
        "outputId": "21dbf4e5-6a1c-4cf2-db9d-d9f1f53af299"
      },
      "source": [
        "w2v_weights[1][:10]"
      ],
      "execution_count": 37,
      "outputs": [
        {
          "output_type": "execute_result",
          "data": {
            "text/plain": [
              "array([-1.62669599, -1.9430939 , -1.75248933,  0.04018322,  1.03790796,\n",
              "        0.61497086, -0.82123923, -0.96534997,  0.57787365,  2.7261405 ])"
            ]
          },
          "metadata": {
            "tags": []
          },
          "execution_count": 37
        }
      ]
    },
    {
      "cell_type": "code",
      "metadata": {
        "id": "MuDjIWM2xDEj"
      },
      "source": [
        "class Clf(nn.Module):\n",
        "    \n",
        "    def __init__(self, vocab_size, embedding_dim, output_dim, embs_w2v, embs_ft):\n",
        "        \n",
        "        super().__init__()\n",
        "        self.embedding_1 = nn.Embedding(vocab_size, embedding_dim)          \n",
        "        self.embedding_2 = nn.Embedding(vocab_size, embedding_dim)\n",
        "\n",
        "        self.embedding_1.from_pretrained(torch.tensor(embs_w2v), freeze=True)\n",
        "        self.embedding_2.from_pretrained(torch.tensor(embs_ft), freeze=True)\n",
        "\n",
        "        self.fc = nn.Linear(embedding_dim*2, output_dim)\n",
        "        self.act = nn.Sigmoid() \n",
        "        \n",
        "    def forward(self, text):\n",
        "        \n",
        "        embedded_w2v = self.embedding_1(text)   \n",
        "        hidden_w2v = torch.mean(embedded_w2v, dim=1)\n",
        "\n",
        "        embedded_ft = self.embedding_2(text)   \n",
        "        hidden_ft = torch.mean(embedded_ft, dim=1)\n",
        "\n",
        "        hidden_final = torch.cat((hidden_w2v, hidden_ft), dim=1)\n",
        "        \n",
        "        dense_outputs = self.fc(hidden_final)\n",
        "        outputs=self.act(dense_outputs)\n",
        "        \n",
        "        return outputs"
      ],
      "execution_count": 45,
      "outputs": []
    },
    {
      "cell_type": "code",
      "metadata": {
        "id": "2ib7y-Yd4a0J"
      },
      "source": [
        "import torch.optim as optim\n",
        "\n",
        "device = torch.device('cuda' if torch.cuda.is_available() else 'cpu')  \n",
        "model = Clf(len(word2id), 30, 1, w2v_weights, ft_weights)\n",
        "\n",
        "optimizer = optim.Adam(model.parameters())\n",
        "criterion = nn.BCELoss()\n",
        "\n",
        "model = model.to(device)\n",
        "criterion = criterion.to(device)"
      ],
      "execution_count": 46,
      "outputs": []
    },
    {
      "cell_type": "code",
      "metadata": {
        "colab": {
          "base_uri": "https://localhost:8080/"
        },
        "id": "UHz-bHb74x1M",
        "outputId": "d6afaf08-41a0-4b2b-8349-bca1cf04027f"
      },
      "source": [
        "accs = []\n",
        "accs_eval = []\n",
        "for i in range(3):\n",
        "    print(i)\n",
        "    accs.append(train(model, training_generator, optimizer, criterion))\n",
        "    accs_eval.append(evaluate(model, valid_generator, criterion))"
      ],
      "execution_count": 47,
      "outputs": [
        {
          "output_type": "stream",
          "text": [
            "0\n",
            "Loss: 0.24104923003160203; Accuracy: 0.9284323385885885\n",
            "Loss: 0.21936043057070784; Accuracy: 0.9336015664082041\n",
            "Loss: 0.20223261110631177; Accuracy: 0.9362039950816939\n",
            "Loss: 0.19021849773934138; Accuracy: 0.9380743623405852\n",
            "1\n",
            "Loss: 0.14093831204646104; Accuracy: 0.9480808933933934\n",
            "Loss: 0.1387973315622462; Accuracy: 0.9485133191595798\n",
            "Loss: 0.13663675488233964; Accuracy: 0.9489165659386463\n",
            "Loss: 0.13556601621898062; Accuracy: 0.9490185046261566\n",
            "2\n",
            "Loss: 0.12814593366212076; Accuracy: 0.9518463776276276\n",
            "Loss: 0.12778109089173692; Accuracy: 0.9518724205852926\n",
            "Loss: 0.12660539463763637; Accuracy: 0.951860255501834\n",
            "Loss: 0.1264586007736286; Accuracy: 0.9517252359964992\n"
          ],
          "name": "stdout"
        }
      ]
    },
    {
      "cell_type": "code",
      "metadata": {
        "colab": {
          "base_uri": "https://localhost:8080/",
          "height": 295
        },
        "id": "smb6ZNJn4gWu",
        "outputId": "ed78eb09-efd9-413f-f942-46bc11c59805"
      },
      "source": [
        "plt.plot(np.sqrt(accs))\n",
        "plt.plot(np.sqrt(accs_eval))\n",
        "plt.title('model Accuracy')\n",
        "plt.ylabel('Acc')\n",
        "plt.xlabel('epoch')\n",
        "plt.legend(['train', 'val'], loc='upper left')\n",
        "plt.show()"
      ],
      "execution_count": 48,
      "outputs": [
        {
          "output_type": "display_data",
          "data": {
            "image/png": "[encoded data removed]",
            "text/plain": [
              "<Figure size 432x288 with 1 Axes>"
            ]
          },
          "metadata": {
            "tags": [],
            "needs_background": "light"
          }
        }
      ]
    },
    {
      "cell_type": "code",
      "metadata": {
        "colab": {
          "base_uri": "https://localhost:8080/"
        },
        "id": "flK4o0OU4ken",
        "outputId": "d6ca1831-9e91-475b-8979-8fa93974debc"
      },
      "source": [
        "preds = []\n",
        "targets = []\n",
        "for texts, ys in valid_generator:\n",
        "    preds += model(texts.to(device)).squeeze().detach().to('cpu').numpy().tolist()\n",
        "    targets += ys.numpy().tolist()\n",
        "\n",
        "print(classification_report(targets, (np.array(preds) > 0.5).astype(int)))"
      ],
      "execution_count": 49,
      "outputs": [
        {
          "output_type": "stream",
          "text": [
            "              precision    recall  f1-score   support\n",
            "\n",
            "         0.0       0.96      0.99      0.98     61373\n",
            "         1.0       0.69      0.39      0.50      3934\n",
            "\n",
            "    accuracy                           0.95     65307\n",
            "   macro avg       0.82      0.69      0.74     65307\n",
            "weighted avg       0.95      0.95      0.95     65307\n",
            "\n"
          ],
          "name": "stdout"
        }
      ]
    }
  ]
}