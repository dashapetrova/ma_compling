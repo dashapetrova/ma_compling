{
  "nbformat": 4,
  "nbformat_minor": 0,
  "metadata": {
    "kernelspec": {
      "display_name": "Python 3",
      "language": "python",
      "name": "python3"
    },
    "language_info": {
      "codemirror_mode": {
        "name": "ipython",
        "version": 3
      },
      "file_extension": ".py",
      "mimetype": "text/x-python",
      "name": "python",
      "nbconvert_exporter": "python",
      "pygments_lexer": "ipython3",
      "version": "3.6.5"
    },
    "colab": {
      "name": "hw_8_WSD_WSI.ipynb",
      "provenance": []
    }
  },
  "cells": [
    {
      "cell_type": "markdown",
      "metadata": {
        "id": "YoJIEcviFTB0"
      },
      "source": [
        "# Word Sense Disambiguation и Word Sense Induction"
      ]
    },
    {
      "cell_type": "code",
      "metadata": {
        "colab": {
          "base_uri": "https://localhost:8080/"
        },
        "id": "D4hEImc1NnMF",
        "outputId": "fd04a5e0-552f-4cc9-e8a0-c4dd2f2af1e1"
      },
      "source": [
        "from google.colab import drive\r\n",
        "drive.mount('/content/gdrive') #, force_remount=True"
      ],
      "execution_count": 1,
      "outputs": [
        {
          "output_type": "stream",
          "text": [
            "Drive already mounted at /content/gdrive; to attempt to forcibly remount, call drive.mount(\"/content/gdrive\", force_remount=True).\n"
          ],
          "name": "stdout"
        }
      ]
    },
    {
      "cell_type": "code",
      "metadata": {
        "id": "LSwJiraROV8-"
      },
      "source": [
        "import os\r\n",
        "os.chdir('gdrive/My Drive/Colab Notebooks/nlp_data')"
      ],
      "execution_count": 2,
      "outputs": []
    },
    {
      "cell_type": "code",
      "metadata": {
        "id": "VRu4uq7-OgR3"
      },
      "source": [
        "!pip install pymorphy2\r\n",
        "!pip install pymystem3==0.1.10\r\n",
        "!pip install rusenttokenize\r\n",
        "!pip install razdel"
      ],
      "execution_count": null,
      "outputs": []
    },
    {
      "cell_type": "code",
      "metadata": {
        "colab": {
          "base_uri": "https://localhost:8080/"
        },
        "id": "O7beCdeHOpCg",
        "outputId": "c5d331b3-bbaf-49b7-fced-5d37afb9c4cb"
      },
      "source": [
        "import nltk\r\n",
        "nltk.download('punkt')\r\n",
        "nltk.download('stopwords')"
      ],
      "execution_count": 3,
      "outputs": [
        {
          "output_type": "stream",
          "text": [
            "[nltk_data] Downloading package punkt to /root/nltk_data...\n",
            "[nltk_data]   Package punkt is already up-to-date!\n",
            "[nltk_data] Downloading package stopwords to /root/nltk_data...\n",
            "[nltk_data]   Package stopwords is already up-to-date!\n"
          ],
          "name": "stdout"
        },
        {
          "output_type": "execute_result",
          "data": {
            "text/plain": [
              "True"
            ]
          },
          "metadata": {
            "tags": []
          },
          "execution_count": 3
        }
      ]
    },
    {
      "cell_type": "code",
      "metadata": {
        "id": "GS3j8FEYFTCc"
      },
      "source": [
        "from lxml import html\n",
        "from nltk.tokenize import word_tokenize\n",
        "from nltk.corpus import stopwords\n",
        "from nltk.corpus import wordnet as wn\n",
        "from pymorphy2 import MorphAnalyzer\n",
        "from string import punctuation\n",
        "import json, os, re, sys\n",
        "from collections import Counter\n",
        "import numpy as np\n",
        "from razdel import tokenize as razdel_tokenize\n",
        "from matplotlib import pyplot as plt\n",
        "import gensim\n",
        "import pandas as pd\n",
        "from sklearn.metrics import adjusted_rand_score\n",
        "import tqdm\n",
        "from sklearn.metrics import f1_score\n",
        "from sklearn.ensemble import RandomForestClassifier\n",
        "from sklearn.linear_model import LogisticRegression\n",
        "from sklearn.model_selection import train_test_split\n",
        "from sklearn.metrics import classification_report\n",
        "from sklearn.model_selection import KFold\n",
        "\n",
        "\n",
        "%matplotlib inline\n",
        "import warnings\n",
        "warnings.filterwarnings('ignore')\n",
        "morph = MorphAnalyzer()\n",
        "punct = punctuation+'«»—…“”*№–'\n",
        "stops = set(stopwords.words('russian'))\n",
        "\n",
        "def normalize(text):\n",
        "    words = [token.text.strip(punct) for token in list(razdel_tokenize(text))]\n",
        "    words = [morph.parse(word)[0].normal_form for word in words if word and word not in stops]\n",
        "\n",
        "    return words\n"
      ],
      "execution_count": 4,
      "outputs": []
    },
    {
      "cell_type": "markdown",
      "metadata": {
        "id": "E0DcoiPRFTDU"
      },
      "source": [
        "## WordNet"
      ]
    },
    {
      "cell_type": "code",
      "metadata": {
        "colab": {
          "base_uri": "https://localhost:8080/"
        },
        "id": "oqPS8qbrFTDa",
        "outputId": "a652e32f-242f-4a85-cc89-93913d66c385"
      },
      "source": [
        "import nltk\n",
        "nltk.download('wordnet')"
      ],
      "execution_count": 5,
      "outputs": [
        {
          "output_type": "stream",
          "text": [
            "[nltk_data] Downloading package wordnet to /root/nltk_data...\n",
            "[nltk_data]   Unzipping corpora/wordnet.zip.\n"
          ],
          "name": "stdout"
        },
        {
          "output_type": "execute_result",
          "data": {
            "text/plain": [
              "True"
            ]
          },
          "metadata": {
            "tags": []
          },
          "execution_count": 5
        }
      ]
    },
    {
      "cell_type": "markdown",
      "metadata": {
        "id": "9V5jhdDPFTDb"
      },
      "source": [
        "Группа синонимичных слов в WordNet'е называются синсеты. "
      ]
    },
    {
      "cell_type": "code",
      "metadata": {
        "colab": {
          "base_uri": "https://localhost:8080/"
        },
        "id": "wPAwIL0xFTDb",
        "outputId": "1c4ebf8b-b0bb-412c-b8c8-0a051835e77d"
      },
      "source": [
        "# всего синсетов\n",
        "len(list(wn.all_synsets()))"
      ],
      "execution_count": 6,
      "outputs": [
        {
          "output_type": "execute_result",
          "data": {
            "text/plain": [
              "117659"
            ]
          },
          "metadata": {
            "tags": []
          },
          "execution_count": 6
        }
      ]
    },
    {
      "cell_type": "markdown",
      "metadata": {
        "id": "KtkMDnKyFTDg"
      },
      "source": [
        "Синсеты для слова можно достать вот так:"
      ]
    },
    {
      "cell_type": "code",
      "metadata": {
        "colab": {
          "base_uri": "https://localhost:8080/"
        },
        "id": "5Drqi2O6FTDg",
        "outputId": "1faf03eb-738b-4066-d3e8-d4c338ebbb03"
      },
      "source": [
        "wn.synsets('car')"
      ],
      "execution_count": 7,
      "outputs": [
        {
          "output_type": "execute_result",
          "data": {
            "text/plain": [
              "[Synset('car.n.01'),\n",
              " Synset('car.n.02'),\n",
              " Synset('car.n.03'),\n",
              " Synset('car.n.04'),\n",
              " Synset('cable_car.n.01')]"
            ]
          },
          "metadata": {
            "tags": []
          },
          "execution_count": 7
        }
      ]
    },
    {
      "cell_type": "markdown",
      "metadata": {
        "id": "G_UmR8bEFTDi"
      },
      "source": [
        "Можно ограничить часть речи:"
      ]
    },
    {
      "cell_type": "code",
      "metadata": {
        "colab": {
          "base_uri": "https://localhost:8080/"
        },
        "id": "asQlb-9GFTDj",
        "outputId": "62c4974e-1ebd-4ee4-f42a-4462e4e44135"
      },
      "source": [
        "wn.synsets('go', pos='v')[:5]"
      ],
      "execution_count": 8,
      "outputs": [
        {
          "output_type": "execute_result",
          "data": {
            "text/plain": [
              "[Synset('travel.v.01'),\n",
              " Synset('go.v.02'),\n",
              " Synset('go.v.03'),\n",
              " Synset('become.v.01'),\n",
              " Synset('go.v.05')]"
            ]
          },
          "metadata": {
            "tags": []
          },
          "execution_count": 8
        }
      ]
    },
    {
      "cell_type": "markdown",
      "metadata": {
        "id": "rtAWGTTtFTDk"
      },
      "source": [
        "У многих из них есть определения:"
      ]
    },
    {
      "cell_type": "code",
      "metadata": {
        "colab": {
          "base_uri": "https://localhost:8080/"
        },
        "id": "CqsVKNxvFTDk",
        "outputId": "9d764b24-a69d-4788-aadd-27f5cfb65e39"
      },
      "source": [
        "word = 'day'\n",
        "for synset in wn.synsets(word)[:5]:\n",
        "    print(word + ' - ' + synset.definition())"
      ],
      "execution_count": 9,
      "outputs": [
        {
          "output_type": "stream",
          "text": [
            "day - time for Earth to make a complete rotation on its axis\n",
            "day - some point or period in time\n",
            "day - a day assigned to a particular purpose or observance\n",
            "day - the time after sunrise and before sunset while it is light outside\n",
            "day - the recurring hours when you are not sleeping (especially those when you are working)\n"
          ],
          "name": "stdout"
        }
      ]
    },
    {
      "cell_type": "markdown",
      "metadata": {
        "id": "OWegMU1PFTDl"
      },
      "source": [
        "И даже примеры:"
      ]
    },
    {
      "cell_type": "code",
      "metadata": {
        "colab": {
          "base_uri": "https://localhost:8080/"
        },
        "id": "otxuUF0WFTDl",
        "outputId": "4ebaefaf-6afb-4c62-ec34-2022f41eef1c"
      },
      "source": [
        "word = 'day'\n",
        "for synset in wn.synsets(word)[:5]:\n",
        "    print(word + ' - ' + ' | '.join(synset.examples()))"
      ],
      "execution_count": 10,
      "outputs": [
        {
          "output_type": "stream",
          "text": [
            "day - two days later they left | they put on two performances every day | there are 30,000 passengers per day\n",
            "day - it should arrive any day now | after that day she never trusted him again | those were the days | these days it is not unusual\n",
            "day - Mother's Day\n",
            "day - the dawn turned night into day | it is easier to make the repairs in the daytime\n",
            "day - my day began early this morning | it was a busy day on the stock exchange | she called it a day and went to bed\n"
          ],
          "name": "stdout"
        }
      ]
    },
    {
      "cell_type": "markdown",
      "metadata": {
        "id": "Ul4FGeC_FTDm"
      },
      "source": [
        "Посмотрим на связанные синсеты (гипонимы, антонимы, синонимы, меронимы)."
      ]
    },
    {
      "cell_type": "code",
      "metadata": {
        "id": "LqGLOLf8FTDn"
      },
      "source": [
        "s = wn.synsets('car')[0]"
      ],
      "execution_count": 11,
      "outputs": []
    },
    {
      "cell_type": "code",
      "metadata": {
        "scrolled": true,
        "colab": {
          "base_uri": "https://localhost:8080/"
        },
        "id": "TuDdfqdOFTDn",
        "outputId": "710995d4-9caf-42ce-b50a-9822eef51c1f"
      },
      "source": [
        "s.part_meronyms()[:5]"
      ],
      "execution_count": 12,
      "outputs": [
        {
          "output_type": "execute_result",
          "data": {
            "text/plain": [
              "[Synset('accelerator.n.01'),\n",
              " Synset('air_bag.n.01'),\n",
              " Synset('auto_accessory.n.01'),\n",
              " Synset('automobile_engine.n.01'),\n",
              " Synset('automobile_horn.n.01')]"
            ]
          },
          "metadata": {
            "tags": []
          },
          "execution_count": 12
        }
      ]
    },
    {
      "cell_type": "markdown",
      "metadata": {
        "id": "rfao135MFTDo"
      },
      "source": [
        "Антонимы только достаются не очень удобно:"
      ]
    },
    {
      "cell_type": "code",
      "metadata": {
        "colab": {
          "base_uri": "https://localhost:8080/"
        },
        "id": "M3xfPwSEFTDo",
        "outputId": "35eb781b-2c02-4f31-f40b-7ba0b71a0f10"
      },
      "source": [
        "wn.synsets('good')[2].lemmas()[0].antonyms()"
      ],
      "execution_count": 13,
      "outputs": [
        {
          "output_type": "execute_result",
          "data": {
            "text/plain": [
              "[Lemma('bad.n.01.bad')]"
            ]
          },
          "metadata": {
            "tags": []
          },
          "execution_count": 13
        }
      ]
    },
    {
      "cell_type": "markdown",
      "metadata": {
        "id": "O_A7t8vQFTDo"
      },
      "source": [
        "Можно засунуть это все в граф и нарисовать:"
      ]
    },
    {
      "cell_type": "code",
      "metadata": {
        "colab": {
          "base_uri": "https://localhost:8080/"
        },
        "id": "eEZW42JfFTDp",
        "outputId": "d88e969e-f9a2-41b4-b06c-5986aa650e18"
      },
      "source": [
        "!pip install networkx"
      ],
      "execution_count": 14,
      "outputs": [
        {
          "output_type": "stream",
          "text": [
            "Requirement already satisfied: networkx in /usr/local/lib/python3.7/dist-packages (2.5)\n",
            "Requirement already satisfied: decorator>=4.3.0 in /usr/local/lib/python3.7/dist-packages (from networkx) (4.4.2)\n"
          ],
          "name": "stdout"
        }
      ]
    },
    {
      "cell_type": "code",
      "metadata": {
        "colab": {
          "base_uri": "https://localhost:8080/"
        },
        "id": "gQGJccUTFTDp",
        "outputId": "d56e1a34-0fee-4dd8-8096-77ff5cf78515"
      },
      "source": [
        "import networkx as nx\n",
        "\n",
        "words = wn.synsets('car')\n",
        "hyponyms = words[0].part_meronyms()\n",
        "print(hyponyms)\n",
        "\n",
        "G=nx.Graph()\n",
        "\n",
        "for w in hyponyms: \n",
        "    G.add_edge(words[0].name().split('.')[0],\n",
        "               w.name().split('.')[0], \n",
        "               weight=words[0].wup_similarity(w))"
      ],
      "execution_count": 15,
      "outputs": [
        {
          "output_type": "stream",
          "text": [
            "[Synset('accelerator.n.01'), Synset('air_bag.n.01'), Synset('auto_accessory.n.01'), Synset('automobile_engine.n.01'), Synset('automobile_horn.n.01'), Synset('buffer.n.06'), Synset('bumper.n.02'), Synset('car_door.n.01'), Synset('car_mirror.n.01'), Synset('car_seat.n.01'), Synset('car_window.n.01'), Synset('fender.n.01'), Synset('first_gear.n.01'), Synset('floorboard.n.02'), Synset('gasoline_engine.n.01'), Synset('glove_compartment.n.01'), Synset('grille.n.02'), Synset('high_gear.n.01'), Synset('hood.n.09'), Synset('luggage_compartment.n.01'), Synset('rear_window.n.01'), Synset('reverse.n.02'), Synset('roof.n.02'), Synset('running_board.n.01'), Synset('stabilizer_bar.n.01'), Synset('sunroof.n.01'), Synset('tail_fin.n.02'), Synset('third_gear.n.01'), Synset('window.n.02')]\n"
          ],
          "name": "stdout"
        }
      ]
    },
    {
      "cell_type": "code",
      "metadata": {
        "scrolled": true,
        "colab": {
          "base_uri": "https://localhost:8080/",
          "height": 575
        },
        "id": "sF6Bxa9KFTDq",
        "outputId": "ef345210-3f7f-4ded-cc5a-3b65edbab34b"
      },
      "source": [
        "plt.figure(figsize=(10,10))\n",
        "plt.axis('off')\n",
        "\n",
        "nx.draw_networkx(G,with_labels=True,node_size=2000,\n",
        "                 font_size=10,\n",
        "                 node_shape='s',\n",
        "                 alpha=0.9,\n",
        "                 node_color='red')"
      ],
      "execution_count": 16,
      "outputs": [
        {
          "output_type": "display_data",
          "data": {
            "image/png": "[encoded data removed]",
            "text/plain": [
              "<Figure size 720x720 with 1 Axes>"
            ]
          },
          "metadata": {
            "tags": []
          }
        }
      ]
    },
    {
      "cell_type": "markdown",
      "metadata": {
        "id": "gmtQ5hmVFTDq"
      },
      "source": [
        "Можно посчитать близость между синсетами (зависит от того, какой путь нужно пройти по этим связям от одного объекта до другого и есть ли он вообще)"
      ]
    },
    {
      "cell_type": "code",
      "metadata": {
        "id": "zF1QJuQgFTDr"
      },
      "source": [
        "car = wn.synsets('car')[0]\n",
        "bike = wn.synsets('bike')[0]"
      ],
      "execution_count": 17,
      "outputs": []
    },
    {
      "cell_type": "code",
      "metadata": {
        "colab": {
          "base_uri": "https://localhost:8080/"
        },
        "id": "xDkYP8xRFTDr",
        "outputId": "94b3b53e-0673-4c22-84fe-3cc7ce83d015"
      },
      "source": [
        "bike.path_similarity(car)"
      ],
      "execution_count": 18,
      "outputs": [
        {
          "output_type": "execute_result",
          "data": {
            "text/plain": [
              "0.3333333333333333"
            ]
          },
          "metadata": {
            "tags": []
          },
          "execution_count": 18
        }
      ]
    },
    {
      "cell_type": "markdown",
      "metadata": {
        "id": "f9hNcgrKFTDr"
      },
      "source": [
        "Есть и другие метрики:"
      ]
    },
    {
      "cell_type": "code",
      "metadata": {
        "colab": {
          "base_uri": "https://localhost:8080/"
        },
        "id": "4XoqDFi0FTDs",
        "outputId": "97f10208-7015-4569-9584-26b4ad6d735f"
      },
      "source": [
        "wn.lch_similarity(bike, car)"
      ],
      "execution_count": 19,
      "outputs": [
        {
          "output_type": "execute_result",
          "data": {
            "text/plain": [
              "2.538973871058276"
            ]
          },
          "metadata": {
            "tags": []
          },
          "execution_count": 19
        }
      ]
    },
    {
      "cell_type": "code",
      "metadata": {
        "colab": {
          "base_uri": "https://localhost:8080/"
        },
        "id": "fYrEgO97FTDs",
        "outputId": "81e4c06b-deab-47dc-eef2-c9e0bb16a19d"
      },
      "source": [
        "wn.wup_similarity(bike, car)"
      ],
      "execution_count": 20,
      "outputs": [
        {
          "output_type": "execute_result",
          "data": {
            "text/plain": [
              "0.9166666666666666"
            ]
          },
          "metadata": {
            "tags": []
          },
          "execution_count": 20
        }
      ]
    },
    {
      "cell_type": "markdown",
      "metadata": {
        "id": "sbbaQIfIFTDu"
      },
      "source": [
        "### Домашнее задание. Реализовать алгоритм Леска и проверить его на реальном датасете"
      ]
    },
    {
      "cell_type": "markdown",
      "metadata": {
        "id": "7kzLAi8lFTDu"
      },
      "source": [
        "Ворднет можно использовать для дизамбигуации. Самый простой алгоритм дизамбигуации - алгоритм Леска. В нём нужное значение слова находится через пересечение слов контекста, в котором употреблено это слово, с определениями значений слова из ворднета. Значение с максимальным пересечением - нужное."
      ]
    },
    {
      "cell_type": "code",
      "metadata": {
        "id": "igdRV5jgFTDv"
      },
      "source": [
        "def lesk(word, sentence):\n",
        "  bestsense = 0\n",
        "  maxoverlap = 0\n",
        "  synsets = wn.synsets(word)\n",
        "\n",
        "  for i, syns in enumerate(synsets):\n",
        "    defi = syns.definition()\n",
        "    def_words = normalize(defi)\n",
        "    overlap = get_overlap(def_words, sentence)\n",
        "        \n",
        "    if overlap >= maxoverlap:\n",
        "      maxoverlap = overlap\n",
        "      bestsense = i\n",
        "        \n",
        "  return bestsense\n",
        "\n",
        "def get_overlap(a, b):\n",
        "  return len(list(set(a) & set(b)))"
      ],
      "execution_count": 33,
      "outputs": []
    },
    {
      "cell_type": "code",
      "metadata": {
        "colab": {
          "base_uri": "https://localhost:8080/"
        },
        "id": "78OmtffgWg0N",
        "outputId": "70f371d2-c26e-4f2a-9a2f-69f498c1aa49"
      },
      "source": [
        "lesk('day', normalize('some point or period in time'))"
      ],
      "execution_count": 34,
      "outputs": [
        {
          "output_type": "execute_result",
          "data": {
            "text/plain": [
              "1"
            ]
          },
          "metadata": {
            "tags": []
          },
          "execution_count": 34
        }
      ]
    },
    {
      "cell_type": "code",
      "metadata": {
        "colab": {
          "base_uri": "https://localhost:8080/",
          "height": 35
        },
        "id": "UWK9ICZoFTDx",
        "outputId": "da1c14b8-5ebf-4079-d32d-1c6223eeac7d"
      },
      "source": [
        "# с помощью этого индекса достаем нужный синсет\n",
        "wn.synsets('day')[1].definition()"
      ],
      "execution_count": 35,
      "outputs": [
        {
          "output_type": "execute_result",
          "data": {
            "application/vnd.google.colaboratory.intrinsic+json": {
              "type": "string"
            },
            "text/plain": [
              "'some point or period in time'"
            ]
          },
          "metadata": {
            "tags": []
          },
          "execution_count": 35
        }
      ]
    },
    {
      "cell_type": "markdown",
      "metadata": {
        "id": "mBoxcphEFTDx"
      },
      "source": [
        "**Проверьте насколько хорошо работает такой метод на реальном датасете.** http://lcl.uniroma1.it/wsdeval/ - большой фреймворк для оценки WSD. Там много данных и я взял кусочек, чтобы не было проблем с памятью"
      ]
    },
    {
      "cell_type": "code",
      "metadata": {
        "id": "nZ1SKtnxFTDz"
      },
      "source": [
        "corpus_wsd = []\n",
        "corpus = open('corpus_wsd_50k.txt').read().split('\\n\\n')\n",
        "for sent in corpus:\n",
        "    corpus_wsd.append([s.split('\\t') for s in sent.split('\\n')])"
      ],
      "execution_count": 36,
      "outputs": []
    },
    {
      "cell_type": "markdown",
      "metadata": {
        "id": "-fR8RtCAFTDz"
      },
      "source": [
        "Корпус состоит из предложений, где у каждого слова три поля - значение, лемма и само слово. Значение пустое, когда слово однозначное, а у многозначных слов стоит тэг вида **'long%3:00:02::'** Это тэг wordnet'ного формата"
      ]
    },
    {
      "cell_type": "code",
      "metadata": {
        "colab": {
          "base_uri": "https://localhost:8080/"
        },
        "id": "yYcO5HVaFTD1",
        "outputId": "3901caa5-875e-40e0-d710-378ec75c7dee"
      },
      "source": [
        "corpus_wsd[0]"
      ],
      "execution_count": 39,
      "outputs": [
        {
          "output_type": "execute_result",
          "data": {
            "text/plain": [
              "[['', 'how', 'How'],\n",
              " ['long%3:00:02::', 'long', 'long'],\n",
              " ['', 'have', 'has'],\n",
              " ['', 'it', 'it'],\n",
              " ['be%2:42:03::', 'be', 'been'],\n",
              " ['', 'since', 'since'],\n",
              " ['', 'you', 'you'],\n",
              " ['review%2:31:00::', 'review', 'reviewed'],\n",
              " ['', 'the', 'the'],\n",
              " ['objective%1:09:00::', 'objective', 'objectives'],\n",
              " ['', 'of', 'of'],\n",
              " ['', 'you', 'your'],\n",
              " ['benefit%1:21:00::', 'benefit', 'benefit'],\n",
              " ['', 'and', 'and'],\n",
              " ['service%1:04:07::', 'service', 'service'],\n",
              " ['program%1:09:01::', 'program', 'program'],\n",
              " ['', '?', '?']]"
            ]
          },
          "metadata": {
            "tags": []
          },
          "execution_count": 39
        }
      ]
    },
    {
      "cell_type": "markdown",
      "metadata": {
        "id": "GrqtnmqPFTD2"
      },
      "source": [
        "Вот так можно достать соответствующий этому тэгу синсет:"
      ]
    },
    {
      "cell_type": "code",
      "metadata": {
        "colab": {
          "base_uri": "https://localhost:8080/"
        },
        "id": "fs68iwBJFTD2",
        "outputId": "66d6a031-ba66-478b-eb1f-d08aaa138782"
      },
      "source": [
        "wn.lemma_from_key('long%3:00:02::').synset()"
      ],
      "execution_count": 40,
      "outputs": [
        {
          "output_type": "execute_result",
          "data": {
            "text/plain": [
              "Synset('long.a.01')"
            ]
          },
          "metadata": {
            "tags": []
          },
          "execution_count": 40
        }
      ]
    },
    {
      "cell_type": "markdown",
      "metadata": {
        "id": "rmZR9ET_FTD3"
      },
      "source": [
        "Когда с помощью алгоритма Леска вы найдете подходящее значение, их можно просто сравнить"
      ]
    },
    {
      "cell_type": "code",
      "metadata": {
        "colab": {
          "base_uri": "https://localhost:8080/"
        },
        "id": "kANZKvCHFTD3",
        "outputId": "f523165e-305f-4b0c-adc1-e2e7afba83a3"
      },
      "source": [
        "wn.synsets('long')"
      ],
      "execution_count": 41,
      "outputs": [
        {
          "output_type": "execute_result",
          "data": {
            "text/plain": [
              "[Synset('hanker.v.01'),\n",
              " Synset('long.a.01'),\n",
              " Synset('long.a.02'),\n",
              " Synset('long.s.03'),\n",
              " Synset('retentive.a.01'),\n",
              " Synset('long.a.05'),\n",
              " Synset('long.a.06'),\n",
              " Synset('long.s.07'),\n",
              " Synset('farseeing.s.02'),\n",
              " Synset('long.s.09'),\n",
              " Synset('long.r.01'),\n",
              " Synset('long.r.02')]"
            ]
          },
          "metadata": {
            "tags": []
          },
          "execution_count": 41
        }
      ]
    },
    {
      "cell_type": "code",
      "metadata": {
        "colab": {
          "base_uri": "https://localhost:8080/"
        },
        "id": "9IeO8YJ4FTD4",
        "outputId": "c55b6e5a-ffe0-480d-81ff-57b1134171c7"
      },
      "source": [
        "# тут подходит второй синсет (!в вашем решении вместо индекса единицы будет результат работы функции lesk)\n",
        "wn.synsets('long')[1] == wn.lemma_from_key('long%3:00:02::').synset()"
      ],
      "execution_count": 42,
      "outputs": [
        {
          "output_type": "execute_result",
          "data": {
            "text/plain": [
              "True"
            ]
          },
          "metadata": {
            "tags": []
          },
          "execution_count": 42
        }
      ]
    },
    {
      "cell_type": "code",
      "metadata": {
        "colab": {
          "base_uri": "https://localhost:8080/"
        },
        "id": "Hcz5r9yNFTD4",
        "outputId": "b577950d-fdac-4305-d10c-bd60e679d940"
      },
      "source": [
        "# можно сравнить со всеми, чтобы убедиться\n",
        "[(syns, wn.synsets('long')[i] == wn.lemma_from_key('long%3:00:02::').synset()) \n",
        "  for i, syns in enumerate(wn.synsets('long'))]"
      ],
      "execution_count": 43,
      "outputs": [
        {
          "output_type": "execute_result",
          "data": {
            "text/plain": [
              "[(Synset('hanker.v.01'), False),\n",
              " (Synset('long.a.01'), True),\n",
              " (Synset('long.a.02'), False),\n",
              " (Synset('long.s.03'), False),\n",
              " (Synset('retentive.a.01'), False),\n",
              " (Synset('long.a.05'), False),\n",
              " (Synset('long.a.06'), False),\n",
              " (Synset('long.s.07'), False),\n",
              " (Synset('farseeing.s.02'), False),\n",
              " (Synset('long.s.09'), False),\n",
              " (Synset('long.r.01'), False),\n",
              " (Synset('long.r.02'), False)]"
            ]
          },
          "metadata": {
            "tags": []
          },
          "execution_count": 43
        }
      ]
    },
    {
      "cell_type": "markdown",
      "metadata": {
        "id": "LbMByeKRFTD5"
      },
      "source": [
        "**Вам нужно для каждого многозначного слова (т.е. у него есть тэг в первом поле) с помощью алгоритма Леска предсказать нужный синсет и сравнить с правильным. Посчитайте процент правильных предсказаний (accuracy).**\n",
        "\n",
        "Если считается слишком долго, возьмите поменьше предложений (например, только тысячу)"
      ]
    },
    {
      "cell_type": "code",
      "metadata": {
        "colab": {
          "base_uri": "https://localhost:8080/"
        },
        "id": "c8Co4zm_o2_I",
        "outputId": "336b47c5-9dd0-415f-ae03-10b311b70caf"
      },
      "source": [
        "true = 0\r\n",
        "total = 0\r\n",
        "\r\n",
        "for sent in corpus_wsd[:1000]:\r\n",
        "  for s in sent:\r\n",
        "    if s[0] != '':\r\n",
        "      total += 1\r\n",
        "      context = [i[1] for i in sent if i != s[2]]\r\n",
        "      sense_id = lesk(s[1], context)\r\n",
        "      if wn.synsets(s[1])[sense_id] == wn.lemma_from_key(s[0]).synset():\r\n",
        "        true += 1\r\n",
        "\r\n",
        "print(f'Accuracy: {true/total}')"
      ],
      "execution_count": 76,
      "outputs": [
        {
          "output_type": "stream",
          "text": [
            "Accuracy: 0.2588791512915129\n"
          ],
          "name": "stdout"
        }
      ]
    },
    {
      "cell_type": "markdown",
      "metadata": {
        "id": "324tViqKFTD5"
      },
      "source": [
        "### Дополнительный балл"
      ]
    },
    {
      "cell_type": "markdown",
      "metadata": {
        "id": "pumF2K4AFTD5"
      },
      "source": [
        "Если хотите заработать дополнительный балл, попробуйте улучшить алгоритм Леска любым способом (например, использовать расстояние редактирования вместо пересечения или даже вставить машинное обучение)"
      ]
    },
    {
      "cell_type": "code",
      "metadata": {
        "colab": {
          "base_uri": "https://localhost:8080/"
        },
        "id": "Eu8LHZM5dU1H",
        "outputId": "9dd3462a-7565-4957-c40a-3a6451432188"
      },
      "source": [
        "pip install python-Levenshtein"
      ],
      "execution_count": 47,
      "outputs": [
        {
          "output_type": "stream",
          "text": [
            "Collecting python-Levenshtein\n",
            "\u001b[?25l  Downloading https://files.pythonhosted.org/packages/2a/dc/97f2b63ef0fa1fd78dcb7195aca577804f6b2b51e712516cc0e902a9a201/python-Levenshtein-0.12.2.tar.gz (50kB)\n",
            "\r\u001b[K     |██████▌                         | 10kB 10.7MB/s eta 0:00:01\r\u001b[K     |█████████████                   | 20kB 16.7MB/s eta 0:00:01\r\u001b[K     |███████████████████▌            | 30kB 13.1MB/s eta 0:00:01\r\u001b[K     |██████████████████████████      | 40kB 13.2MB/s eta 0:00:01\r\u001b[K     |████████████████████████████████| 51kB 2.7MB/s \n",
            "\u001b[?25hRequirement already satisfied: setuptools in /usr/local/lib/python3.7/dist-packages (from python-Levenshtein) (54.0.0)\n",
            "Building wheels for collected packages: python-Levenshtein\n",
            "  Building wheel for python-Levenshtein (setup.py) ... \u001b[?25l\u001b[?25hdone\n",
            "  Created wheel for python-Levenshtein: filename=python_Levenshtein-0.12.2-cp37-cp37m-linux_x86_64.whl size=149801 sha256=e12753f46ef52f9fa9ba508c9545e4d7013901f17f9d4699c10a55e9d81a0225\n",
            "  Stored in directory: /root/.cache/pip/wheels/b3/26/73/4b48503bac73f01cf18e52cd250947049a7f339e940c5df8fc\n",
            "Successfully built python-Levenshtein\n",
            "Installing collected packages: python-Levenshtein\n",
            "Successfully installed python-Levenshtein-0.12.2\n"
          ],
          "name": "stdout"
        }
      ]
    },
    {
      "cell_type": "code",
      "metadata": {
        "id": "iwHpfakPdZGS"
      },
      "source": [
        "import Levenshtein"
      ],
      "execution_count": 49,
      "outputs": []
    },
    {
      "cell_type": "code",
      "metadata": {
        "id": "AWWUBVyYbTWL"
      },
      "source": [
        "def lev(word, sentence):\r\n",
        "  bestsense = 0\r\n",
        "  min_score = 1000000\r\n",
        "  synsets = wn.synsets(word)\r\n",
        "\r\n",
        "  for i, syns in enumerate(synsets):\r\n",
        "    defi = syns.definition()\r\n",
        "    def_words = normalize(defi)\r\n",
        "    lev_score = get_lev(def_words, sentence)\r\n",
        "        \r\n",
        "    if lev_score <= min_score:\r\n",
        "      min_score = lev_score\r\n",
        "      bestsense = i\r\n",
        "        \r\n",
        "  return bestsense\r\n",
        "\r\n",
        "def get_lev(a, b):\r\n",
        "  return Levenshtein.distance(' '.join(a),' '.join(b))"
      ],
      "execution_count": 53,
      "outputs": []
    },
    {
      "cell_type": "code",
      "metadata": {
        "colab": {
          "base_uri": "https://localhost:8080/"
        },
        "id": "I45y9cSlcbrE",
        "outputId": "dd72116c-13e9-41b6-e17a-c376b9068145"
      },
      "source": [
        "lev('day', normalize('some point or period in time'))"
      ],
      "execution_count": 54,
      "outputs": [
        {
          "output_type": "execute_result",
          "data": {
            "text/plain": [
              "1"
            ]
          },
          "metadata": {
            "tags": []
          },
          "execution_count": 54
        }
      ]
    },
    {
      "cell_type": "code",
      "metadata": {
        "colab": {
          "base_uri": "https://localhost:8080/",
          "height": 35
        },
        "id": "BFMrGYaocfOJ",
        "outputId": "144e28f8-8ed7-4071-af16-632472530788"
      },
      "source": [
        "wn.synsets('day')[1].definition()"
      ],
      "execution_count": 55,
      "outputs": [
        {
          "output_type": "execute_result",
          "data": {
            "application/vnd.google.colaboratory.intrinsic+json": {
              "type": "string"
            },
            "text/plain": [
              "'some point or period in time'"
            ]
          },
          "metadata": {
            "tags": []
          },
          "execution_count": 55
        }
      ]
    },
    {
      "cell_type": "code",
      "metadata": {
        "colab": {
          "base_uri": "https://localhost:8080/"
        },
        "id": "iLXc1zZkpfIV",
        "outputId": "e9e9a5b6-40f3-4465-ef46-65fdb6dd85d5"
      },
      "source": [
        "true = 0\r\n",
        "total = 0\r\n",
        "\r\n",
        "for sent in corpus_wsd[:1000]:\r\n",
        "  for s in sent:\r\n",
        "    if s[0] != '':\r\n",
        "      total += 1\r\n",
        "      context = [i[1] for i in sent if i != s[2]]\r\n",
        "      sense_id = lev(s[1], context)\r\n",
        "      if wn.synsets(s[1])[sense_id] == wn.lemma_from_key(s[0]).synset():\r\n",
        "        true += 1\r\n",
        "\r\n",
        "print(f'Accuracy: {true/total}')"
      ],
      "execution_count": 77,
      "outputs": [
        {
          "output_type": "stream",
          "text": [
            "Accuracy: 0.31526752767527677\n"
          ],
          "name": "stdout"
        }
      ]
    },
    {
      "cell_type": "markdown",
      "metadata": {
        "id": "z0dEoLpxe0OC"
      },
      "source": [
        "Результаты получились получше, чем у Леска"
      ]
    },
    {
      "cell_type": "markdown",
      "metadata": {
        "id": "ofcyjcBOn0WJ"
      },
      "source": [
        "На всякий случай привожу второй (расписанный) вариант подсчета расстояния"
      ]
    },
    {
      "cell_type": "code",
      "metadata": {
        "id": "7e0c-0LFekKi"
      },
      "source": [
        "def levenshteinDistance(a, b):\r\n",
        "    if len(a) > len(b):\r\n",
        "        a, b = b, a\r\n",
        "\r\n",
        "    dists = range(len(a) + 1)\r\n",
        "    for id_2, c_2 in enumerate(b):\r\n",
        "        all_dist = [id_2+1]\r\n",
        "        for id_1, c_1 in enumerate(a):\r\n",
        "            if c_1 == c_2:\r\n",
        "                all_dist.append(dists[id_1])\r\n",
        "            else:\r\n",
        "                all_dist.append(1 + min((dists[id_1], dists[id_1 + 1], all_dist[-1])))\r\n",
        "        dists = all_dist\r\n",
        "        \r\n",
        "    return dists[-1]"
      ],
      "execution_count": 71,
      "outputs": []
    },
    {
      "cell_type": "code",
      "metadata": {
        "id": "BLQPtwRXj0Ng"
      },
      "source": [
        "def lev_2(word, sentence):\r\n",
        "  bestsense = 0\r\n",
        "  min_score = 1000000\r\n",
        "  synsets = wn.synsets(word)\r\n",
        "\r\n",
        "  for i, syns in enumerate(synsets):\r\n",
        "    defi = syns.definition()\r\n",
        "    def_words = normalize(defi)\r\n",
        "    lev_score = levenshteinDistance(' '.join(def_words), ' '.join(sentence))\r\n",
        "        \r\n",
        "    if lev_score <= min_score:\r\n",
        "      min_score = lev_score\r\n",
        "      bestsense = i\r\n",
        "        \r\n",
        "  return bestsense"
      ],
      "execution_count": 72,
      "outputs": []
    },
    {
      "cell_type": "code",
      "metadata": {
        "colab": {
          "base_uri": "https://localhost:8080/"
        },
        "id": "DOwBm7yakDAR",
        "outputId": "ac890b52-2f03-4782-d4ba-316cfce8bcd2"
      },
      "source": [
        "lev_2('day', normalize('some point or period in time'))"
      ],
      "execution_count": 73,
      "outputs": [
        {
          "output_type": "execute_result",
          "data": {
            "text/plain": [
              "1"
            ]
          },
          "metadata": {
            "tags": []
          },
          "execution_count": 73
        }
      ]
    },
    {
      "cell_type": "code",
      "metadata": {
        "colab": {
          "base_uri": "https://localhost:8080/",
          "height": 35
        },
        "id": "PFDvOU0tkGdN",
        "outputId": "d3c806d3-f706-49e6-f573-3e6607b5fc23"
      },
      "source": [
        "wn.synsets('day')[1].definition()"
      ],
      "execution_count": 74,
      "outputs": [
        {
          "output_type": "execute_result",
          "data": {
            "application/vnd.google.colaboratory.intrinsic+json": {
              "type": "string"
            },
            "text/plain": [
              "'some point or period in time'"
            ]
          },
          "metadata": {
            "tags": []
          },
          "execution_count": 74
        }
      ]
    },
    {
      "cell_type": "code",
      "metadata": {
        "colab": {
          "base_uri": "https://localhost:8080/"
        },
        "id": "HZ10UuCnqFd_",
        "outputId": "c7182b9f-451b-49de-cc67-6b9425e20da8"
      },
      "source": [
        "true = 0\r\n",
        "total = 0\r\n",
        "\r\n",
        "for sent in corpus_wsd[:1000]:\r\n",
        "  for s in sent:\r\n",
        "    if s[0] != '':\r\n",
        "      total += 1\r\n",
        "      context = [i[1] for i in sent if i != s[2]]\r\n",
        "      sense_id = lev_2(s[1], context)\r\n",
        "      if wn.synsets(s[1])[sense_id] == wn.lemma_from_key(s[0]).synset():\r\n",
        "        true += 1\r\n",
        "\r\n",
        "print(f'Accuracy: {true/total}')"
      ],
      "execution_count": 78,
      "outputs": [
        {
          "output_type": "stream",
          "text": [
            "Accuracy: 0.31526752767527677\n"
          ],
          "name": "stdout"
        }
      ]
    },
    {
      "cell_type": "markdown",
      "metadata": {
        "id": "ApF4u5PyoGzz"
      },
      "source": [
        "Результат получился тем же самым"
      ]
    }
  ]
}