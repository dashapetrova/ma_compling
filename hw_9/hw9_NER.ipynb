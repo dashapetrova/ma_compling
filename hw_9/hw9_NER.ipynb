{
  "nbformat": 4,
  "nbformat_minor": 0,
  "metadata": {
    "kernelspec": {
      "display_name": "Python 3",
      "language": "python",
      "name": "python3"
    },
    "language_info": {
      "codemirror_mode": {
        "name": "ipython",
        "version": 3
      },
      "file_extension": ".py",
      "mimetype": "text/x-python",
      "name": "python",
      "nbconvert_exporter": "python",
      "pygments_lexer": "ipython3",
      "version": "3.6.5"
    },
    "colab": {
      "name": "hw9_NER.ipynb",
      "provenance": [],
      "collapsed_sections": []
    }
  },
  "cells": [
    {
      "cell_type": "markdown",
      "metadata": {
        "id": "nT22BcC4K129"
      },
      "source": [
        "# Извлечение именованных сущностей."
      ]
    },
    {
      "cell_type": "code",
      "metadata": {
        "colab": {
          "base_uri": "https://localhost:8080/"
        },
        "id": "siGX0MD8Owr3",
        "outputId": "b2c9391a-5c71-45e9-acdb-2e0ed59d0b9b"
      },
      "source": [
        "from google.colab import drive\n",
        "drive.mount('/content/gdrive') #, force_remount=True"
      ],
      "execution_count": 34,
      "outputs": [
        {
          "output_type": "stream",
          "text": [
            "Mounted at /content/gdrive\n"
          ],
          "name": "stdout"
        }
      ]
    },
    {
      "cell_type": "code",
      "metadata": {
        "id": "0_cZJox5PAw0"
      },
      "source": [
        "import os\n",
        "os.chdir('gdrive/My Drive/Colab Notebooks/nlp_hw')"
      ],
      "execution_count": 35,
      "outputs": []
    },
    {
      "cell_type": "code",
      "metadata": {
        "id": "nZ03DFxxLT82"
      },
      "source": [
        "!pip install natasha ipymarkup"
      ],
      "execution_count": null,
      "outputs": []
    },
    {
      "cell_type": "code",
      "metadata": {
        "colab": {
          "base_uri": "https://localhost:8080/"
        },
        "id": "zfDEEVUGLJ0R",
        "outputId": "65e5c563-9abb-4911-f18e-ecc226264617"
      },
      "source": [
        "!pip install pymorphy2"
      ],
      "execution_count": 2,
      "outputs": [
        {
          "output_type": "stream",
          "text": [
            "Requirement already satisfied: pymorphy2 in /usr/local/lib/python3.7/dist-packages (0.9.1)\n",
            "Requirement already satisfied: pymorphy2-dicts-ru<3.0,>=2.4 in /usr/local/lib/python3.7/dist-packages (from pymorphy2) (2.4.417127.4579844)\n",
            "Requirement already satisfied: dawg-python>=0.7.1 in /usr/local/lib/python3.7/dist-packages (from pymorphy2) (0.7.2)\n",
            "Requirement already satisfied: docopt>=0.6 in /usr/local/lib/python3.7/dist-packages (from pymorphy2) (0.6.2)\n"
          ],
          "name": "stdout"
        }
      ]
    },
    {
      "cell_type": "code",
      "metadata": {
        "id": "mFFYebFtK13Y"
      },
      "source": [
        "from pymorphy2 import MorphAnalyzer\n",
        "morph = MorphAnalyzer()"
      ],
      "execution_count": 3,
      "outputs": []
    },
    {
      "cell_type": "code",
      "metadata": {
        "colab": {
          "base_uri": "https://localhost:8080/"
        },
        "id": "9Rz3d67LK13Z",
        "outputId": "5781052c-0a5a-422f-927e-982d697b91dc"
      },
      "source": [
        "p = morph.parse('Михаил')[0].tag\n",
        "print('Тэги - ', p)\n",
        "print('Name' in p) #тэг имени"
      ],
      "execution_count": 4,
      "outputs": [
        {
          "output_type": "stream",
          "text": [
            "Тэги -  NOUN,anim,masc,Name sing,nomn\n",
            "True\n"
          ],
          "name": "stdout"
        }
      ]
    },
    {
      "cell_type": "code",
      "metadata": {
        "colab": {
          "base_uri": "https://localhost:8080/"
        },
        "id": "oBmZPMLCK13a",
        "outputId": "3d99ceda-8b30-4a8f-b2b5-ccdecf904e1b"
      },
      "source": [
        "p = morph.parse('Иванов')[0].tag\n",
        "print('Тэги - ', p)\n",
        "print('Surn' in p) #тэг фамилии"
      ],
      "execution_count": 5,
      "outputs": [
        {
          "output_type": "stream",
          "text": [
            "Тэги -  NOUN,anim,masc,Sgtm,Surn sing,nomn\n",
            "True\n"
          ],
          "name": "stdout"
        }
      ]
    },
    {
      "cell_type": "code",
      "metadata": {
        "colab": {
          "base_uri": "https://localhost:8080/"
        },
        "id": "KIDxYhnlK13b",
        "outputId": "6911a51f-5626-467a-f0ad-b021d1cc78c3"
      },
      "source": [
        "p = morph.parse('Петрович')[0].tag\n",
        "print('Тэги - ', p)\n",
        "print('Patr' in p) #тэг отчества"
      ],
      "execution_count": 6,
      "outputs": [
        {
          "output_type": "stream",
          "text": [
            "Тэги -  NOUN,anim,masc,Patr sing,nomn\n",
            "True\n"
          ],
          "name": "stdout"
        }
      ]
    },
    {
      "cell_type": "code",
      "metadata": {
        "colab": {
          "base_uri": "https://localhost:8080/"
        },
        "id": "rWDVGhbiK13c",
        "outputId": "6be900d2-8e12-4eb3-c9c1-0ae170d46475"
      },
      "source": [
        "p = morph.parse('Одинцово')[0].tag\n",
        "print('Тэги - ', p)\n",
        "print('Geox' in p) #тэг локация"
      ],
      "execution_count": 7,
      "outputs": [
        {
          "output_type": "stream",
          "text": [
            "Тэги -  NOUN,inan,neut,Sgtm,Geox sing,nomn\n",
            "True\n"
          ],
          "name": "stdout"
        }
      ]
    },
    {
      "cell_type": "code",
      "metadata": {
        "colab": {
          "base_uri": "https://localhost:8080/"
        },
        "id": "PyXT6i6jK13g",
        "outputId": "3c0588fb-852d-4f43-cb28-681f761dd4d9"
      },
      "source": [
        "p = morph.parse('Яндекс')[0].tag\n",
        "print('Тэги - ', p)\n",
        "print('Orgn' in p) #тэг организация"
      ],
      "execution_count": 8,
      "outputs": [
        {
          "output_type": "stream",
          "text": [
            "Тэги -  NOUN,inan,masc,Orgn sing,nomn\n",
            "True\n"
          ],
          "name": "stdout"
        }
      ]
    },
    {
      "cell_type": "code",
      "metadata": {
        "colab": {
          "base_uri": "https://localhost:8080/"
        },
        "id": "OBYCIdVIK13h",
        "outputId": "57b23ca4-cf99-4e12-c80e-83c2a4416035"
      },
      "source": [
        "p = morph.parse('МГУ')[0].tag\n",
        "print('Тэги - ', p)\n",
        "print('Orgn' in p) #тэг организация"
      ],
      "execution_count": 9,
      "outputs": [
        {
          "output_type": "stream",
          "text": [
            "Тэги -  NOUN,inan,masc,Sgtm,Fixd,Abbr,Orgn sing,gent\n",
            "True\n"
          ],
          "name": "stdout"
        }
      ]
    },
    {
      "cell_type": "code",
      "metadata": {
        "colab": {
          "base_uri": "https://localhost:8080/"
        },
        "id": "AC4XrYo8K13h",
        "outputId": "43a744cf-26e7-4f62-900b-d630b5d98c48"
      },
      "source": [
        "p = morph.parse('ВШЭ')[0].tag\n",
        "print('Тэги - ', p)\n",
        "print('Orgn' in p) #тэг организация"
      ],
      "execution_count": 10,
      "outputs": [
        {
          "output_type": "stream",
          "text": [
            "Тэги -  NOUN,inan,masc,Sgtm,Fixd,Abbr,Orgn sing,nomn\n",
            "True\n"
          ],
          "name": "stdout"
        }
      ]
    },
    {
      "cell_type": "markdown",
      "metadata": {
        "id": "IzpGgNqlLvFL"
      },
      "source": [
        "Попробуем разметить дургих слова тех же сущностей"
      ]
    },
    {
      "cell_type": "code",
      "metadata": {
        "colab": {
          "base_uri": "https://localhost:8080/"
        },
        "id": "2nmb6z_ULiEK",
        "outputId": "06a6fa76-511c-4aea-ff19-7ff2e7528744"
      },
      "source": [
        "p = morph.parse('МГУ')[0].tag\n",
        "print('Тэги - ', p)\n",
        "print('Orgn' in p) #тэг организация"
      ],
      "execution_count": 11,
      "outputs": [
        {
          "output_type": "stream",
          "text": [
            "Тэги -  NOUN,inan,masc,Sgtm,Fixd,Abbr,Orgn sing,gent\n",
            "True\n"
          ],
          "name": "stdout"
        }
      ]
    },
    {
      "cell_type": "code",
      "metadata": {
        "colab": {
          "base_uri": "https://localhost:8080/"
        },
        "id": "SCntgidvL3ps",
        "outputId": "62b0be34-4177-403c-a666-b471f86a594d"
      },
      "source": [
        "p = morph.parse('НИУ ВШЭ')[0].tag\n",
        "print('Тэги - ', p)\n",
        "print('Orgn' in p) #тэг организация"
      ],
      "execution_count": 12,
      "outputs": [
        {
          "output_type": "stream",
          "text": [
            "Тэги -  NOUN,inan,masc,Sgtm,Fixd,Abbr,Orgn sing,nomn\n",
            "True\n"
          ],
          "name": "stdout"
        }
      ]
    },
    {
      "cell_type": "code",
      "metadata": {
        "colab": {
          "base_uri": "https://localhost:8080/"
        },
        "id": "U88KIILwLiIQ",
        "outputId": "c9e205ba-6e80-4b43-b78a-219f46194f99"
      },
      "source": [
        "p = morph.parse('Гугл')[0].tag\n",
        "print('Тэги - ', p)\n",
        "print('Orgn' in p) #тэг организация"
      ],
      "execution_count": 13,
      "outputs": [
        {
          "output_type": "stream",
          "text": [
            "Тэги -  NOUN,inan,masc,Sgtm,Orgn sing,nomn\n",
            "True\n"
          ],
          "name": "stdout"
        }
      ]
    },
    {
      "cell_type": "code",
      "metadata": {
        "colab": {
          "base_uri": "https://localhost:8080/"
        },
        "id": "hHuZZPAMMKWq",
        "outputId": "176521d2-8f28-4f43-9508-01498c9cc6f8"
      },
      "source": [
        "p = morph.parse('Аби')[0].tag\n",
        "print('Тэги - ', p)\n",
        "print('Orgn' in p) #тэг организация\n",
        "\n",
        "p = morph.parse('Абби')[0].tag\n",
        "print('Тэги - ', p)\n",
        "print('Orgn' in p) #тэг организация"
      ],
      "execution_count": 15,
      "outputs": [
        {
          "output_type": "stream",
          "text": [
            "Тэги -  NOUN,anim,masc,Sgtm,Fixd,Name sing,nomn\n",
            "False\n",
            "Тэги -  NOUN,inan,neut,Fixd sing,nomn\n",
            "False\n"
          ],
          "name": "stdout"
        }
      ]
    },
    {
      "cell_type": "code",
      "metadata": {
        "colab": {
          "base_uri": "https://localhost:8080/"
        },
        "id": "B42ehspbMTnU",
        "outputId": "d2e24884-46d8-4a89-b7a9-994572cd931f"
      },
      "source": [
        "p = morph.parse('Чертаново')[0].tag\n",
        "print('Тэги - ', p)\n",
        "print('Geox' in p) #тэг локация"
      ],
      "execution_count": 16,
      "outputs": [
        {
          "output_type": "stream",
          "text": [
            "Тэги -  NOUN,inan,neut,Sgtm,Geox sing,nomn\n",
            "True\n"
          ],
          "name": "stdout"
        }
      ]
    },
    {
      "cell_type": "code",
      "metadata": {
        "colab": {
          "base_uri": "https://localhost:8080/"
        },
        "id": "UgjbLDBYMaR8",
        "outputId": "614a2075-59d7-49c8-e510-df0c004b33fa"
      },
      "source": [
        "p = morph.parse('Иван Иванов')[0].tag\n",
        "print('Тэги - ', p)\n",
        "print('Name' in p) #тэг имени\n",
        "print('Surn' in p) #тэг фамилии\n",
        "print('Patr' in p) #тэг отчества"
      ],
      "execution_count": 17,
      "outputs": [
        {
          "output_type": "stream",
          "text": [
            "Тэги -  NOUN,anim,masc,Name plur,gent\n",
            "True\n",
            "False\n",
            "False\n"
          ],
          "name": "stdout"
        }
      ]
    },
    {
      "cell_type": "code",
      "metadata": {
        "colab": {
          "base_uri": "https://localhost:8080/"
        },
        "id": "37Xd7r5kMnGo",
        "outputId": "78e2e229-397f-4eb5-c164-d9eb592a2a57"
      },
      "source": [
        "p = morph.parse('Семирамида')[0].tag\n",
        "print('Тэги - ', p)\n",
        "print('Name' in p) #тэг имени"
      ],
      "execution_count": 20,
      "outputs": [
        {
          "output_type": "stream",
          "text": [
            "Тэги -  NOUN,anim,femn,Name sing,nomn\n",
            "True\n"
          ],
          "name": "stdout"
        }
      ]
    },
    {
      "cell_type": "code",
      "metadata": {
        "colab": {
          "base_uri": "https://localhost:8080/"
        },
        "id": "8EJihpeIMz1-",
        "outputId": "f9be4a03-13f7-4916-c649-1cbd4f8005d2"
      },
      "source": [
        "p = morph.parse('Муза')[0].tag\n",
        "print('Тэги - ', p)\n",
        "print('Name' in p) #тэг имени"
      ],
      "execution_count": 21,
      "outputs": [
        {
          "output_type": "stream",
          "text": [
            "Тэги -  NOUN,anim,femn sing,nomn\n",
            "False\n"
          ],
          "name": "stdout"
        }
      ]
    },
    {
      "cell_type": "markdown",
      "metadata": {
        "id": "E2A0kA8lK13j"
      },
      "source": [
        "Другой инструмент - natasha (https://github.com/natasha/natasha)"
      ]
    },
    {
      "cell_type": "markdown",
      "metadata": {
        "id": "wm1HiHshK13k"
      },
      "source": [
        "До недавнего времени это была просто библиотека с правилами, написанными на yargy https://github.com/natasha/yargy (специальной грамматике на питоне), а теперь это уже многоцелевая русскоязычная нлп-библиотека. Извлекать сущности тут можно либо предобученной моделью либо правилами."
      ]
    },
    {
      "cell_type": "code",
      "metadata": {
        "id": "-ryh6coNK13k"
      },
      "source": [
        "from natasha import (\n",
        "    Segmenter,\n",
        "    MorphVocab,\n",
        "    NewsEmbedding,\n",
        "    NewsMorphTagger,\n",
        "    NewsSyntaxParser,\n",
        "    NewsNERTagger,\n",
        "    PER,\n",
        "    NamesExtractor,\n",
        "    Doc,\n",
        "    DatesExtractor,\n",
        "    MoneyExtractor,\n",
        "    AddrExtractor,\n",
        "    \n",
        ")\n",
        "\n",
        "\n",
        "# для красивой отрисовки есть отдельная библиотека\n",
        "from ipymarkup import show_span_box_markup\n",
        "\n",
        "\n",
        "# интерфейс загрузки моделей пока не самый простой\n",
        "# со временем наверное станет получше\n",
        "segmenter = Segmenter()\n",
        "morph_vocab = MorphVocab()\n",
        "\n",
        "emb = NewsEmbedding()\n",
        "ner_tagger = NewsNERTagger(emb)\n",
        "\n",
        "\n",
        "# правила загружаются вот так\n",
        "names_extractor = NamesExtractor(morph_vocab)\n",
        "dates_extractor = DatesExtractor(morph_vocab)\n",
        "money_extractor = MoneyExtractor(morph_vocab)\n",
        "addr_extractor = AddrExtractor(morph_vocab)"
      ],
      "execution_count": 22,
      "outputs": []
    },
    {
      "cell_type": "code",
      "metadata": {
        "colab": {
          "base_uri": "https://localhost:8080/",
          "height": 34
        },
        "id": "Eb_v7hhjK13l",
        "outputId": "e3076899-42eb-4596-c1d7-98045fca86ed"
      },
      "source": [
        "text = 'Влад Веселов. Андрей Петрович. Алиса Викторовна. Студия Артемия Лебедева'\n",
        "# для моделей нужно превратить текст в класс Doc (похоже на spacy)\n",
        "doc = Doc(text)\n",
        "\n",
        "\n",
        "# потом модели применяются к тексту\n",
        "doc.segment(segmenter) # сегментер нужно применить, иначе нер не будет работать\n",
        "doc.tag_ner(ner_tagger)\n",
        "show_span_box_markup(text, doc.spans)"
      ],
      "execution_count": 23,
      "outputs": [
        {
          "output_type": "display_data",
          "data": {
            "text/html": [
              "<div class=\"tex2jax_ignore\" style=\"white-space: pre-wrap\"><span style=\"padding: 2px; border-radius: 4px; border: 1px solid #bbdefb; background: #e3f2fd\">Влад Веселов<span style=\"vertical-align: middle; margin-left: 2px; font-size: 0.7em; color: #64b5f6;\">PER</span></span>. <span style=\"padding: 2px; border-radius: 4px; border: 1px solid #bbdefb; background: #e3f2fd\">Андрей Петрович<span style=\"vertical-align: middle; margin-left: 2px; font-size: 0.7em; color: #64b5f6;\">PER</span></span>. <span style=\"padding: 2px; border-radius: 4px; border: 1px solid #bbdefb; background: #e3f2fd\">Алиса Викторовна<span style=\"vertical-align: middle; margin-left: 2px; font-size: 0.7em; color: #64b5f6;\">PER</span></span>. Студия <span style=\"padding: 2px; border-radius: 4px; border: 1px solid #bbdefb; background: #e3f2fd\">Артемия Лебедева<span style=\"vertical-align: middle; margin-left: 2px; font-size: 0.7em; color: #64b5f6;\">PER</span></span></div>"
            ],
            "text/plain": [
              "<IPython.core.display.HTML object>"
            ]
          },
          "metadata": {
            "tags": []
          }
        }
      ]
    },
    {
      "cell_type": "code",
      "metadata": {
        "scrolled": true,
        "colab": {
          "base_uri": "https://localhost:8080/",
          "height": 34
        },
        "id": "1AvCtTpAK13m",
        "outputId": "a9cb32f2-fb58-4443-cd59-88be5c515374"
      },
      "source": [
        "matches = names_extractor(text)\n",
        "spans = [(_.start, _.stop, 'PER') for _ in matches]\n",
        "show_span_box_markup(text, spans)"
      ],
      "execution_count": 24,
      "outputs": [
        {
          "output_type": "display_data",
          "data": {
            "text/html": [
              "<div class=\"tex2jax_ignore\" style=\"white-space: pre-wrap\"><span style=\"padding: 2px; border-radius: 4px; border: 1px solid #bbdefb; background: #e3f2fd\">Влад Веселов<span style=\"vertical-align: middle; margin-left: 2px; font-size: 0.7em; color: #64b5f6;\">PER</span></span>. <span style=\"padding: 2px; border-radius: 4px; border: 1px solid #bbdefb; background: #e3f2fd\">Андрей Петрович<span style=\"vertical-align: middle; margin-left: 2px; font-size: 0.7em; color: #64b5f6;\">PER</span></span>. <span style=\"padding: 2px; border-radius: 4px; border: 1px solid #bbdefb; background: #e3f2fd\">Алиса Викторовна<span style=\"vertical-align: middle; margin-left: 2px; font-size: 0.7em; color: #64b5f6;\">PER</span></span>. <span style=\"padding: 2px; border-radius: 4px; border: 1px solid #bbdefb; background: #e3f2fd\">Студия Артемия<span style=\"vertical-align: middle; margin-left: 2px; font-size: 0.7em; color: #64b5f6;\">PER</span></span> <span style=\"padding: 2px; border-radius: 4px; border: 1px solid #bbdefb; background: #e3f2fd\">Лебедева<span style=\"vertical-align: middle; margin-left: 2px; font-size: 0.7em; color: #64b5f6;\">PER</span></span></div>"
            ],
            "text/plain": [
              "<IPython.core.display.HTML object>"
            ]
          },
          "metadata": {
            "tags": []
          }
        }
      ]
    },
    {
      "cell_type": "code",
      "metadata": {
        "colab": {
          "base_uri": "https://localhost:8080/",
          "height": 34
        },
        "id": "a36KfGV2K13n",
        "outputId": "37cad10e-e480-41a9-bcd2-d60e1f6029a4"
      },
      "source": [
        "text = 'Более того в Москве, на улице Такой. На реке Оке. В германии'\n",
        "\n",
        "doc = Doc(text)\n",
        "doc.segment(segmenter)\n",
        "doc.tag_ner(ner_tagger)\n",
        "show_span_box_markup(text, doc.spans)"
      ],
      "execution_count": 25,
      "outputs": [
        {
          "output_type": "display_data",
          "data": {
            "text/html": [
              "<div class=\"tex2jax_ignore\" style=\"white-space: pre-wrap\">Более того в <span style=\"padding: 2px; border-radius: 4px; border: 1px solid #c8e6c9; background: #e8f5e9\">Москве<span style=\"vertical-align: middle; margin-left: 2px; font-size: 0.7em; color: #66bb6a;\">LOC</span></span>, на улице <span style=\"padding: 2px; border-radius: 4px; border: 1px solid #c8e6c9; background: #e8f5e9\">Такой<span style=\"vertical-align: middle; margin-left: 2px; font-size: 0.7em; color: #66bb6a;\">LOC</span></span>. На реке <span style=\"padding: 2px; border-radius: 4px; border: 1px solid #c8e6c9; background: #e8f5e9\">Оке<span style=\"vertical-align: middle; margin-left: 2px; font-size: 0.7em; color: #66bb6a;\">LOC</span></span>. В <span style=\"padding: 2px; border-radius: 4px; border: 1px solid #c8e6c9; background: #e8f5e9\">германии<span style=\"vertical-align: middle; margin-left: 2px; font-size: 0.7em; color: #66bb6a;\">LOC</span></span></div>"
            ],
            "text/plain": [
              "<IPython.core.display.HTML object>"
            ]
          },
          "metadata": {
            "tags": []
          }
        }
      ]
    },
    {
      "cell_type": "code",
      "metadata": {
        "colab": {
          "base_uri": "https://localhost:8080/",
          "height": 34
        },
        "id": "Bma_jh_FK13o",
        "outputId": "4f9f6fbd-fecb-473c-bfac-c87ac3400951"
      },
      "source": [
        "matches = addr_extractor(text)\n",
        "spans = [(_.start, _.stop, 'LOC') for _ in matches]\n",
        "show_span_box_markup(text, spans)"
      ],
      "execution_count": 26,
      "outputs": [
        {
          "output_type": "display_data",
          "data": {
            "text/html": [
              "<div class=\"tex2jax_ignore\" style=\"white-space: pre-wrap\">Более того в <span style=\"padding: 2px; border-radius: 4px; border: 1px solid #c8e6c9; background: #e8f5e9\">Москве<span style=\"vertical-align: middle; margin-left: 2px; font-size: 0.7em; color: #66bb6a;\">LOC</span></span>, на <span style=\"padding: 2px; border-radius: 4px; border: 1px solid #c8e6c9; background: #e8f5e9\">улице Такой<span style=\"vertical-align: middle; margin-left: 2px; font-size: 0.7em; color: #66bb6a;\">LOC</span></span>. На реке Оке. В германии</div>"
            ],
            "text/plain": [
              "<IPython.core.display.HTML object>"
            ]
          },
          "metadata": {
            "tags": []
          }
        }
      ]
    },
    {
      "cell_type": "code",
      "metadata": {
        "colab": {
          "base_uri": "https://localhost:8080/",
          "height": 34
        },
        "id": "gcdw7CedK13o",
        "outputId": "e6d1b403-dfc6-41c3-e7da-843a199fe2ec"
      },
      "source": [
        "text = 'ФСБ. Московский государственный университет. Высшая школа экономики. ВШЭ. Mail.ru '\n",
        "doc = Doc(text)\n",
        "doc.segment(segmenter)\n",
        "doc.tag_ner(ner_tagger)\n",
        "show_span_box_markup(text, doc.spans)"
      ],
      "execution_count": 27,
      "outputs": [
        {
          "output_type": "display_data",
          "data": {
            "text/html": [
              "<div class=\"tex2jax_ignore\" style=\"white-space: pre-wrap\"><span style=\"padding: 2px; border-radius: 4px; border: 1px solid #ffcdd2; background: #ffebee\">ФСБ<span style=\"vertical-align: middle; margin-left: 2px; font-size: 0.7em; color: #e57373;\">ORG</span></span>. <span style=\"padding: 2px; border-radius: 4px; border: 1px solid #ffcdd2; background: #ffebee\">Московский государственный университет<span style=\"vertical-align: middle; margin-left: 2px; font-size: 0.7em; color: #e57373;\">ORG</span></span>. Высшая школа экономики. <span style=\"padding: 2px; border-radius: 4px; border: 1px solid #ffcdd2; background: #ffebee\">ВШЭ. Mail.ru<span style=\"vertical-align: middle; margin-left: 2px; font-size: 0.7em; color: #e57373;\">ORG</span></span> </div>"
            ],
            "text/plain": [
              "<IPython.core.display.HTML object>"
            ]
          },
          "metadata": {
            "tags": []
          }
        }
      ]
    },
    {
      "cell_type": "code",
      "metadata": {
        "scrolled": true,
        "colab": {
          "base_uri": "https://localhost:8080/",
          "height": 34
        },
        "id": "Aolv73qoK13p",
        "outputId": "72a6ffbb-e777-4592-b490-6f678074dbfd"
      },
      "source": [
        "text = 'С 2015 г. по 2017 год. 16 апреля 1993 года. В четверг . 23.12.18'\n",
        "\n",
        "matches = dates_extractor(text)\n",
        "spans = [(_.start, _.stop) for _ in matches]\n",
        "show_span_box_markup(text, spans)"
      ],
      "execution_count": 28,
      "outputs": [
        {
          "output_type": "display_data",
          "data": {
            "text/html": [
              "<div class=\"tex2jax_ignore\" style=\"white-space: pre-wrap\">С <span style=\"padding: 2px; border-radius: 4px; border: 1px solid #ffe0b2; background: #fff3e0\">2015 г.</span> по <span style=\"padding: 2px; border-radius: 4px; border: 1px solid #ffe0b2; background: #fff3e0\">2017 год</span>. <span style=\"padding: 2px; border-radius: 4px; border: 1px solid #ffe0b2; background: #fff3e0\">16 апреля 1993 года</span>. В четверг . <span style=\"padding: 2px; border-radius: 4px; border: 1px solid #ffe0b2; background: #fff3e0\">23.12.18</span></div>"
            ],
            "text/plain": [
              "<IPython.core.display.HTML object>"
            ]
          },
          "metadata": {
            "tags": []
          }
        }
      ]
    },
    {
      "cell_type": "code",
      "metadata": {
        "colab": {
          "base_uri": "https://localhost:8080/",
          "height": 34
        },
        "id": "VI5s7GQUK13q",
        "outputId": "0bfe7ac0-e643-404e-cf91-927a886ef147"
      },
      "source": [
        "text = \"Он заплатил ему 3,000,000,000 рублей.\"\n",
        "\n",
        "matches = money_extractor(text)\n",
        "spans = [(_.start, _.stop) for _ in matches]\n",
        "show_span_box_markup(text, spans)"
      ],
      "execution_count": 29,
      "outputs": [
        {
          "output_type": "display_data",
          "data": {
            "text/html": [
              "<div class=\"tex2jax_ignore\" style=\"white-space: pre-wrap\">Он заплатил ему 3,<span style=\"padding: 2px; border-radius: 4px; border: 1px solid #ffe0b2; background: #fff3e0\">000,000,000 рублей</span>.</div>"
            ],
            "text/plain": [
              "<IPython.core.display.HTML object>"
            ]
          },
          "metadata": {
            "tags": []
          }
        }
      ]
    },
    {
      "cell_type": "code",
      "metadata": {
        "colab": {
          "base_uri": "https://localhost:8080/",
          "height": 34
        },
        "id": "yfvGpaKGK13r",
        "outputId": "60100a5f-7b7d-4327-d051-f2867e82e472"
      },
      "source": [
        "text = \"Он заплатил ему 3000 000 000 рублей.\"\n",
        "\n",
        "matches = money_extractor(text)\n",
        "spans = [(_.start, _.stop) for _ in matches]\n",
        "show_span_box_markup(text, spans)"
      ],
      "execution_count": 30,
      "outputs": [
        {
          "output_type": "display_data",
          "data": {
            "text/html": [
              "<div class=\"tex2jax_ignore\" style=\"white-space: pre-wrap\">Он заплатил ему <span style=\"padding: 2px; border-radius: 4px; border: 1px solid #ffe0b2; background: #fff3e0\">3000 000 000 рублей</span>.</div>"
            ],
            "text/plain": [
              "<IPython.core.display.HTML object>"
            ]
          },
          "metadata": {
            "tags": []
          }
        }
      ]
    },
    {
      "cell_type": "markdown",
      "metadata": {
        "id": "BxpdLe-LK13s"
      },
      "source": [
        "Если нужно улучшить выделение стандартныйх типов или научиться извлекать специфичные сущности, нужно писать правила в Yargy. "
      ]
    },
    {
      "cell_type": "code",
      "metadata": {
        "id": "-sb73nvaK13y"
      },
      "source": [
        "from yargy import Parser, rule, or_\n",
        "from yargy.predicates import in_, in_caseless\n",
        "from yargy.tokenizer import MorphTokenizer\n",
        "from yargy.pipelines import morph_pipeline, caseless_pipeline\n",
        "from yargy.interpretation import fact\n",
        "from IPython.display import display"
      ],
      "execution_count": 42,
      "outputs": []
    },
    {
      "cell_type": "markdown",
      "metadata": {
        "id": "2V-z6vv_l0DE"
      },
      "source": [
        "Загрузим тексты"
      ]
    },
    {
      "cell_type": "code",
      "metadata": {
        "id": "t27pNFWbOeYo"
      },
      "source": [
        "with open('avito_cars.txt', 'r', encoding='utf-8') as f:\n",
        "  data = f.readlines()"
      ],
      "execution_count": 36,
      "outputs": []
    },
    {
      "cell_type": "markdown",
      "metadata": {
        "id": "Wut84K9JK130"
      },
      "source": [
        "Сделаем правило для марок.\n"
      ]
    },
    {
      "cell_type": "code",
      "metadata": {
        "id": "B8Cz1mq_OVI1"
      },
      "source": [
        "Auto = fact(\n",
        "    'Auto',\n",
        "    ['name', 'model']\n",
        ")"
      ],
      "execution_count": 56,
      "outputs": []
    },
    {
      "cell_type": "code",
      "metadata": {
        "id": "oBayiwuWK131"
      },
      "source": [
        "Vaz = rule(\n",
        "    morph_pipeline(['Ваз', 'ваз', 'ВАЗ']).interpretation(Auto.name),\n",
        "    morph_pipeline(['21110', '21063', '21074']).interpretation(Auto.model))"
      ],
      "execution_count": 92,
      "outputs": []
    },
    {
      "cell_type": "code",
      "metadata": {
        "id": "ZmI8rtzyK132"
      },
      "source": [
        "Volvo = rule(\n",
        "    morph_pipeline(['Volvo', 'volvo', 'VOLVO', 'Вольво', 'вольво', 'ВОЛЬВО']).interpretation(Auto.name),\n",
        "    morph_pipeline(['xc60', 'XC60']).interpretation(Auto.model)    \n",
        "    )"
      ],
      "execution_count": 93,
      "outputs": []
    },
    {
      "cell_type": "code",
      "metadata": {
        "id": "rBBW6VbPK132"
      },
      "source": [
        "AUTO = or_(Vaz, Volvo).interpretation(Auto)\n",
        "\n",
        "parser = Parser(AUTO)"
      ],
      "execution_count": 94,
      "outputs": []
    },
    {
      "cell_type": "markdown",
      "metadata": {
        "id": "mAA_WWBQK133"
      },
      "source": [
        "Попробуем сматчить по текстам."
      ]
    },
    {
      "cell_type": "code",
      "metadata": {
        "id": "XgSwTopDK133"
      },
      "source": [
        "matches = []\n",
        "\n",
        "for sent in data:\n",
        "    for match in parser.findall(sent):\n",
        "        matches.append(match.fact)"
      ],
      "execution_count": 96,
      "outputs": []
    },
    {
      "cell_type": "code",
      "metadata": {
        "colab": {
          "base_uri": "https://localhost:8080/"
        },
        "id": "Lt5RINmESTtb",
        "outputId": "7b6bd672-800c-4c7d-efd6-08710f263041"
      },
      "source": [
        "len(matches)"
      ],
      "execution_count": 97,
      "outputs": [
        {
          "output_type": "execute_result",
          "data": {
            "text/plain": [
              "97"
            ]
          },
          "metadata": {
            "tags": []
          },
          "execution_count": 97
        }
      ]
    },
    {
      "cell_type": "code",
      "metadata": {
        "scrolled": true,
        "colab": {
          "base_uri": "https://localhost:8080/"
        },
        "id": "sPalIJs7K134",
        "outputId": "612e6d80-cf73-4f4a-ddf9-18e3dc7515f8"
      },
      "source": [
        "for m in matches[:10]:\n",
        "    print(m.name, m.model)"
      ],
      "execution_count": 98,
      "outputs": [
        {
          "output_type": "stream",
          "text": [
            "ВАЗ 21063\n",
            "ВАЗ 21074\n",
            "ВАЗ 21074\n",
            "ваз 21063\n",
            "ваз 21063\n",
            "ВАЗ 21074\n",
            "ВАЗ 21074\n",
            "ВАЗ 21074\n",
            "Ваз 21074\n",
            "ВАЗ 21074\n"
          ],
          "name": "stdout"
        }
      ]
    },
    {
      "cell_type": "markdown",
      "metadata": {
        "id": "Bon_QnldTxGi"
      },
      "source": [
        "Добавим опциональные параметры и нормализацию"
      ]
    },
    {
      "cell_type": "code",
      "metadata": {
        "id": "ADafJtuTK135"
      },
      "source": [
        "Auto = fact(\n",
        "    'Auto',\n",
        "    ['name', 'model', 'props']\n",
        ")\n",
        "\n",
        "VERSIONS = {\n",
        "    '1.8': '1.8 л.',\n",
        "    '125': '125 л.с.',\n",
        "    '(125л.с.)': '125 л.с.',\n",
        "    '1.6': '1.6 л.',\n",
        "    '1,5' : '1.5 л.',\n",
        "    'мотор 1.6': 'мотор 1.6',\n",
        "    'пробег 118т.км.': 'пробег 118 т.км.',\n",
        "    'дв. 8 кл': 'дв. 8 кл.',\n",
        "    'LADA SAMARA' : 'LADA SAMARA',\n",
        "    '2008' : '2008 г. выпуска',\n",
        "    '2006' : '2006 г. выпуска',\n",
        "    '2003' : '2003 г. выпуска'\n",
        "}\n",
        "\n",
        "Vaz = rule(\n",
        "    morph_pipeline(['Ваз', 'ваз', 'ВАЗ']).interpretation(Auto.name.const('ВАЗ')),\n",
        "    morph_pipeline(['21110', '21063', '21074', '211440','2114', '2110', '2109', '2107']).interpretation(Auto.model.normalized()),\n",
        "    caseless_pipeline(VERSIONS).interpretation(Auto.props.normalized().custom(VERSIONS.get)).optional())\n",
        "\n",
        "Volvo = rule(\n",
        "    morph_pipeline(['Volvo', 'volvo', 'VOLVO', 'Вольво', 'вольво', 'ВОЛЬВО']).interpretation(Auto.name.const('Volvo')),\n",
        "    morph_pipeline(['xc60', 'XC60', 'ХС70', 'S40', 'S', 'C']).interpretation(Auto.model.normalized()),   \n",
        "    #in_('xc60XC60ХС70S40').interpretation(Auto.model.normalized()),\n",
        "    caseless_pipeline(VERSIONS).interpretation(Auto.props.normalized().custom(VERSIONS.get)).optional())\n",
        "\n",
        "AUTO = or_(Vaz, Volvo).interpretation(Auto)\n",
        "\n",
        "parser = Parser(AUTO)"
      ],
      "execution_count": 171,
      "outputs": []
    },
    {
      "cell_type": "code",
      "metadata": {
        "colab": {
          "base_uri": "https://localhost:8080/"
        },
        "id": "lroTjtZ5K136",
        "outputId": "c7a435c8-7a2a-4b88-9019-606be58ed228"
      },
      "source": [
        "list(parser.findall('ваз 21110 дв. 8 кл'))[0].fact"
      ],
      "execution_count": 176,
      "outputs": [
        {
          "output_type": "execute_result",
          "data": {
            "text/plain": [
              "Auto(\n",
              "    name='ВАЗ',\n",
              "    model='21110',\n",
              "    props='дв. 8 кл.'\n",
              ")"
            ]
          },
          "metadata": {
            "tags": []
          },
          "execution_count": 176
        }
      ]
    },
    {
      "cell_type": "code",
      "metadata": {
        "id": "DEQRnIi8K137"
      },
      "source": [
        "matches = []\n",
        "\n",
        "for sent in data:\n",
        "    for match in parser.findall(sent):\n",
        "        matches.append(match.fact)"
      ],
      "execution_count": 172,
      "outputs": []
    },
    {
      "cell_type": "code",
      "metadata": {
        "colab": {
          "base_uri": "https://localhost:8080/"
        },
        "id": "nw42XsAZkXT4",
        "outputId": "6141fc97-adf1-4c8d-b88b-d169d9ae65b2"
      },
      "source": [
        "len(matches)"
      ],
      "execution_count": 173,
      "outputs": [
        {
          "output_type": "execute_result",
          "data": {
            "text/plain": [
              "1472"
            ]
          },
          "metadata": {
            "tags": []
          },
          "execution_count": 173
        }
      ]
    },
    {
      "cell_type": "code",
      "metadata": {
        "colab": {
          "base_uri": "https://localhost:8080/"
        },
        "id": "flXo358VlWax",
        "outputId": "94a30e7e-5b97-4814-dbb8-3511a9900ae5"
      },
      "source": [
        "for m in matches[170:200]:\n",
        "  print(m.name, m.model, m.props)"
      ],
      "execution_count": 175,
      "outputs": [
        {
          "output_type": "stream",
          "text": [
            "ВАЗ 2107 None\n",
            "ВАЗ 2107 None\n",
            "ВАЗ 2107 None\n",
            "ВАЗ 2114 None\n",
            "ВАЗ 2109 None\n",
            "ВАЗ 2114 None\n",
            "ВАЗ 2107 None\n",
            "ВАЗ 2110 None\n",
            "ВАЗ 2109 None\n",
            "ВАЗ 2114 None\n",
            "ВАЗ 2110 None\n",
            "ВАЗ 2107 None\n",
            "ВАЗ 2114 2006 г. выпуска\n",
            "ВАЗ 2114 2008 г. выпуска\n",
            "ВАЗ 2110 None\n",
            "ВАЗ 2110 None\n",
            "ВАЗ 2110 None\n",
            "ВАЗ 2114 None\n",
            "ВАЗ 2109 None\n",
            "ВАЗ 2109 None\n",
            "ВАЗ 2107 None\n",
            "ВАЗ 21074 None\n",
            "ВАЗ 2109 None\n",
            "ВАЗ 2114 2003 г. выпуска\n",
            "Volvo S40 1.8 л.\n",
            "Volvo S40 1.8 л.\n",
            "ВАЗ 2114 None\n",
            "ВАЗ 2107 None\n",
            "ВАЗ 2110 None\n",
            "ВАЗ 2107 None\n"
          ],
          "name": "stdout"
        }
      ]
    },
    {
      "cell_type": "code",
      "metadata": {
        "id": "7oG8fR8PeBxq"
      },
      "source": [
        ""
      ],
      "execution_count": null,
      "outputs": []
    }
  ]
}