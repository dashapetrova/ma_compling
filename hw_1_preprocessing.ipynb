{
  "nbformat": 4,
  "nbformat_minor": 0,
  "metadata": {
    "colab": {
      "name": "hw_1_preprocessing.ipynb",
      "provenance": [],
      "collapsed_sections": []
    },
    "kernelspec": {
      "name": "python3",
      "display_name": "Python 3"
    }
  },
  "cells": [
    {
      "cell_type": "markdown",
      "metadata": {
        "id": "d8Yt0IMwpR4R"
      },
      "source": [
        "Скачайте вот этот текст -  https://github.com/mannefedov/compling_nlp_hse_course/blob/master/data/zhivago.txt"
      ]
    },
    {
      "cell_type": "code",
      "metadata": {
        "id": "DQh8wY5RmX7O",
        "outputId": "5f9da53c-9cee-472c-a909-a5a2482d366c",
        "colab": {
          "base_uri": "https://localhost:8080/"
        }
      },
      "source": [
        "from google.colab import drive\n",
        "drive.mount('/content/gdrive') #, force_remount=True"
      ],
      "execution_count": 1,
      "outputs": [
        {
          "output_type": "stream",
          "text": [
            "Mounted at /content/gdrive\n"
          ],
          "name": "stdout"
        }
      ]
    },
    {
      "cell_type": "code",
      "metadata": {
        "id": "6TIqA_U-pyqk"
      },
      "source": [
        "import os\n",
        "os.chdir('gdrive/My Drive/Colab Notebooks')"
      ],
      "execution_count": 2,
      "outputs": []
    },
    {
      "cell_type": "code",
      "metadata": {
        "id": "efWKnfWD0oTG"
      },
      "source": [
        "!pip install pymorphy2\n",
        "!pip install pymystem3==0.1.10\n",
        "!pip install rusenttokenize\n",
        "!pip install razdel\n",
        "!pip install wget"
      ],
      "execution_count": null,
      "outputs": []
    },
    {
      "cell_type": "code",
      "metadata": {
        "id": "EyG8t-YpuUT7",
        "outputId": "86dff95f-433d-481d-a4b2-9506eef46a04",
        "colab": {
          "base_uri": "https://localhost:8080/",
          "height": 35
        }
      },
      "source": [
        "import wget\n",
        "\n",
        "wget.download(\"https://raw.githubusercontent.com/mannefedov/compling_nlp_hse_course/master/data/zhivago.txt\", 'raw_text.txt')"
      ],
      "execution_count": null,
      "outputs": [
        {
          "output_type": "execute_result",
          "data": {
            "application/vnd.google.colaboratory.intrinsic+json": {
              "type": "string"
            },
            "text/plain": [
              "'raw_text.txt'"
            ]
          },
          "metadata": {
            "tags": []
          },
          "execution_count": 18
        }
      ]
    },
    {
      "cell_type": "code",
      "metadata": {
        "id": "jBtEefwYwnST"
      },
      "source": [
        ""
      ],
      "execution_count": null,
      "outputs": []
    },
    {
      "cell_type": "markdown",
      "metadata": {
        "id": "4hwgIQqEoWzx"
      },
      "source": [
        "**Задание 1 (2 балла).**\n",
        "\n",
        "Отчистите текст от мусора (тэгов, хешей и тп) с помощью регулярных выражений. Постарайтесь убрать весь мусор, но если что-то удалить не получается, то не мучайтесь. Главное, чтобы мусор не проявлялся в результатах следующих заданий."
      ]
    },
    {
      "cell_type": "code",
      "metadata": {
        "id": "ziBxGxjoojUP"
      },
      "source": [
        "f = open('raw_text.txt', 'r', encoding = 'utf-8-sig')\n",
        "text = f.read()\n",
        "f.close()"
      ],
      "execution_count": 4,
      "outputs": []
    },
    {
      "cell_type": "code",
      "metadata": {
        "id": "Dz6VTYbQw6g4",
        "outputId": "e4c98187-7588-45ad-d291-512b95630a44",
        "colab": {
          "base_uri": "https://localhost:8080/",
          "height": 52
        }
      },
      "source": [
        "text[:300]"
      ],
      "execution_count": 5,
      "outputs": [
        {
          "output_type": "execute_result",
          "data": {
            "application/vnd.google.colaboratory.intrinsic+json": {
              "type": "string"
            },
            "text/plain": [
              "'<author><first-name>Борис</first-name><middle-name>Леонидович</middle-name><last-name>Пастернак</last-name></author>\\n<book-title>Доктор Живаго</book-title>\\n<annotation><p>«Доктор Живаго» - итоговое произведение Бориса Пастернака, книга всей его жизни. Этот роман принес его автору мировую известность'"
            ]
          },
          "metadata": {
            "tags": []
          },
          "execution_count": 5
        }
      ]
    },
    {
      "cell_type": "code",
      "metadata": {
        "id": "LToLgAriw6pM"
      },
      "source": [
        "import re\n",
        "reTag = re.compile('<.*?>', re.DOTALL) #очистим текст от тегов\n",
        "reh = re.compile('[\\\\n|\\\\xa0]', re.DOTALL)\n",
        "text_clean = re.sub(reTag, ' ', text) #заменим на пробелы, чтобы слова не склеились\n",
        "text_clean = re.sub(reh, ' ', text_clean)\n",
        "text_clean = re.sub('  +', ' ', text_clean) #уберем лишние пробелы"
      ],
      "execution_count": 6,
      "outputs": []
    },
    {
      "cell_type": "code",
      "metadata": {
        "id": "atoZqfV60D5F",
        "outputId": "5aae5bdc-2559-4e09-c0b9-c7e15f44a85c",
        "colab": {
          "base_uri": "https://localhost:8080/",
          "height": 52
        }
      },
      "source": [
        "text_clean[:300]"
      ],
      "execution_count": 7,
      "outputs": [
        {
          "output_type": "execute_result",
          "data": {
            "application/vnd.google.colaboratory.intrinsic+json": {
              "type": "string"
            },
            "text/plain": [
              "' Борис Леонидович Пастернак Доктор Живаго «Доктор Живаго» - итоговое произведение Бориса Пастернака, книга всей его жизни. Этот роман принес его автору мировую известность и Нобелевскую премию, присуждение которой обернулось для поэта оголтелой политической травлей, обвинениями в «измене Родине» и в'"
            ]
          },
          "metadata": {
            "tags": []
          },
          "execution_count": 7
        }
      ]
    },
    {
      "cell_type": "code",
      "metadata": {
        "id": "6XNtdINa6sNJ"
      },
      "source": [
        ""
      ],
      "execution_count": null,
      "outputs": []
    },
    {
      "cell_type": "markdown",
      "metadata": {
        "id": "vq0YgP4xodEO"
      },
      "source": [
        "**Задание 2. (2 балла)**\n",
        "\n",
        "Приведите очищенный текст к нижнему регистру, удалите все знаки пунктуации, разделите на предложения библиотекой rusenttokenize, токенизируйте библиотекой razdel_tokenize. \n",
        "\n",
        "Ответьте на следующие вопросы:\n",
        "\n",
        "1) есть ли в тексте повторяющиеся корректные предложения? если да то какие? (если находится мусор то вернитесь к заданию 1 и постарайтесь избавиться от него)\n",
        "\n",
        "2) какой самый частотный токен в тексте длиннее 6 символов?"
      ]
    },
    {
      "cell_type": "markdown",
      "metadata": {
        "id": "u1O3Q_Wf1e98"
      },
      "source": [
        "Чтобы текст можно было разделить на предложения, уберем пунктуацию после деления, тогда же и приведем предложения к нижнему регистру"
      ]
    },
    {
      "cell_type": "code",
      "metadata": {
        "id": "N_DEP6Wy1_Kv"
      },
      "source": [
        "from rusenttokenize import ru_sent_tokenize"
      ],
      "execution_count": 8,
      "outputs": []
    },
    {
      "cell_type": "code",
      "metadata": {
        "id": "tGeKoM-82Qs6"
      },
      "source": [
        "sents = ru_sent_tokenize(text_clean)"
      ],
      "execution_count": 9,
      "outputs": []
    },
    {
      "cell_type": "code",
      "metadata": {
        "id": "THPXTUrD3Aw6",
        "outputId": "82d1465a-d01f-42fe-fcdb-2fa66ec0d93f",
        "colab": {
          "base_uri": "https://localhost:8080/"
        }
      },
      "source": [
        "sents[:5]"
      ],
      "execution_count": 10,
      "outputs": [
        {
          "output_type": "execute_result",
          "data": {
            "text/plain": [
              "['Борис Леонидович Пастернак Доктор Живаго «Доктор Живаго» - итоговое произведение Бориса Пастернака, книга всей его жизни.',\n",
              " 'Этот роман принес его автору мировую известность и Нобелевскую премию, присуждение которой обернулось для поэта оголтелой политической травлей, обвинениями в «измене Родине» и в результате стоило ему жизни.',\n",
              " '«Доктор Живаго» - роман, сама ткань которого убедительнее свидетельствует о чуде, чем все размышления доктора и обобщения автора.',\n",
              " 'Человек, который так пишет, бесконечно много пережил и передумал, и главные его чувства на свете - восхищенное умиление и слезное сострадание; конечно, есть в его мире место и презрению, и холодному отстранению - но не в них суть.',\n",
              " 'Роман Пастернака - оплакивание прежних заблуждений и их жертв; те, кто не разделяет молитвенного восторга перед миром, достойны прежде всего жалости.']"
            ]
          },
          "metadata": {
            "tags": []
          },
          "execution_count": 10
        }
      ]
    },
    {
      "cell_type": "code",
      "metadata": {
        "id": "Qf3M3SEb2gOx"
      },
      "source": [
        "#убираем всю пунктуцацию и приводим к нижнему регистру\n",
        "sents_clean = [re.sub(\"[^\\s\\w]+\", \" \", i).lower() for i in sents]\n",
        "sents_clean = [re.sub('  +', ' ', i) for i in sents_clean] #уберем лишние пробелы"
      ],
      "execution_count": 11,
      "outputs": []
    },
    {
      "cell_type": "code",
      "metadata": {
        "id": "bILK1Sr03Gdv",
        "outputId": "46fbf688-d3ca-406c-c7ee-da91bcb16900",
        "colab": {
          "base_uri": "https://localhost:8080/"
        }
      },
      "source": [
        "sents_clean[:5]"
      ],
      "execution_count": 12,
      "outputs": [
        {
          "output_type": "execute_result",
          "data": {
            "text/plain": [
              "['борис леонидович пастернак доктор живаго доктор живаго итоговое произведение бориса пастернака книга всей его жизни ',\n",
              " 'этот роман принес его автору мировую известность и нобелевскую премию присуждение которой обернулось для поэта оголтелой политической травлей обвинениями в измене родине и в результате стоило ему жизни ',\n",
              " ' доктор живаго роман сама ткань которого убедительнее свидетельствует о чуде чем все размышления доктора и обобщения автора ',\n",
              " 'человек который так пишет бесконечно много пережил и передумал и главные его чувства на свете восхищенное умиление и слезное сострадание конечно есть в его мире место и презрению и холодному отстранению но не в них суть ',\n",
              " 'роман пастернака оплакивание прежних заблуждений и их жертв те кто не разделяет молитвенного восторга перед миром достойны прежде всего жалости ']"
            ]
          },
          "metadata": {
            "tags": []
          },
          "execution_count": 12
        }
      ]
    },
    {
      "cell_type": "code",
      "metadata": {
        "id": "EcLXSg9V7DHz"
      },
      "source": [
        "#при первой попытке найти повторяющиеся предложения\n",
        "#в частотном списке оказывались одинаковые предложения по типу \"да\" и \" да\", которые отличались лишь наличием пробелов в начале строки\n",
        "#регулярное выражение ниже убирает эти пробелы\n",
        "respace = re.compile(r'^ +', flags=re.MULTILINE)\n",
        "sents_clean = [re.sub(respace, '', i) if i.startswith(' ') == True else i for i in sents_clean]"
      ],
      "execution_count": 13,
      "outputs": []
    },
    {
      "cell_type": "code",
      "metadata": {
        "id": "RZQIpDnF4Qmh"
      },
      "source": [
        "import collections\n",
        "c = collections.Counter()\n",
        "for sent in sents_clean:\n",
        "  c[sent] += 1"
      ],
      "execution_count": 14,
      "outputs": []
    },
    {
      "cell_type": "code",
      "metadata": {
        "id": "z1CFrBUT4aMc"
      },
      "source": [
        "from collections import OrderedDict\n",
        "\n",
        "sent_dict = OrderedDict(sorted(dict(c).items(), key=lambda t: t[1], reverse = True))"
      ],
      "execution_count": 15,
      "outputs": []
    },
    {
      "cell_type": "code",
      "metadata": {
        "id": "YOWz-XyoAb6t",
        "outputId": "52b883b2-6ec0-4441-cc51-684f5c9965f1",
        "colab": {
          "base_uri": "https://localhost:8080/"
        }
      },
      "source": [
        "k=0\n",
        "for i in sent_dict.keys():\n",
        "  print(i, sent_dict[i])\n",
        "  k+=1\n",
        "  if k==20:\n",
        "    break"
      ],
      "execution_count": 19,
      "outputs": [
        {
          "output_type": "stream",
          "text": [
            "да  21\n",
            "не правда ли  10\n",
            "нет  10\n",
            "хорошо  8\n",
            "а  7\n",
            "ну как же  6\n",
            "знаю  5\n",
            "погоди  5\n",
            "спасибо  5\n",
            "я знаю  5\n",
            "конечно  4\n",
            "маркел  4\n",
            "разумеется  4\n",
            "запамятовал  4\n",
            "еще бы  4\n",
            "сеялки  4\n",
            "молотилки  4\n",
            "неужели правда  4\n",
            "ха ха ха  3\n",
            "куда там  3\n"
          ],
          "name": "stdout"
        }
      ]
    },
    {
      "cell_type": "markdown",
      "metadata": {
        "id": "F6pa-QXVBbTR"
      },
      "source": [
        "Повторяющие предложения есть. Можно отметить, что это по-видимому различные короткие реплики персонажей"
      ]
    },
    {
      "cell_type": "code",
      "metadata": {
        "id": "Qq_3XYulHnHp"
      },
      "source": [
        "from razdel import sentenize\n",
        "from razdel import tokenize as razdel_tokenize"
      ],
      "execution_count": 20,
      "outputs": []
    },
    {
      "cell_type": "code",
      "metadata": {
        "id": "FgEwmw7ZIKVK"
      },
      "source": [
        "all_tokens = []\n",
        "for sent in sents_clean:\n",
        "  tokens = [token.text for token in list(razdel_tokenize(sent))]\n",
        "  for token in tokens:\n",
        "    all_tokens.append(token)"
      ],
      "execution_count": 21,
      "outputs": []
    },
    {
      "cell_type": "code",
      "metadata": {
        "id": "xyew5dJ2JH40"
      },
      "source": [
        "w = collections.Counter()\n",
        "for token in all_tokens:\n",
        "  w[token] += 1"
      ],
      "execution_count": 22,
      "outputs": []
    },
    {
      "cell_type": "code",
      "metadata": {
        "id": "jHOzki_UJSh8"
      },
      "source": [
        "token_dict = OrderedDict(sorted(dict(w).items(), key=lambda t: t[1], reverse = True))"
      ],
      "execution_count": 23,
      "outputs": []
    },
    {
      "cell_type": "code",
      "metadata": {
        "id": "cdzWYCMzKABM",
        "outputId": "73571ea5-c528-43bf-97d3-5e59dcf98893",
        "colab": {
          "base_uri": "https://localhost:8080/"
        }
      },
      "source": [
        "for i in token_dict.keys():\n",
        "  if len(i) > 6:\n",
        "    print(i, token_dict[i])\n",
        "    break"
      ],
      "execution_count": 24,
      "outputs": [
        {
          "output_type": "stream",
          "text": [
            "андреевич 289\n"
          ],
          "name": "stdout"
        }
      ]
    },
    {
      "cell_type": "markdown",
      "metadata": {
        "id": "gu3yi8viKMFL"
      },
      "source": [
        "Получилось, что самый частотный токен длиннее 6 символов - это \"Андреевич\"."
      ]
    },
    {
      "cell_type": "markdown",
      "metadata": {
        "id": "XsMafhMvovgB"
      },
      "source": [
        "**Задание 3. (2 балла)**\n",
        "\n",
        "Сделайте стемминг и найдите по несколько частотных примеров на каждый из видов ошибок:\n",
        "\n",
        "1) два разных слова ошибочно свелись к одинаковой основе\n",
        "\n",
        "2) слово не изменилось после стемминга (слово должно быть русским и длиннее 4 символов)\n",
        "\n",
        "(не делайте это задание полностью вручную, напишите правила, которые отловят потенциальные ошибки и выберите из них)"
      ]
    },
    {
      "cell_type": "code",
      "metadata": {
        "id": "FqxBcKV4o3Im"
      },
      "source": [
        "from nltk.stem.snowball import SnowballStemmer"
      ],
      "execution_count": 25,
      "outputs": []
    },
    {
      "cell_type": "code",
      "metadata": {
        "id": "KJwo_hmyLSdY"
      },
      "source": [
        "stemmer = SnowballStemmer('russian')"
      ],
      "execution_count": 26,
      "outputs": []
    },
    {
      "cell_type": "code",
      "metadata": {
        "id": "3X_19dNeLSnJ"
      },
      "source": [
        "stem_dict = {}\n",
        "for word in all_tokens:\n",
        "  if stemmer.stem(word) not in stem_dict.keys():\n",
        "    stem_dict[stemmer.stem(word)] = [word]\n",
        "  else:\n",
        "    stem_dict[stemmer.stem(word)].append(word)"
      ],
      "execution_count": 27,
      "outputs": []
    },
    {
      "cell_type": "code",
      "metadata": {
        "id": "eARqLSIvLSkB"
      },
      "source": [
        "stem_dict_2 = OrderedDict(sorted(stem_dict.items(), key=lambda t: len(t[1]), reverse = True))"
      ],
      "execution_count": 28,
      "outputs": []
    },
    {
      "cell_type": "code",
      "metadata": {
        "id": "jz978jDKM-so",
        "outputId": "0d8d4246-c934-4e0a-af6b-972e5ae7e9e4",
        "colab": {
          "base_uri": "https://localhost:8080/"
        }
      },
      "source": [
        "k=0\n",
        "for i in stem_dict_2.keys():\n",
        "  if 2 < len(i) < 4:\n",
        "    for j in range(1,len(stem_dict_2[i])):\n",
        "      if stem_dict_2[i][j] != stem_dict_2[i][0]:\n",
        "        print(i, stem_dict_2[i][:10])\n",
        "        break\n",
        "    k+=1\n",
        "    if k==30:\n",
        "      break"
      ],
      "execution_count": 40,
      "outputs": [
        {
          "output_type": "stream",
          "text": [
            "как ['как', 'как', 'какие', 'как', 'как', 'как', 'как', 'как', 'как', 'как']\n",
            "что ['что', 'что', 'что', 'что', 'что', 'что', 'что', 'что', 'что', 'что']\n",
            "был ['был', 'было', 'был', 'был', 'был', 'были', 'был', 'были', 'было', 'был']\n",
            "так ['так', 'так', 'таков', 'так', 'таким', 'так', 'такой', 'так', 'такое', 'таких']\n",
            "все ['всей', 'все', 'все', 'все', 'все', 'всею', 'все', 'всей', 'всей', 'всей']\n",
            "сво ['своей', 'своего', 'свою', 'свое', 'своих', 'своих', 'своей', 'своих', 'своей', 'своей']\n",
            "сам ['сама', 'самое', 'самому', 'самое', 'самого', 'самого', 'самое', 'самих', 'самого', 'самого']\n",
            "одн ['одном', 'одно', 'одном', 'одной', 'одна', 'одно', 'одна', 'одном', 'одного', 'одни']\n",
            "над ['надо', 'надо', 'надо', 'надо', 'над', 'над', 'над', 'надо', 'надо', 'надо']\n",
            "дом ['дома', 'домов', 'дома', 'домой', 'домом', 'доме', 'дома', 'дома', 'дома', 'дому']\n",
            "себ ['себя', 'себя', 'себе', 'себе', 'себя', 'себе', 'себя', 'себе', 'себе', 'себе']\n",
            "под ['под', 'под', 'под', 'под', 'под', 'под', 'под', 'под', 'под', 'под']\n",
            "теб ['тебя', 'тебе', 'тебя', 'тебя', 'тебя', 'тебя', 'тебя', 'тебе', 'тебя', 'тебя']\n",
            "мен ['меня', 'менее', 'меня', 'меня', 'меня', 'меня', 'меня', 'менее', 'меня', 'менее']\n",
            "рук ['руками', 'рукам', 'руку', 'рук', 'руку', 'руку', 'руки', 'руки', 'руки', 'руками']\n",
            "чем ['чем', 'чем', 'чем', 'чем', 'чем', 'чем', 'чем', 'чем', 'чем', 'чем']\n",
            "лар ['лары', 'ларе', 'лару', 'лара', 'лара', 'ларе', 'ларе', 'лара', 'лара', 'лара']\n",
            "ним ['ними', 'ним', 'ними', 'ними', 'ними', 'ним', 'ним', 'ним', 'ними', 'ним']\n",
            "дел ['делом', 'дело', 'дело', 'дело', 'делая', 'дело', 'дело', 'деле', 'дело', 'дело']\n",
            "пот ['потом', 'потому', 'потому', 'потом', 'потом', 'потому', 'потому', 'пота', 'потом', 'потом']\n",
            "быт ['быть', 'быть', 'быта', 'быть', 'быть', 'быть', 'быть', 'быть', 'быть', 'быть']\n",
            "раз ['раз', 'раз', 'раза', 'раз', 'раз', 'раз', 'раз', 'раз', 'раз', 'раз']\n"
          ],
          "name": "stdout"
        }
      ]
    },
    {
      "cell_type": "markdown",
      "metadata": {
        "id": "wEdC5uAQ5l3e"
      },
      "source": [
        "Были найдены такие случаи приведения разных слов к одной основе: как - какие, вид - видеть, над - надо, меня - менее\n",
        "\n",
        "Однако в подобных случаях сведение к одной основе, кажется, вполне оправдано, видимо для выявления именно вариантов с неправильным стеммингом, нужна какая-то дополнительная обработка"
      ]
    },
    {
      "cell_type": "code",
      "metadata": {
        "id": "J5X9aJny7k2s"
      },
      "source": [
        "no_change = {}\n",
        "for word in all_tokens:\n",
        "  if len(stemmer.stem(word)) > 4 and word == stemmer.stem(word):\n",
        "    if word not in no_change.keys():\n",
        "      no_change[word] = stemmer.stem(word)"
      ],
      "execution_count": 43,
      "outputs": []
    },
    {
      "cell_type": "code",
      "metadata": {
        "id": "lKE8mOtS9IBE",
        "outputId": "dc55ad03-d774-44ee-f6dd-665209b5f5a0",
        "colab": {
          "base_uri": "https://localhost:8080/"
        }
      },
      "source": [
        "k=0\n",
        "for i in no_change.keys():\n",
        "  print(i, no_change[i])\n",
        "  k+=1\n",
        "  if k==10:\n",
        "    break"
      ],
      "execution_count": 45,
      "outputs": [
        {
          "output_type": "stream",
          "text": [
            "борис борис\n",
            "леонидович леонидович\n",
            "пастернак пастернак\n",
            "доктор доктор\n",
            "принес принес\n",
            "человек человек\n",
            "пишет пишет\n",
            "жертв жертв\n",
            "перед перед\n",
            "строк строк\n"
          ],
          "name": "stdout"
        }
      ]
    },
    {
      "cell_type": "markdown",
      "metadata": {
        "id": "5ACef4Qm9s_Y"
      },
      "source": [
        "Можно заметить, что слово \"пишет\" не изменилось, хотя основа должна была бы быть \"пиш\""
      ]
    },
    {
      "cell_type": "markdown",
      "metadata": {
        "id": "actVqYz8o6IY"
      },
      "source": [
        "**Задание 4 (1 балл).**\n",
        "\n",
        "Проанализируйте список стоп-слов из нлтк (для русского). Какие ещё слова вы бы туда добавили? (5 слов будет достаточно, не забудьте аргументировать ваш выбор)\n"
      ]
    },
    {
      "cell_type": "code",
      "metadata": {
        "id": "D20EuJxoo7PB",
        "outputId": "5d2aafe5-8bb1-4181-e7b1-d9850e93b072",
        "colab": {
          "base_uri": "https://localhost:8080/"
        }
      },
      "source": [
        "import nltk\n",
        "nltk.download(\"stopwords\")\n",
        "from nltk.corpus import stopwords"
      ],
      "execution_count": 47,
      "outputs": [
        {
          "output_type": "stream",
          "text": [
            "[nltk_data] Downloading package stopwords to /root/nltk_data...\n",
            "[nltk_data]   Unzipping corpora/stopwords.zip.\n"
          ],
          "name": "stdout"
        }
      ]
    },
    {
      "cell_type": "code",
      "metadata": {
        "id": "U1G9UcEQ_Bl_",
        "outputId": "9bb587a8-f3ea-4e2f-e578-56da42eb3277",
        "colab": {
          "base_uri": "https://localhost:8080/"
        }
      },
      "source": [
        "print(stopwords.words(\"russian\"))"
      ],
      "execution_count": 54,
      "outputs": [
        {
          "output_type": "stream",
          "text": [
            "['и', 'в', 'во', 'не', 'что', 'он', 'на', 'я', 'с', 'со', 'как', 'а', 'то', 'все', 'она', 'так', 'его', 'но', 'да', 'ты', 'к', 'у', 'же', 'вы', 'за', 'бы', 'по', 'только', 'ее', 'мне', 'было', 'вот', 'от', 'меня', 'еще', 'нет', 'о', 'из', 'ему', 'теперь', 'когда', 'даже', 'ну', 'вдруг', 'ли', 'если', 'уже', 'или', 'ни', 'быть', 'был', 'него', 'до', 'вас', 'нибудь', 'опять', 'уж', 'вам', 'ведь', 'там', 'потом', 'себя', 'ничего', 'ей', 'может', 'они', 'тут', 'где', 'есть', 'надо', 'ней', 'для', 'мы', 'тебя', 'их', 'чем', 'была', 'сам', 'чтоб', 'без', 'будто', 'чего', 'раз', 'тоже', 'себе', 'под', 'будет', 'ж', 'тогда', 'кто', 'этот', 'того', 'потому', 'этого', 'какой', 'совсем', 'ним', 'здесь', 'этом', 'один', 'почти', 'мой', 'тем', 'чтобы', 'нее', 'сейчас', 'были', 'куда', 'зачем', 'всех', 'никогда', 'можно', 'при', 'наконец', 'два', 'об', 'другой', 'хоть', 'после', 'над', 'больше', 'тот', 'через', 'эти', 'нас', 'про', 'всего', 'них', 'какая', 'много', 'разве', 'три', 'эту', 'моя', 'впрочем', 'хорошо', 'свою', 'этой', 'перед', 'иногда', 'лучше', 'чуть', 'том', 'нельзя', 'такой', 'им', 'более', 'всегда', 'конечно', 'всю', 'между']\n"
          ],
          "name": "stdout"
        }
      ]
    },
    {
      "cell_type": "markdown",
      "metadata": {
        "id": "3tXQYANw_uYZ"
      },
      "source": [
        "Мне кажется, стоило бы добавить к списку некоторые синонимы тех слов, что уже есть в списке, а также слова-паразиты (если конечно в исследовании именно они и не рассматриваются)"
      ]
    },
    {
      "cell_type": "code",
      "metadata": {
        "id": "zmjNRLHuBgEa",
        "outputId": "b91648e0-ddd4-4323-ff7b-9f732c2465d1",
        "colab": {
          "base_uri": "https://localhost:8080/"
        }
      },
      "source": [
        "'почти' in stopwords.words(\"russian\"), 'едва' in stopwords.words(\"russian\")"
      ],
      "execution_count": 61,
      "outputs": [
        {
          "output_type": "execute_result",
          "data": {
            "text/plain": [
              "(True, False)"
            ]
          },
          "metadata": {
            "tags": []
          },
          "execution_count": 61
        }
      ]
    },
    {
      "cell_type": "code",
      "metadata": {
        "id": "VlDPo9W9AX-e",
        "outputId": "1ebd9609-26aa-45a3-99ae-46ca5b7f5025",
        "colab": {
          "base_uri": "https://localhost:8080/"
        }
      },
      "source": [
        "'короче' in stopwords.words(\"russian\"), 'таки' in stopwords.words(\"russian\")"
      ],
      "execution_count": 60,
      "outputs": [
        {
          "output_type": "execute_result",
          "data": {
            "text/plain": [
              "(False, False)"
            ]
          },
          "metadata": {
            "tags": []
          },
          "execution_count": 60
        }
      ]
    },
    {
      "cell_type": "markdown",
      "metadata": {
        "id": "afa-O779o-xb"
      },
      "source": [
        "**Задание 5 (3 балла).**\n",
        "\n",
        "Предобработайте текст двумя способами:\n",
        "\n",
        "1) лемматизируйте токены с помощью pymorphy2\n",
        "\n",
        "2) лемматизируйте текст с помощью mystem3 \n",
        "\n",
        "Ответьте на вопрос:\n",
        "Что в данном случае лучше для лемматизации mystem или pymorphy?"
      ]
    },
    {
      "cell_type": "code",
      "metadata": {
        "id": "Kg_4HjW9pA8w"
      },
      "source": [
        "from pymorphy2 import MorphAnalyzer\n",
        "from pymystem3 import Mystem"
      ],
      "execution_count": 62,
      "outputs": []
    },
    {
      "cell_type": "code",
      "metadata": {
        "id": "iZ4IatQECUFE",
        "outputId": "974a6549-8394-49e6-cbb8-0a7f7695647a",
        "colab": {
          "base_uri": "https://localhost:8080/"
        }
      },
      "source": [
        "morph = MorphAnalyzer()\n",
        "mystem = Mystem()"
      ],
      "execution_count": 63,
      "outputs": [
        {
          "output_type": "stream",
          "text": [
            "Installing mystem to /root/.local/bin/mystem from http://download.cdn.yandex.net/mystem/mystem-3.0-linux3.1-64bit.tar.gz\n"
          ],
          "name": "stderr"
        }
      ]
    },
    {
      "cell_type": "code",
      "metadata": {
        "id": "sANeoXp4CX4z"
      },
      "source": [
        "lemmas_pm2 = [morph.parse(token)[0].normal_form for token in all_tokens]"
      ],
      "execution_count": 64,
      "outputs": []
    },
    {
      "cell_type": "code",
      "metadata": {
        "id": "oYLy6yJZCqHB"
      },
      "source": [
        "lemmas_mt3 = mystem.lemmatize(text_clean)"
      ],
      "execution_count": 65,
      "outputs": []
    },
    {
      "cell_type": "markdown",
      "metadata": {
        "id": "xvw8YilCDa4M"
      },
      "source": [
        "Сравним результаты лемматизации"
      ]
    },
    {
      "cell_type": "code",
      "metadata": {
        "id": "AcKEIbMADO6P",
        "outputId": "0f476256-8785-44c6-a2b4-006432b493db",
        "colab": {
          "base_uri": "https://localhost:8080/",
          "height": 69
        }
      },
      "source": [
        "text_clean[:400]"
      ],
      "execution_count": 71,
      "outputs": [
        {
          "output_type": "execute_result",
          "data": {
            "application/vnd.google.colaboratory.intrinsic+json": {
              "type": "string"
            },
            "text/plain": [
              "' Борис Леонидович Пастернак Доктор Живаго «Доктор Живаго» - итоговое произведение Бориса Пастернака, книга всей его жизни. Этот роман принес его автору мировую известность и Нобелевскую премию, присуждение которой обернулось для поэта оголтелой политической травлей, обвинениями в «измене Родине» и в результате стоило ему жизни. «Доктор Живаго» - роман, сама ткань которого убедительнее свидетельств'"
            ]
          },
          "metadata": {
            "tags": []
          },
          "execution_count": 71
        }
      ]
    },
    {
      "cell_type": "code",
      "metadata": {
        "id": "N3zyrbQ6DgPL",
        "outputId": "b5b2adcc-2073-4ce3-b028-406f9b487f2e",
        "colab": {
          "base_uri": "https://localhost:8080/"
        }
      },
      "source": [
        "print(lemmas_pm2[:51])"
      ],
      "execution_count": 79,
      "outputs": [
        {
          "output_type": "stream",
          "text": [
            "['борис', 'леонидович', 'пастернак', 'доктор', 'живаго', 'доктор', 'живаго', 'итоговый', 'произведение', 'борис', 'пастернак', 'книга', 'весь', 'он', 'жизнь', 'этот', 'роман', 'принести', 'он', 'автор', 'мировой', 'известность', 'и', 'нобелевский', 'премия', 'присуждение', 'который', 'обернуться', 'для', 'поэт', 'оголтелый', 'политический', 'травля', 'обвинение', 'в', 'измена', 'родина', 'и', 'в', 'результат', 'стоить', 'он', 'жизнь', 'доктор', 'живаго', 'роман', 'сам', 'ткань', 'который', 'убедительный', 'свидетельствовать']\n"
          ],
          "name": "stdout"
        }
      ]
    },
    {
      "cell_type": "code",
      "metadata": {
        "id": "DlD7ywRHDtl9",
        "outputId": "a435f4cd-e0ce-4f8c-95a8-fc00a5c97997",
        "colab": {
          "base_uri": "https://localhost:8080/"
        }
      },
      "source": [
        "print(lemmas_mt3[:200])"
      ],
      "execution_count": 78,
      "outputs": [
        {
          "output_type": "stream",
          "text": [
            "[' ', 'борис', ' ', 'леонидович', ' ', 'пастернак', ' ', 'доктор', ' ', 'живаго', ' «', 'доктор', ' ', 'живаго', '» - ', 'итоговый', ' ', 'произведение', ' ', 'борис', ' ', 'пастернак', ', ', 'книга', ' ', 'весь', ' ', 'его', ' ', 'жизнь', '. ', 'этот', ' ', 'роман', ' ', 'приносить', ' ', 'он', ' ', 'автор', ' ', 'мировой', ' ', 'известность', ' ', 'и', ' ', 'нобелевский', ' ', 'премия', ', ', 'присуждение', ' ', 'который', ' ', 'обертываться', ' ', 'для', ' ', 'поэт', ' ', 'оголтелый', ' ', 'политический', ' ', 'травля', ', ', 'обвинение', ' ', 'в', ' «', 'измена', ' ', 'родина', '» ', 'и', ' ', 'в', ' ', 'результат', ' ', 'стоить', ' ', 'он', ' ', 'жизнь', '. ', '«', 'доктор', ' ', 'живаго', '» - ', 'роман', ', ', 'сам', ' ', 'ткань', ' ', 'который', ' ', 'убедительно', ' ', 'свидетельствовать', ' ', 'о', ' ', 'чудо', ', ', 'чем', ' ', 'весь', ' ', 'размышление', ' ', 'доктор', ' ', 'и', ' ', 'обобщение', ' ', 'автор', '. ', 'человек', ', ', 'который', ' ', 'так', ' ', 'писать', ', ', 'бесконечно', ' ', 'много', ' ', 'переживать', ' ', 'и', ' ', 'передумывать', ', ', 'и', ' ', 'главный', ' ', 'его', ' ', 'чувство', ' ', 'на', ' ', 'свет', ' - ', 'восхищенный', ' ', 'умиление', ' ', 'и', ' ', 'слезный', ' ', 'сострадание', '; ', 'конечно', ', ', 'быть', ' ', 'в', ' ', 'его', ' ', 'мир', ' ', 'место', ' ', 'и', ' ', 'презрение', ', ', 'и', ' ', 'холодный', ' ', 'отстранение', ' - ', 'но', ' ', 'не', ' ', 'в', ' ', 'они', ' ', 'суть', '. ', 'роман', ' ', 'пастернак', ' - ', 'оплакивание', ' ']\n"
          ],
          "name": "stdout"
        }
      ]
    },
    {
      "cell_type": "code",
      "metadata": {
        "id": "8mxnC54PGJBI"
      },
      "source": [
        "lemmas_mt3_clean = []\n",
        "for i in lemmas_mt3:\n",
        "  if re.findall(r'\\w+', i) != []:\n",
        "    lemmas_mt3_clean.append(i)"
      ],
      "execution_count": 84,
      "outputs": []
    },
    {
      "cell_type": "code",
      "metadata": {
        "id": "X_dLGtC3Ga6s",
        "outputId": "a0056ba8-ea77-4273-c0ab-30dfeff900b4",
        "colab": {
          "base_uri": "https://localhost:8080/"
        }
      },
      "source": [
        "len(lemmas_pm2), len(lemmas_mt3), len(lemmas_mt3_clean)"
      ],
      "execution_count": 85,
      "outputs": [
        {
          "output_type": "execute_result",
          "data": {
            "text/plain": [
              "(161800, 310221, 154149)"
            ]
          },
          "metadata": {
            "tags": []
          },
          "execution_count": 85
        }
      ]
    },
    {
      "cell_type": "code",
      "metadata": {
        "id": "Ia77WL9jGhZo",
        "outputId": "a603fee0-659c-42fc-bc75-c5d390344f29",
        "colab": {
          "base_uri": "https://localhost:8080/"
        }
      },
      "source": [
        "for i in range(150):\n",
        "  if lemmas_pm2[i] != lemmas_mt3_clean[i]:\n",
        "    print(i, all_tokens[i], lemmas_pm2[i], lemmas_mt3_clean[i])"
      ],
      "execution_count": 93,
      "outputs": [
        {
          "output_type": "stream",
          "text": [
            "13 его он его\n",
            "17 принес принести приносить\n",
            "27 обернулось обернуться обертываться\n",
            "49 убедительнее убедительный убедительно\n",
            "54 все всё весь\n",
            "66 пережил пережить переживать\n",
            "68 передумал передумать передумывать\n",
            "71 его он его\n",
            "75 восхищенное восхитить восхищенный\n",
            "78 слезное слёзный слезный\n",
            "81 есть есть быть\n",
            "83 его он его\n",
            "95 суть быть суть\n",
            "102 их они их\n",
            "114 всего весь все\n",
            "119 стоит стоить стоять\n",
            "132 этого это этот\n"
          ],
          "name": "stdout"
        }
      ]
    },
    {
      "cell_type": "markdown",
      "metadata": {
        "id": "ASGB4BwYM23U"
      },
      "source": [
        "Проверим контексты некоторых употреблений"
      ]
    },
    {
      "cell_type": "code",
      "metadata": {
        "id": "bjKPMrGKISsR",
        "outputId": "b63cde99-df2c-4a98-f752-99753c7b93b9",
        "colab": {
          "base_uri": "https://localhost:8080/"
        }
      },
      "source": [
        "for i in range(110, 120):\n",
        "  print(all_tokens[i])"
      ],
      "execution_count": 95,
      "outputs": [
        {
          "output_type": "stream",
          "text": [
            "перед\n",
            "миром\n",
            "достойны\n",
            "прежде\n",
            "всего\n",
            "жалости\n",
            "перечитывать\n",
            "доктора\n",
            "живаго\n",
            "стоит\n"
          ],
          "name": "stdout"
        }
      ]
    },
    {
      "cell_type": "code",
      "metadata": {
        "id": "ggmuUFgXJWyu",
        "outputId": "2ff123d7-1244-4ca1-da65-c65c1bd9d3b2",
        "colab": {
          "base_uri": "https://localhost:8080/"
        }
      },
      "source": [
        "for i in range(50, 60):\n",
        "  print(all_tokens[i])"
      ],
      "execution_count": 97,
      "outputs": [
        {
          "output_type": "stream",
          "text": [
            "свидетельствует\n",
            "о\n",
            "чуде\n",
            "чем\n",
            "все\n",
            "размышления\n",
            "доктора\n",
            "и\n",
            "обобщения\n",
            "автора\n"
          ],
          "name": "stdout"
        }
      ]
    },
    {
      "cell_type": "code",
      "metadata": {
        "id": "dw8u3SlrIvT4",
        "outputId": "4adf42a2-e1fb-4557-ec04-97f4ae6132e2",
        "colab": {
          "base_uri": "https://localhost:8080/"
        }
      },
      "source": [
        "for i in range(130, 135):\n",
        "  print(all_tokens[i])"
      ],
      "execution_count": 96,
      "outputs": [
        {
          "output_type": "stream",
          "text": [
            "строк\n",
            "из\n",
            "этого\n",
            "романа\n",
            "могут\n"
          ],
          "name": "stdout"
        }
      ]
    },
    {
      "cell_type": "code",
      "metadata": {
        "id": "U1a8c9iXK-IH",
        "outputId": "28c23320-08df-4a47-ea4d-26d4ee02353f",
        "colab": {
          "base_uri": "https://localhost:8080/"
        }
      },
      "source": [
        "for i in range(75, 100):\n",
        "  print(all_tokens[i])"
      ],
      "execution_count": 99,
      "outputs": [
        {
          "output_type": "stream",
          "text": [
            "восхищенное\n",
            "умиление\n",
            "и\n",
            "слезное\n",
            "сострадание\n",
            "конечно\n",
            "есть\n",
            "в\n",
            "его\n",
            "мире\n",
            "место\n",
            "и\n",
            "презрению\n",
            "и\n",
            "холодному\n",
            "отстранению\n",
            "но\n",
            "не\n",
            "в\n",
            "них\n",
            "суть\n",
            "роман\n",
            "пастернака\n",
            "оплакивание\n",
            "прежних\n"
          ],
          "name": "stdout"
        }
      ]
    },
    {
      "cell_type": "markdown",
      "metadata": {
        "id": "W_wGT0ZuJOP7"
      },
      "source": [
        "Кажется, что расхождения в лемматизации возникают в основном с местоимениями и глаголами.\n",
        "\n",
        "С одной стороны, Mystem не справляется с формами личных местоимений (его, их, всего), с другой - он лучше детектирует формы в контексте (этого, все), например, \"этого романа\" -> \"этот\", а не \"это\".\n",
        "\n",
        "Также Pymorphy в отличие от Mystem сохраняет вид глагола (принести, пережить, передумать (ср. передумывать)), однако Mystem опять же лучше понимает значение в контексте (суть - быть - суть, есть - есть - быть)\n",
        "\n",
        "Можно сделать вывод, что них обоих есть свои плюсы и минусы."
      ]
    },
    {
      "cell_type": "code",
      "metadata": {
        "id": "1iIoPQ2MGqAM"
      },
      "source": [
        ""
      ],
      "execution_count": null,
      "outputs": []
    }
  ]
}